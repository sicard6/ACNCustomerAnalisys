{
 "cells": [
  {
   "cell_type": "code",
   "execution_count": 19,
   "metadata": {},
   "outputs": [],
   "source": [
    "import pandas as pd\n",
    "import requests"
   ]
  },
  {
   "cell_type": "code",
   "execution_count": 15,
   "metadata": {},
   "outputs": [],
   "source": [
    "def extraer(start_date: str, end_date: str):\n",
    "    \"\"\"Función que extrae le precio del Brent en USD por medio de una API.\n",
    "    Extrae la información de interes y la almacena en el Data Frame.\n",
    "\n",
    "    Args:\n",
    "        start_date (str): Fecha desde la que se obtendrán los datos.\n",
    "        end_date (str): Fecha hasta la que se obtendrán los datos.\n",
    "\n",
    "    Returns:\n",
    "        pd.DataFrame: Data Frame con 5 columnas:\n",
    "        date | Granularidad | Indicador | Unidad | Valor\n",
    "    \"\"\"\n",
    "    url = 'https://www.alphavantage.co/query?function=BRENT&interval=monthly&apikey=1W4H8KKSYD89ZCZ4'\n",
    "    r = requests.get(url, verify=False)\n",
    "    data = r.json()\n",
    "    \n",
    "    df = pd.DataFrame(pd.json_normalize(data['data']))\n",
    "    df['date'] = df['date'].map(lambda x: '-'.join(x.split('-')[::-1]))\n",
    "\n",
    "    try:\n",
    "        start = df[df['date'] == start_date].index[0]\n",
    "    except IndexError:\n",
    "        start = 0\n",
    "\n",
    "    try:\n",
    "        end = df[df['date'] == end_date].index[0]\n",
    "    except IndexError:\n",
    "        end = len(df) - 1\n",
    "      \n",
    "    df = df.loc[start:end, :].reset_index().drop(['index'], axis=1)\n",
    "    \n",
    "    df['Granularidad'] = 'Diario'\n",
    "    df['Indicador'] = 'Brent'\n",
    "    df['Unidad'] = 'USD'\n",
    "    df['Valor'] = df['value']\n",
    "    df.drop('value',axis=1,inplace=True)\n",
    "    \n",
    "    return df"
   ]
  },
  {
   "cell_type": "code",
   "execution_count": 18,
   "metadata": {},
   "outputs": [
    {
     "name": "stderr",
     "output_type": "stream",
     "text": [
      "C:\\Users\\andres.ospina\\AppData\\Roaming\\Python\\Python311\\site-packages\\urllib3\\connectionpool.py:1045: InsecureRequestWarning: Unverified HTTPS request is being made to host 'www.alphavantage.co'. Adding certificate verification is strongly advised. See: https://urllib3.readthedocs.io/en/1.26.x/advanced-usage.html#ssl-warnings\n",
      "  warnings.warn(\n"
     ]
    },
    {
     "name": "stdout",
     "output_type": "stream",
     "text": [
      "          date Granularidad Indicador Unidad  Valor\n",
      "0   01-01-1990       Diario     Brent    USD  21.25\n",
      "1   01-12-1989       Diario     Brent    USD  19.84\n",
      "2   01-11-1989       Diario     Brent    USD  18.73\n",
      "3   01-10-1989       Diario     Brent    USD  18.91\n",
      "4   01-09-1989       Diario     Brent    USD  17.77\n",
      "5   01-08-1989       Diario     Brent    USD  16.77\n",
      "6   01-07-1989       Diario     Brent    USD  17.62\n",
      "7   01-06-1989       Diario     Brent    USD  17.67\n",
      "8   01-05-1989       Diario     Brent    USD  18.63\n",
      "9   01-04-1989       Diario     Brent    USD  20.32\n",
      "10  01-03-1989       Diario     Brent    USD  18.70\n",
      "11  01-02-1989       Diario     Brent    USD  16.89\n",
      "12  01-01-1989       Diario     Brent    USD  17.17\n",
      "13  01-12-1988       Diario     Brent    USD  15.31\n",
      "14  01-11-1988       Diario     Brent    USD  13.02\n",
      "15  01-10-1988       Diario     Brent    USD  12.41\n",
      "16  01-09-1988       Diario     Brent    USD  13.18\n",
      "17  01-08-1988       Diario     Brent    USD  14.89\n",
      "18  01-07-1988       Diario     Brent    USD  14.91\n",
      "19  01-06-1988       Diario     Brent    USD  15.54\n",
      "20  01-05-1988       Diario     Brent    USD  16.31\n",
      "21  01-04-1988       Diario     Brent    USD  16.60\n",
      "22  01-03-1988       Diario     Brent    USD  14.73\n",
      "23  01-02-1988       Diario     Brent    USD  15.73\n",
      "24  01-01-1988       Diario     Brent    USD  16.75\n",
      "25  01-12-1987       Diario     Brent    USD  17.05\n",
      "26  01-11-1987       Diario     Brent    USD  17.78\n",
      "27  01-10-1987       Diario     Brent    USD  18.76\n",
      "28  01-09-1987       Diario     Brent    USD  18.31\n",
      "29  01-08-1987       Diario     Brent    USD  18.98\n",
      "30  01-07-1987       Diario     Brent    USD  19.86\n",
      "31  01-06-1987       Diario     Brent    USD  18.86\n",
      "32  01-05-1987       Diario     Brent    USD  18.58\n"
     ]
    }
   ],
   "source": [
    "print(extraer('01-01-1990', '01-01-2040'))"
   ]
  }
 ],
 "metadata": {
  "kernelspec": {
   "display_name": "Python 3",
   "language": "python",
   "name": "python3"
  },
  "language_info": {
   "codemirror_mode": {
    "name": "ipython",
    "version": 3
   },
   "file_extension": ".py",
   "mimetype": "text/x-python",
   "name": "python",
   "nbconvert_exporter": "python",
   "pygments_lexer": "ipython3",
   "version": "3.11.1"
  },
  "orig_nbformat": 4
 },
 "nbformat": 4,
 "nbformat_minor": 2
}
