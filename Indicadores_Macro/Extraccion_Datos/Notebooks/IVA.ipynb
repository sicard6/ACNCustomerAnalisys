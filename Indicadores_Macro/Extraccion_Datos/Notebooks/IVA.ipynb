{
 "cells": [
  {
   "attachments": {},
   "cell_type": "markdown",
   "metadata": {},
   "source": [
    "### Extracción de Estadísticas de Recaudo Mensual por Tipo de Impuesto\n",
    "[Link](https://www.dian.gov.co/dian/cifras/Paginas/EstadisticasRecaudo.aspx)"
   ]
  },
  {
   "cell_type": "code",
   "execution_count": 1,
   "metadata": {},
   "outputs": [],
   "source": [
    "from selenium.webdriver.common.by import By\n",
    "from datetime import datetime\n",
    "import selenium as sel\n",
    "import pandas as pd\n",
    "import zipfile\n",
    "import time\n",
    "import glob\n",
    "import sys\n",
    "import os\n",
    "\n",
    "cwd = os.getcwd()\n",
    "cwd = cwd.replace(\"Notebooks\", \"Scripts\")\n",
    "sys.path.insert(0, cwd.replace(\"\\\\\\\\\", \"\\\\\"))\n",
    "import base as bs"
   ]
  },
  {
   "cell_type": "code",
   "execution_count": 3,
   "metadata": {},
   "outputs": [],
   "source": [
    "def extraer(start_date: str, end_date: str):\n",
    "    \"\"\"Función que ingresa a la página de la DIAN y descarga las\n",
    "    Estadísticas de Recaudo Mensual por Tipo de Impuesto. \n",
    "    Extrae la información de interes y la almacena en el Data Frame.\n",
    "\n",
    "    Args:\n",
    "        start_date (str): Fecha desde la que se obtendrán los datos.\n",
    "        end_date (str): Fecha hasta la que se obtendrán los datos.\n",
    "\n",
    "    Returns:\n",
    "        pd.DataFrame: Data Frame con 5 columnas:\n",
    "        date | Granularidad | Indicador | Unidad | Valor\n",
    "    \"\"\"\n",
    "    driver = bs.ejecutar_driver('https://www.dian.gov.co/dian/cifras/Paginas/EstadisticasRecaudo.aspx', True)\n",
    "    iva = driver.find_elements(By.XPATH, './/div[@class=\"panel panel-default\"]')[2]\n",
    "    nombre_archivo = iva.find_element(By.XPATH, './/a').text.replace('í', 'i').replace(' ', '-').replace('---', '-')\n",
    "    sec = iva.find_element(By.XPATH, './/div[@class=\"panel-collapse collapse\"]')\n",
    "    url_archivo = sec.find_element(By.XPATH, './/a').get_attribute('href')\n",
    "    \n",
    "    driver.get(url_archivo)\n",
    "    \n",
    "    time.sleep(10)\n",
    "    driver.quit()\n",
    "\n",
    "    # try:\n",
    "    #     os.remove(path+'/Data/Raw/IVA.xlsx')\n",
    "    # except:\n",
    "    #     pass\n",
    "\n",
    "    path_to_zip_file = '/Users/'+os.getlogin()+'/Downloads/' + \\\n",
    "        nombre_archivo.capitalize()+'.zip'\n",
    "    # directory_to_extract_to = path+'/Data/Raw'\n",
    "\n",
    "    with zipfile.ZipFile(path_to_zip_file, 'r') as zip_ref:\n",
    "        zip_ref.extractall('/Users/'+os.getlogin()+'/Downloads/')\n",
    "\n",
    "    os.remove(path_to_zip_file)\n",
    "\n",
    "    lista_de_archivos = glob.glob('/Users/'+os.getlogin()+'/Downloads/*')\n",
    "    fuente_archivo = max(lista_de_archivos, key=os.path.getctime).replace('\\\\', '/')\n",
    "\n",
    "    df = pd.read_excel(fuente_archivo, header=7)\n",
    "    df.drop(df.tail(3).index,inplace=True)\n",
    "    df.drop(0, inplace=True)\n",
    "    df.rename(columns={'Unnamed: 0': 'Año'}, inplace=True)\n",
    "    df['Año'] = df['Año'].map(lambda x: int(x.replace('(p)**', '').strip()) if isinstance(x, str) else x)\n",
    "    \n",
    "    \n",
    "    aux_1 = start_date.split('-')\n",
    "    aux_2 = end_date.split('-')\n",
    "    \n",
    "    try:\n",
    "        start = df[(df['Año'] == int(aux_1[2]))].index[0]\n",
    "    except IndexError:\n",
    "        start = 0\n",
    "        \n",
    "    try:\n",
    "        end = df[(df['Año'] == int(aux_2[2]))].index[0]\n",
    "    except IndexError:\n",
    "        end = len(df) - 1\n",
    "    \n",
    "    df['date'] = '01-01-'+df['Año'].map(str)\n",
    "    df['Granularidad'] = 'Anual'\n",
    "    df['Indicador'] = 'IVA'\n",
    "    df['Unidad'] = 'COP'\n",
    "    df.rename(columns={'IVA ': 'Valor'}, inplace=True)\n",
    "\n",
    "    df = df.loc[start:end, ['date', 'Granularidad', 'Indicador',\n",
    "                            'Unidad', 'Valor']].reset_index().drop(['index'], axis=1)\n",
    "    # os.rename(fuente, '/'.join(fuente.split('/')[:-1])+'/IVA.xlsx')\n",
    "    os.remove(fuente_archivo)\n",
    "    return df"
   ]
  },
  {
   "cell_type": "code",
   "execution_count": null,
   "metadata": {},
   "outputs": [],
   "source": [
    "print(extraer('01-01-1990', '01-01-2040'))"
   ]
  }
 ],
 "metadata": {
  "kernelspec": {
   "display_name": "Python 3",
   "language": "python",
   "name": "python3"
  },
  "language_info": {
   "codemirror_mode": {
    "name": "ipython",
    "version": 3
   },
   "file_extension": ".py",
   "mimetype": "text/x-python",
   "name": "python",
   "nbconvert_exporter": "python",
   "pygments_lexer": "ipython3",
   "version": "3.11.1"
  },
  "orig_nbformat": 4
 },
 "nbformat": 4,
 "nbformat_minor": 2
}
