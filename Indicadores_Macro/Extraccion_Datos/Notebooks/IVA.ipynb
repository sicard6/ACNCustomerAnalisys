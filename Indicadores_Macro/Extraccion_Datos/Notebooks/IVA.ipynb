{
 "cells": [
  {
   "attachments": {},
   "cell_type": "markdown",
   "metadata": {},
   "source": [
    "### Extracción de Estadísticas de Recaudo Mensual por Tipo de Impuesto\n",
    "[Link](https://www.dian.gov.co/dian/cifras/Paginas/EstadisticasRecaudo.aspx)"
   ]
  },
  {
   "cell_type": "code",
   "execution_count": 1,
   "metadata": {},
   "outputs": [],
   "source": [
    "from selenium.webdriver.common.by import By\n",
    "import selenium as sel\n",
    "import zipfile\n",
    "import time\n",
    "import glob\n",
    "import sys\n",
    "import os\n",
    "\n",
    "cwd = os.getcwd()\n",
    "cwd = cwd.replace(\"Notebooks\", \"Scripts\")\n",
    "sys.path.insert(0, cwd.replace(\"\\\\\\\\\", \"\\\\\"))\n",
    "import base as bs"
   ]
  },
  {
   "cell_type": "code",
   "execution_count": 2,
   "metadata": {},
   "outputs": [],
   "source": [
    "path = 'C:/Users/'+os.getlogin()+'/OneDrive - Accenture/ACNCustomerAnalysis/Indicadores_Macro'"
   ]
  },
  {
   "cell_type": "code",
   "execution_count": 9,
   "metadata": {},
   "outputs": [],
   "source": [
    "driver = bs.ejecutar_driver('https://www.dian.gov.co/dian/cifras/Paginas/EstadisticasRecaudo.aspx', True)"
   ]
  },
  {
   "cell_type": "code",
   "execution_count": 10,
   "metadata": {},
   "outputs": [],
   "source": [
    "def extraer_iva(driver: sel.webdriver.Edge):\n",
    "    \"\"\"Función que ingresa a la página de la DIAN y descarga las\n",
    "    Estadísticas de Recaudo Mensual por Tipo de Impuesto. \n",
    "    Extrae el archico del zip y lo almacena en en la data cruda.\n",
    "\n",
    "    Args:\n",
    "        driver (sel.webdriver.Edge): driver de selenium\n",
    "    \"\"\"\n",
    "    iva = driver.find_elements(By.XPATH, './/div[@class=\"panel panel-default\"]')[3]\n",
    "    nombre_archivo = iva.find_element(By.XPATH, './/a').text.replace('í', 'i').replace(' ', '-').replace('---', '-')\n",
    "    sec = iva.find_element(By.XPATH, './/div[@class=\"panel-collapse collapse\"]')\n",
    "    url_archivo = sec.find_element(By.XPATH, './/a').get_attribute('href')\n",
    "    \n",
    "    driver.get(url_archivo)\n",
    "    \n",
    "    time.sleep(10)\n",
    "    driver.quit()\n",
    "    \n",
    "    try:\n",
    "        os.remove(path+'/Data/Raw/IVA.xlsx')\n",
    "    except:\n",
    "        pass\n",
    "    \n",
    "    path_to_zip_file = '/Users/'+os.getlogin()+'/Downloads/'+nombre_archivo.capitalize()+'.zip'\n",
    "    directory_to_extract_to = path+'/Data/Raw'\n",
    "    \n",
    "    with zipfile.ZipFile(path_to_zip_file, 'r') as zip_ref:\n",
    "        zip_ref.extractall(directory_to_extract_to)\n",
    "        \n",
    "    os.remove(path_to_zip_file)\n",
    "    \n",
    "    lista_de_archivos = glob.glob(path+'/Data/Raw/*')\n",
    "    fuente = max(lista_de_archivos, key=os.path.getctime).replace('\\\\', '/')\n",
    "    \n",
    "    os.rename(fuente, '/'.join(fuente.split('/')[:-1])+'/IVA.xlsx')"
   ]
  },
  {
   "cell_type": "code",
   "execution_count": 11,
   "metadata": {},
   "outputs": [],
   "source": [
    "extraer_iva(driver)"
   ]
  }
 ],
 "metadata": {
  "kernelspec": {
   "display_name": "Python 3",
   "language": "python",
   "name": "python3"
  },
  "language_info": {
   "codemirror_mode": {
    "name": "ipython",
    "version": 3
   },
   "file_extension": ".py",
   "mimetype": "text/x-python",
   "name": "python",
   "nbconvert_exporter": "python",
   "pygments_lexer": "ipython3",
   "version": "3.11.1"
  },
  "orig_nbformat": 4
 },
 "nbformat": 4,
 "nbformat_minor": 2
}
