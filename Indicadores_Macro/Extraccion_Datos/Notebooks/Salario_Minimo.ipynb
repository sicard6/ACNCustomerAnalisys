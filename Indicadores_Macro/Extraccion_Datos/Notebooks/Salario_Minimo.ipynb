{
  "cells": [
    {
      "attachments": {},
      "cell_type": "markdown",
      "metadata": {},
      "source": [
        "### Salario minimo\n",
        "[Link](https://totoro.banrep.gov.co/analytics/saw.dll?Portal&PortalPath=%2Fshared%2FDashboards_T%2FD_Estad%C3%ADsticas%2FEstad%C3%ADsticas&NQUser=publico&NQPassword=publico123&lang=es&page=Actividad%20econ%C3%B3mica,%20mercado%20laboral%20y%20cuentas%20financieras&pagina=Salarios)"
      ]
    },
    {
      "cell_type": "code",
      "execution_count": 23,
      "metadata": {},
      "outputs": [],
      "source": [
        "from selenium.webdriver.common.by import By\n",
        "import selenium as sel\n",
        "import pandas as pd\n",
        "import time\n",
        "import sys\n",
        "import os\n",
        "\n",
        "cwd = os.getcwd()\n",
        "cwd = cwd.replace(\"Notebooks\", \"Scripts\")\n",
        "sys.path.insert(0, cwd.replace(\"\\\\\\\\\", \"\\\\\"))\n",
        "import base as bs"
      ]
    },
    {
      "cell_type": "code",
      "execution_count": 39,
      "metadata": {},
      "outputs": [],
      "source": [
        "def extraer_salario(start_date: str, end_date: str):\n",
        "    \"\"\"Función que ingresa a la página del banco de la república y descarga las\n",
        "    los datos de salario mínimo. \n",
        "    Extrae la información de interes y la almacena en el Data Frame.\n",
        "\n",
        "    Args:\n",
        "        start_date (str): Fecha desde la que se obtendrán los datos.\n",
        "        end_date (str): Fecha hasta la que se obtendrán los datos.\n",
        "\n",
        "    Returns:\n",
        "        pd.DataFrame: Data Frame con 5 columnas:\n",
        "        date | Granularidad | Indicador | Unidad | Valor\n",
        "    \"\"\"\n",
        "    driver = bs.ejecutar_driver('https://totoro.banrep.gov.co/analytics/saw.dll?Portal&PortalPath=%2Fshared%2FDashboards_T%2FD_Estad%C3%ADsticas%2FEstad%C3%ADsticas&NQUser=publico&NQPassword=publico123&lang=es&page=Actividad%20econ%C3%B3mica,%20mercado%20laboral%20y%20cuentas%20financieras&pagina=Salarios')\n",
        "    frame = driver.find_element(By.XPATH, './/iframe[@id=\"frame_dashboard\"]')\n",
        "    driver.switch_to.frame(frame)\n",
        "    driver.find_element(By.XPATH, '//div[@title=\"Salarios\"]').click()\n",
        "    time.sleep(5)\n",
        "    driver.find_elements(By.XPATH, '//span[@id=\"shielddx\"]//a')[2].click()\n",
        "    \n",
        "    time.sleep(15)\n",
        "    driver.quit()\n",
        "    \n",
        "    fuente_archivo = bs.obtener_nombre_descarga('/Users/'+os.getlogin()+'/Downloads')\n",
        "    \n",
        "    df = pd.read_excel(fuente_archivo, header=5)\n",
        "    df.drop(df.tail(12).index,inplace=True)\n",
        "    \n",
        "    aux_1 = start_date.split('-')\n",
        "    aux_2 = end_date.split('-')\n",
        "    \n",
        "    try: \n",
        "        start = df[df['Año (aaaa)'] == int(aux_1[2])].index[0]\n",
        "    except IndexError:\n",
        "        start = 0\n",
        "        \n",
        "    try: \n",
        "        end = df[df['Año (aaaa)'] == int(aux_2[2])].index[0]\n",
        "    except IndexError:\n",
        "        end = len(df) - 1\n",
        "        \n",
        "    df['date'] = '01-01-'+df['Año (aaaa)'].map(str)\n",
        "    df['Granularidad'] = 'Anual'\n",
        "    df['Indicador'] = 'Salario minimo'\n",
        "    \n",
        "    df = df.loc[start:end, ['date', 'Granularidad', 'Indicador', 'Salario mínimo mensual (COP)']].reset_index().drop(['index'], axis=1)\n",
        "    \n",
        "    os.remove(fuente_archivo)\n",
        "    \n",
        "    return df"
      ]
    },
    {
      "cell_type": "code",
      "execution_count": 40,
      "metadata": {},
      "outputs": [
        {
          "name": "stdout",
          "output_type": "stream",
          "text": [
            "          date Granularidad            Indicador  Salario mínimo mensual (COP)\n",
            "0   01-01-1990        Anual  Paridad adquisitiva                       41025.0\n",
            "1   01-01-1991        Anual  Paridad adquisitiva                       51720.0\n",
            "2   01-01-1992        Anual  Paridad adquisitiva                       65190.0\n",
            "3   01-01-1993        Anual  Paridad adquisitiva                       81510.0\n",
            "4   01-01-1994        Anual  Paridad adquisitiva                       98700.0\n",
            "5   01-01-1995        Anual  Paridad adquisitiva                      118934.0\n",
            "6   01-01-1996        Anual  Paridad adquisitiva                      142125.0\n",
            "7   01-01-1997        Anual  Paridad adquisitiva                      172005.0\n",
            "8   01-01-1998        Anual  Paridad adquisitiva                      203826.0\n",
            "9   01-01-1999        Anual  Paridad adquisitiva                      236460.0\n",
            "10  01-01-2000        Anual  Paridad adquisitiva                      260100.0\n",
            "11  01-01-2001        Anual  Paridad adquisitiva                      286000.0\n",
            "12  01-01-2002        Anual  Paridad adquisitiva                      309000.0\n",
            "13  01-01-2003        Anual  Paridad adquisitiva                      332000.0\n",
            "14  01-01-2004        Anual  Paridad adquisitiva                      358000.0\n",
            "15  01-01-2005        Anual  Paridad adquisitiva                      381500.0\n",
            "16  01-01-2006        Anual  Paridad adquisitiva                      408000.0\n",
            "17  01-01-2007        Anual  Paridad adquisitiva                      433700.0\n",
            "18  01-01-2008        Anual  Paridad adquisitiva                      461500.0\n",
            "19  01-01-2009        Anual  Paridad adquisitiva                      496900.0\n",
            "20  01-01-2010        Anual  Paridad adquisitiva                      515000.0\n",
            "21  01-01-2011        Anual  Paridad adquisitiva                      535600.0\n",
            "22  01-01-2012        Anual  Paridad adquisitiva                      566700.0\n",
            "23  01-01-2013        Anual  Paridad adquisitiva                      589500.0\n",
            "24  01-01-2014        Anual  Paridad adquisitiva                      616000.0\n",
            "25  01-01-2015        Anual  Paridad adquisitiva                      644350.0\n",
            "26  01-01-2016        Anual  Paridad adquisitiva                      689455.0\n",
            "27  01-01-2017        Anual  Paridad adquisitiva                      737717.0\n",
            "28  01-01-2018        Anual  Paridad adquisitiva                      781242.0\n",
            "29  01-01-2019        Anual  Paridad adquisitiva                      828116.0\n",
            "30  01-01-2020        Anual  Paridad adquisitiva                      877803.0\n",
            "31  01-01-2021        Anual  Paridad adquisitiva                      908526.0\n",
            "32  01-01-2022        Anual  Paridad adquisitiva                     1000000.0\n",
            "33  01-01-2023        Anual  Paridad adquisitiva                     1160000.0\n"
          ]
        }
      ],
      "source": [
        "extraer_salario('01-01-1990', '01-01-2040')"
      ]
    }
  ],
  "metadata": {
    "kernelspec": {
      "display_name": "Python 3",
      "language": "python",
      "name": "python3"
    },
    "language_info": {
      "codemirror_mode": {
        "name": "ipython",
        "version": 3
      },
      "file_extension": ".py",
      "mimetype": "text/x-python",
      "name": "python",
      "nbconvert_exporter": "python",
      "pygments_lexer": "ipython3",
      "version": "3.11.1"
    },
    "orig_nbformat": 4
  },
  "nbformat": 4,
  "nbformat_minor": 2
}
