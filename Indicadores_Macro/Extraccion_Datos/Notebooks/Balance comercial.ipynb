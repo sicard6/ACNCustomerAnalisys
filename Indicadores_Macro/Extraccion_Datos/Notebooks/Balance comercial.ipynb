{
 "cells": [
  {
   "attachments": {},
   "cell_type": "markdown",
   "metadata": {},
   "source": [
    "### Extracción de Balance Comercial\n",
    "[Link](https://www.dane.gov.co/index.php/estadisticas-por-tema/comercio-internacional/balanza-comercial)"
   ]
  },
  {
   "cell_type": "code",
   "execution_count": null,
   "metadata": {},
   "outputs": [],
   "source": [
    "from selenium.webdriver.common.by import By\n",
    "from datetime import datetime\n",
    "import selenium as sel\n",
    "import pandas as pd\n",
    "import zipfile\n",
    "import time\n",
    "import glob\n",
    "import sys\n",
    "import os\n",
    "\n",
    "cwd = os.getcwd()\n",
    "cwd = cwd.replace(\"Notebooks\", \"Scripts\")\n",
    "sys.path.insert(0, cwd.replace(\"\\\\\\\\\", \"\\\\\"))\n",
    "import base as bs"
   ]
  },
  {
   "cell_type": "code",
   "execution_count": null,
   "metadata": {},
   "outputs": [],
   "source": [
    "def extraer_balance_comercial(start_date: str, end_date: str):\n",
    "    \"\"\"Función que ingresa a la página y descarga el balance comercial. \n",
    "    Extrae la información de interes y la almacena en el Data Frame.\n",
    "\n",
    "    Args:\n",
    "        start_date (str): Fecha desde la que se obtendrán los datos.\n",
    "        end_date (str): Fecha hasta la que se obtendrán los datos.\n",
    "\n",
    "    Returns:\n",
    "        pd.DataFrame: Data Frame con 5 columnas:\n",
    "        Date | Importaciones | Exportaciones | Balance | Granularidad | Unidad |\n",
    "    \"\"\"\n",
    "    driver = bs.ejecutar_driver('https://www.dane.gov.co/index.php/estadisticas-por-tema/comercio-internacional/balanza-comercial')\n",
    "    balance_comercial = driver.find_elements(By.XPATH, './/div[@class=\"item-page clearfix\"]')[0]\n",
    "    sec = balance_comercial.find_element(By.XPATH, './/div[@class=\"btn-group btn-group-justified\"]')\n",
    "    url_archivo = sec.find_element(By.XPATH, './/a').get_attribute('href')\n",
    "    driver.get(url_archivo)\n",
    "    time.sleep(10)\n",
    "    \n",
    "    lista_url = url_archivo.split('/')\n",
    "    nombre_archivo = [file for file in lista_url if file.endswith('.xlsx')][0] \n",
    "\n",
    "    path_to_file = '/Users/'+os.getlogin()+'/Downloads/' + \\\n",
    "        nombre_archivo \n",
    "    \n",
    "    df = pd.read_excel(path_to_file, header=8)\n",
    "    df = df.dropna(inplace=False)\n",
    "    df = df.rename(columns={'Unnamed: 0': 'Año'})\n",
    "\n",
    "    df.loc[df.index[-1], 'Año'] = datetime.now().year\n",
    "    df['Año'] =pd.to_numeric(df['Año'])\n",
    "\n",
    "\n",
    "    aux_1 = start_date.split('-')\n",
    "    aux_2 = end_date.split('-')\n",
    "\n",
    "\n",
    "    if float(aux_1[2]) in df['Año']:\n",
    "        start=aux_1[2]\n",
    "    else:\n",
    "        start=df['Año'].min()\n",
    "\n",
    "    if float(aux_2[2]) in df['Año']:\n",
    "        end=aux_2[2]\n",
    "    else:\n",
    "        end=df['Año'].max()\n",
    "\n",
    "\n",
    "    df['Granularidad'] = 'Anual'\n",
    "    df['Unidad'] = 'Millones de dólares FOB'\n",
    "    df['Date'] = '31-12-'+df['Año'].map(str)\n",
    "\n",
    "    df_final = df[(df['Año'] >= start) & (df['Año'] <= end)]\n",
    "    df_final = df_final.drop('Año', axis=1)\n",
    "                            \n",
    "    # os.remove(path_to_file)\n",
    "    \n",
    "    return df_final"
   ]
  },
  {
   "cell_type": "code",
   "execution_count": null,
   "metadata": {},
   "outputs": [],
   "source": [
    "print(extraer_balance_comercial('01-01-1990', '01-01-2040'))"
   ]
  }
 ],
 "metadata": {
  "kernelspec": {
   "display_name": "Python 3",
   "language": "python",
   "name": "python3"
  },
  "language_info": {
   "codemirror_mode": {
    "name": "ipython",
    "version": 3
   },
   "file_extension": ".py",
   "mimetype": "text/x-python",
   "name": "python",
   "nbconvert_exporter": "python",
   "pygments_lexer": "ipython3",
   "version": "3.11.1"
  },
  "orig_nbformat": 4
 },
 "nbformat": 4,
 "nbformat_minor": 2
}
