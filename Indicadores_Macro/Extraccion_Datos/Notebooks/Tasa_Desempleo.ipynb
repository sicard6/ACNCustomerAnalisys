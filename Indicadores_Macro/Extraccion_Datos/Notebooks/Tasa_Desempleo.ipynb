{
  "cells": [
    {
      "attachments": {},
      "cell_type": "markdown",
      "metadata": {},
      "source": [
        "### Tasa de desempleo\n",
        "[Link](https://totoro.banrep.gov.co/analytics/saw.dll?Portal&PortalPath=%2Fshared%2FDashboards_T%2FD_Estad%C3%ADsticas%2FEstad%C3%ADsticas&NQUser=publico&NQPassword=publico123&lang=es&page=Actividad%20econ%C3%B3mica,%20mercado%20laboral%20y%20cuentas%20financieras&pagina=Ocupaci%C3%B3n%20y%20desempleo)"
      ]
    },
    {
      "cell_type": "code",
      "execution_count": 23,
      "metadata": {},
      "outputs": [],
      "source": [
        "from selenium.webdriver.common.by import By\n",
        "import pandas as pd\n",
        "import time\n",
        "import sys\n",
        "import os\n",
        "\n",
        "cwd = os.getcwd()\n",
        "cwd = cwd.replace(\"Notebooks\", \"Scripts\")\n",
        "sys.path.insert(0, cwd.replace(\"\\\\\\\\\", \"\\\\\"))\n",
        "import base as bs"
      ]
    },
    {
      "cell_type": "code",
      "execution_count": 24,
      "metadata": {},
      "outputs": [],
      "source": [
        "def extraer(start_date: str, end_date: str):\n",
        "    driver = bs.ejecutar_driver('https://totoro.banrep.gov.co/analytics/saw.dll?Portal&PortalPath=%2Fshared%2FDashboards_T%2FD_Estad%C3%ADsticas%2FEstad%C3%ADsticas&NQUser=publico&NQPassword=publico123&lang=es&page=Actividad%20econ%C3%B3mica,%20mercado%20laboral%20y%20cuentas%20financieras&pagina=Ocupaci%C3%B3n%20y%20desempleo')\n",
        "    frame = driver.find_element(By.XPATH, './/iframe[@id=\"frame_dashboard\"]')\n",
        "    driver.switch_to.frame(frame)\n",
        "    driver.find_element(By.XPATH, '//div[@title=\"Ocupación y desempleo\"]').click()\n",
        "    driver.find_elements(By.XPATH, '//span[@id=\"shielddy\"]//a')[2].click()\n",
        "    \n",
        "    time.sleep(10)\n",
        "    driver.quit()\n",
        "    \n",
        "    fuente_archivo = bs.obtener_nombre_descarga('/Users/'+os.getlogin()+'/Downloads')\n",
        "    \n",
        "    df = pd.read_excel(fuente_archivo, header=5)\n",
        "    df.drop(df.tail(15).index, inplace=True)\n",
        "    df['date'] = df['Año-Mes (AAAA-MM)'].map(lambda x: '01'+x[4:]+'-'+x[:4])\n",
        "    \n",
        "    aux_1 = start_date.replace(start_date[:2], '01')\n",
        "    aux_2 = end_date.replace(end_date[:2], '01')\n",
        "\n",
        "    try:\n",
        "        start = df[df['date'] == aux_1].index[0]\n",
        "    except IndexError:\n",
        "        start = 0\n",
        "\n",
        "    try:\n",
        "        end = df[df['date'] == aux_2].index[0]\n",
        "    except IndexError:\n",
        "        end = len(df) - 1\n",
        "        \n",
        "    df['Granularidad'] = 'Mensual'\n",
        "    df['Indicador'] = 'Tasa de Desempleo'\n",
        "    df['Unidad'] = '%'\n",
        "    df.rename(columns={'Tasa de desempleo (%)': 'Valor'}, inplace=True)\n",
        "\n",
        "    df = df.loc[start:end, ['date', 'Granularidad', 'Indicador',\n",
        "                            'Unidad', 'Valor']].reset_index().drop(['index'], axis=1)\n",
        "    \n",
        "    os.remove(fuente_archivo)\n",
        "    \n",
        "    return df"
      ]
    },
    {
      "cell_type": "code",
      "execution_count": 25,
      "metadata": {},
      "outputs": [
        {
          "name": "stdout",
          "output_type": "stream",
          "text": [
            "           date Granularidad          Indicador Unidad      Valor\n",
            "0    01-03-2023      Mensual  Tasa de Desempleo      %  10.032544\n",
            "1    01-02-2023      Mensual  Tasa de Desempleo      %  11.353126\n",
            "2    01-01-2023      Mensual  Tasa de Desempleo      %  13.704360\n",
            "3    01-12-2022      Mensual  Tasa de Desempleo      %  10.272679\n",
            "4    01-11-2022      Mensual  Tasa de Desempleo      %   9.500758\n",
            "..          ...          ...                ...    ...        ...\n",
            "262  01-05-2001      Mensual  Tasa de Desempleo      %  14.035800\n",
            "263  01-04-2001      Mensual  Tasa de Desempleo      %  14.515100\n",
            "264  01-03-2001      Mensual  Tasa de Desempleo      %  15.811900\n",
            "265  01-02-2001      Mensual  Tasa de Desempleo      %  17.434200\n",
            "266  01-01-2001      Mensual  Tasa de Desempleo      %  16.622300\n",
            "\n",
            "[267 rows x 5 columns]\n"
          ]
        }
      ],
      "source": [
        "print(extraer('01-01-1990', '01-01-2040'))"
      ]
    }
  ],
  "metadata": {
    "kernelspec": {
      "display_name": "Python 3",
      "language": "python",
      "name": "python3"
    },
    "language_info": {
      "codemirror_mode": {
        "name": "ipython",
        "version": 3
      },
      "file_extension": ".py",
      "mimetype": "text/x-python",
      "name": "python",
      "nbconvert_exporter": "python",
      "pygments_lexer": "ipython3",
      "version": "3.11.1"
    },
    "orig_nbformat": 4
  },
  "nbformat": 4,
  "nbformat_minor": 2
}
