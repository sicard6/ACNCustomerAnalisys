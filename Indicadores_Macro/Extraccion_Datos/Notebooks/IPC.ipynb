{
  "cells": [
    {
      "attachments": {},
      "cell_type": "markdown",
      "metadata": {},
      "source": [
        "### IPC\n",
        "[Link](https://www.dane.gov.co/index.php/estadisticas-por-tema/precios-y-costos/indice-de-precios-al-consumidor-ipc/ipc-informacion-tecnica)\n",
        "\n",
        "Es necesario cambiar la configuración de edge para que los archivos no se abran en la web sino que se descarguen de forma automática"
      ]
    },
    {
      "cell_type": "code",
      "execution_count": 1,
      "metadata": {},
      "outputs": [],
      "source": [
        "from selenium.webdriver.common.by import By\n",
        "import selenium as sel\n",
        "import time\n",
        "import sys\n",
        "import os\n",
        "\n",
        "cwd = os.getcwd()\n",
        "cwd = cwd.replace(\"Notebooks\", \"Scripts\")\n",
        "sys.path.insert(0, cwd.replace(\"\\\\\\\\\", \"\\\\\"))\n",
        "import base as bs"
      ]
    },
    {
      "cell_type": "code",
      "execution_count": 2,
      "metadata": {},
      "outputs": [],
      "source": [
        "path = 'C:/Users/'+os.getlogin()+'/OneDrive - Accenture/ACNCustomerAnalysis/Indicadores_Macro'"
      ]
    },
    {
      "cell_type": "code",
      "execution_count": 17,
      "metadata": {},
      "outputs": [],
      "source": [
        "driver = bs.ejecutar_driver('https://www.dane.gov.co/index.php/estadisticas-por-tema/precios-y-costos/indice-de-precios-al-consumidor-ipc/ipc-informacion-tecnica')"
      ]
    },
    {
      "cell_type": "code",
      "execution_count": 15,
      "metadata": {},
      "outputs": [],
      "source": [
        "def extraer_IPC(driver: sel.webdriver.Edge):\n",
        "    tabla = driver.find_element(By.XPATH, './/table[@class=\"table-striped table\"]')\n",
        "    anexo = tabla.find_elements(By.XPATH, './/tr')[5]\n",
        "    url = anexo.find_element(By.XPATH, './/a').get_attribute('href')\n",
        "    driver.get(url)\n",
        "    \n",
        "    time.sleep(10)\n",
        "    driver.quit()\n",
        "    \n",
        "    fuente_archivo = bs.obtener_nombre_descarga('/Users/'+os.getlogin()+'/Downloads')\n",
        "    bs.guardar_archivo(fuente_archivo, path+'/Data/Raw/IPC.xlsx')"
      ]
    },
    {
      "cell_type": "code",
      "execution_count": 18,
      "metadata": {},
      "outputs": [
        {
          "ename": "ValueError",
          "evalue": "max() arg is an empty sequence",
          "output_type": "error",
          "traceback": [
            "\u001b[1;31m---------------------------------------------------------------------------\u001b[0m",
            "\u001b[1;31mValueError\u001b[0m                                Traceback (most recent call last)",
            "Cell \u001b[1;32mIn[18], line 1\u001b[0m\n\u001b[1;32m----> 1\u001b[0m extraer_IPC(driver)\n",
            "Cell \u001b[1;32mIn[15], line 10\u001b[0m, in \u001b[0;36mextraer_IPC\u001b[1;34m(driver)\u001b[0m\n\u001b[0;32m      7\u001b[0m time\u001b[39m.\u001b[39msleep(\u001b[39m10\u001b[39m)\n\u001b[0;32m      8\u001b[0m driver\u001b[39m.\u001b[39mquit()\n\u001b[1;32m---> 10\u001b[0m fuente_archivo \u001b[39m=\u001b[39m bs\u001b[39m.\u001b[39;49mobtener_nombre_descarga(\u001b[39m'\u001b[39;49m\u001b[39m/Users/\u001b[39;49m\u001b[39m'\u001b[39;49m\u001b[39m+\u001b[39;49mos\u001b[39m.\u001b[39;49mgetlogin()\u001b[39m+\u001b[39;49m\u001b[39m'\u001b[39;49m\u001b[39m/Downloads\u001b[39;49m\u001b[39m'\u001b[39;49m)\n\u001b[0;32m     11\u001b[0m bs\u001b[39m.\u001b[39mguardar_archivo(fuente_archivo, path\u001b[39m+\u001b[39m\u001b[39m'\u001b[39m\u001b[39m/Data/Raw/IPC.xlsx\u001b[39m\u001b[39m'\u001b[39m)\n",
            "File \u001b[1;32mc:\\Users\\andres.ospina\\OneDrive - Accenture\\ACNCustomerAnalysis\\Indicadores_Macro\\Extraccion_Datos\\Scripts\\base.py:53\u001b[0m, in \u001b[0;36mobtener_nombre_descarga\u001b[1;34m(carpeta)\u001b[0m\n\u001b[0;32m     50\u001b[0m \u001b[39mdef\u001b[39;00m \u001b[39mobtener_nombre_descarga\u001b[39m(carpeta: \u001b[39mstr\u001b[39m):\n\u001b[0;32m     51\u001b[0m     \u001b[39m# * means all if need specific format then *.csv\u001b[39;00m\n\u001b[0;32m     52\u001b[0m     lista_de_archivos \u001b[39m=\u001b[39m glob\u001b[39m.\u001b[39mglob(carpeta\u001b[39m+\u001b[39m\u001b[39m'\u001b[39m\u001b[39m/*\u001b[39m\u001b[39m'\u001b[39m)\n\u001b[1;32m---> 53\u001b[0m     nombre_archivo \u001b[39m=\u001b[39m \u001b[39mmax\u001b[39;49m(\n\u001b[0;32m     54\u001b[0m         lista_de_archivos, key\u001b[39m=\u001b[39;49mos\u001b[39m.\u001b[39;49mpath\u001b[39m.\u001b[39;49mgetctime)\u001b[39m.\u001b[39mreplace(\u001b[39m'\u001b[39m\u001b[39m\\\\\u001b[39;00m\u001b[39m'\u001b[39m, \u001b[39m'\u001b[39m\u001b[39m/\u001b[39m\u001b[39m'\u001b[39m)\n\u001b[0;32m     56\u001b[0m     \u001b[39mreturn\u001b[39;00m nombre_archivo\n",
            "\u001b[1;31mValueError\u001b[0m: max() arg is an empty sequence"
          ]
        }
      ],
      "source": [
        "extraer_IPC(driver)"
      ]
    }
  ],
  "metadata": {
    "kernelspec": {
      "display_name": "Python 3",
      "language": "python",
      "name": "python3"
    },
    "language_info": {
      "codemirror_mode": {
        "name": "ipython",
        "version": 3
      },
      "file_extension": ".py",
      "mimetype": "text/x-python",
      "name": "python",
      "nbconvert_exporter": "python",
      "pygments_lexer": "ipython3",
      "version": "3.11.1"
    },
    "orig_nbformat": 4
  },
  "nbformat": 4,
  "nbformat_minor": 2
}
