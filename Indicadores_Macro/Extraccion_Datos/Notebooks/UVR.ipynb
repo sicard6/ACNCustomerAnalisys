{
 "cells": [
  {
   "attachments": {},
   "cell_type": "markdown",
   "metadata": {},
   "source": [
    "### UVR\n",
    "[Link](https://totoro.banrep.gov.co/analytics/saw.dll?Go&Action=prompt&Path=%2Fshared%2FSeries%20Estad%C3%ADsticas_T%2F1.%20UPAC%20-%20UVR%2F1.1%20UVR%2F1.1.2.UVR_Serie%20historica%20diaria&Options=rdf&lang=es&NQUser=publico&NQPassword=publico123)"
   ]
  },
  {
   "cell_type": "code",
   "execution_count": 2,
   "metadata": {},
   "outputs": [],
   "source": [
    "from selenium.webdriver.support import expected_conditions as EC\n",
    "from selenium.webdriver.support.ui import WebDriverWait\n",
    "from selenium.webdriver.common.by import By\n",
    "from datetime import datetime\n",
    "import selenium as sel\n",
    "import time\n",
    "import glob\n",
    "import sys\n",
    "import os\n",
    "\n",
    "cwd = os.getcwd()\n",
    "cwd = cwd.replace(\"Notebooks\", \"Scripts\")\n",
    "sys.path.insert(0, cwd.replace(\"\\\\\\\\\", \"\\\\\"))\n",
    "import base as bs"
   ]
  },
  {
   "cell_type": "code",
   "execution_count": 3,
   "metadata": {},
   "outputs": [],
   "source": [
    "path = 'C:/Users/'+os.getlogin()+'/OneDrive - Accenture/ACNCustomerAnalysis/Indicadores_Macro'"
   ]
  },
  {
   "cell_type": "code",
   "execution_count": 4,
   "metadata": {},
   "outputs": [],
   "source": [
    "driver = bs.ejecutar_driver('https://totoro.banrep.gov.co/analytics/saw.dll?Go&Action=prompt&Path=%2Fshared%2FSeries%20Estad%C3%ADsticas_T%2F1.%20UPAC%20-%20UVR%2F1.1%20UVR%2F1.1.2.UVR_Serie%20historica%20diaria&Options=rdf&lang=es&NQUser=publico&NQPassword=publico123', True)"
   ]
  },
  {
   "cell_type": "code",
   "execution_count": 5,
   "metadata": {},
   "outputs": [],
   "source": [
    "def extraer_UVR(driver: sel.webdriver.Edge, conservar: bool = True, fecha_inicio: str = '01/01/2000', fecha_final: str = datetime.today().strftime(\"%d/%m/%Y\")):\n",
    "    \"\"\"Función que ingresa a la página del banco de la república y descarga los datos de UVR. \n",
    "    Almacena el arcivo en la carpeta de data cruda.\n",
    "\n",
    "    Args:\n",
    "        driver (sel.webdriver.Edge): driver de selenium\n",
    "        conservar (bool, optional): True para dejar el rango por defecto, False para establecerlo. Predeterminado a True.\n",
    "        fecha_inicio (str, optional): Fecha desde la que se quieren extraer los datos. Predeterminado a '01/01/2000'.\n",
    "        fecha_final (str, optional): Fecha hasta la que se quieren extraer los datos. Predeterminado a datetime.today().strftime(\"%d/%m/%Y\").\n",
    "    \"\"\"\n",
    "    inputs = driver.find_elements(By.XPATH, './/input')\n",
    "    \n",
    "    desde = inputs[0]\n",
    "    hasta = inputs[1]\n",
    "    aceptar = inputs[2]\n",
    "    if not conservar:\n",
    "        desde.clear()\n",
    "        desde.send_keys(fecha_inicio)\n",
    "        \n",
    "        hasta.clear()\n",
    "        hasta.send_keys(fecha_final)\n",
    "        \n",
    "    aceptar.click()\n",
    "    \n",
    "    time.sleep(15)\n",
    "    \n",
    "    driver.find_elements(By.XPATH, './/td[@class=\"ResultLinksCell\"]')[2].click()\n",
    "    aux = driver.find_elements(By.XPATH, './/td[@class=\"masterMenu shadowMenuCell\"]')[2]\n",
    "    aux.find_elements(By.XPATH, './/a')[4].click()\n",
    "    driver.find_element(By.XPATH, './/a[@aria-label=\"CSV\"]').click()\n",
    "    \n",
    "    time.sleep(5)\n",
    "    \n",
    "    lista_de_archivos = glob.glob('/Users/'+os.getlogin()+'/Downloads/*') # * means all if need specific format then *.csv\n",
    "    fuente = max(lista_de_archivos, key=os.path.getctime).replace('\\\\', '/')\n",
    "    \n",
    "    os.rename(fuente, path+'/Data/Raw/UVR.csv')"
   ]
  },
  {
   "cell_type": "code",
   "execution_count": 6,
   "metadata": {},
   "outputs": [],
   "source": [
    "extraer_UVR(driver)"
   ]
  }
 ],
 "metadata": {
  "kernelspec": {
   "display_name": "Python 3",
   "language": "python",
   "name": "python3"
  },
  "language_info": {
   "codemirror_mode": {
    "name": "ipython",
    "version": 3
   },
   "file_extension": ".py",
   "mimetype": "text/x-python",
   "name": "python",
   "nbconvert_exporter": "python",
   "pygments_lexer": "ipython3",
   "version": "3.11.1"
  },
  "orig_nbformat": 4
 },
 "nbformat": 4,
 "nbformat_minor": 2
}
