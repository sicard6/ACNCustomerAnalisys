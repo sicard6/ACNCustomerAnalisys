{
  "cells": [
    {
      "attachments": {},
      "cell_type": "markdown",
      "metadata": {},
      "source": [
        "### UVR\n",
        "[Link](https://totoro.banrep.gov.co/analytics/saw.dll?Go&Action=prompt&Path=%2Fshared%2FSeries%20Estad%C3%ADsticas_T%2F1.%20UPAC%20-%20UVR%2F1.1%20UVR%2F1.1.2.UVR_Serie%20historica%20diaria&Options=rdf&lang=es&NQUser=publico&NQPassword=publico123)"
      ]
    },
    {
      "cell_type": "code",
      "execution_count": 9,
      "metadata": {},
      "outputs": [],
      "source": [
        "from selenium.webdriver.support import expected_conditions as EC\n",
        "from selenium.webdriver.support.ui import WebDriverWait\n",
        "from selenium.webdriver.common.by import By\n",
        "from datetime import datetime\n",
        "import selenium as sel\n",
        "import pandas as pd\n",
        "import time\n",
        "import glob\n",
        "import sys\n",
        "import os\n",
        "\n",
        "cwd = os.getcwd()\n",
        "cwd = cwd.replace(\"Notebooks\", \"Scripts\")\n",
        "sys.path.insert(0, cwd.replace(\"\\\\\\\\\", \"\\\\\"))\n",
        "import base as bs"
      ]
    },
    {
      "cell_type": "code",
      "execution_count": 10,
      "metadata": {},
      "outputs": [],
      "source": [
        "path = 'C:/Users/'+os.getlogin()+'/OneDrive - Accenture/ACNCustomerAnalysis/Indicadores_Macro'"
      ]
    },
    {
      "cell_type": "code",
      "execution_count": 39,
      "metadata": {},
      "outputs": [],
      "source": [
        "def extraer_UVR(start_date: str, end_date: str):\n",
        "    \"\"\"Función que ingresa a la página del banco de la república y descarga los datos de UVR. \n",
        "    Almacena el arcivo en la carpeta de data cruda.\n",
        "\n",
        "    Args:\n",
        "        driver (sel.webdriver.Edge): driver de selenium\n",
        "        conservar (bool, optional): True para dejar el rango por defecto, False para establecerlo. Predeterminado a True.\n",
        "        fecha_inicio (str, optional): Fecha desde la que se quieren extraer los datos. Predeterminado a '01/01/2000'.\n",
        "        fecha_final (str, optional): Fecha hasta la que se quieren extraer los datos. Predeterminado a datetime.today().strftime(\"%d/%m/%Y\").\n",
        "    \"\"\"\n",
        "    driver = bs.ejecutar_driver('https://totoro.banrep.gov.co/analytics/saw.dll?Go&Action=prompt&Path=%2Fshared%2FSeries%20Estad%C3%ADsticas_T%2F1.%20UPAC%20-%20UVR%2F1.1%20UVR%2F1.1.2.UVR_Serie%20historica%20diaria&Options=rdf&lang=es&NQUser=publico&NQPassword=publico123')\n",
        "    inputs = driver.find_elements(By.XPATH, './/input')\n",
        "    \n",
        "    desde = inputs[0]\n",
        "    hasta = inputs[1]\n",
        "    aceptar = inputs[2]\n",
        "\n",
        "    desde.clear()\n",
        "    desde.send_keys(start_date.replace('-', '/'))\n",
        "    \n",
        "    hasta.clear()\n",
        "    hasta.send_keys(end_date.replace('-', '/'))\n",
        "        \n",
        "    aceptar.click()\n",
        "    \n",
        "    time.sleep(20)\n",
        "    \n",
        "    driver.find_elements(By.XPATH, './/td[@class=\"ResultLinksCell\"]')[2].click()\n",
        "    aux = driver.find_elements(By.XPATH, './/td[@class=\"masterMenu shadowMenuCell\"]')[2]\n",
        "    aux.find_elements(By.XPATH, './/a')[4].click()\n",
        "    driver.find_element(By.XPATH, './/a[@aria-label=\"CSV\"]').click()\n",
        "    \n",
        "    time.sleep(10)\n",
        "    driver.quit()\n",
        "    \n",
        "    fuente_archivo = bs.obtener_nombre_descarga('/Users/'+os.getlogin()+'/Downloads')\n",
        "    \n",
        "    df = pd.read_csv(fuente_archivo)\n",
        "    df['date'] = df['Fecha (dd/mm/aaaa)'].str.split('-').map(lambda x: '-'.join(x[::-1]))\n",
        "    \n",
        "    try: \n",
        "        start = df[df['date'] == start_date].index[0]\n",
        "    except IndexError:\n",
        "        start = 0\n",
        "        \n",
        "    try: \n",
        "        end = df[df['date'] == end_date].index[0]\n",
        "    except IndexError:\n",
        "        end = len(df) - 1\n",
        "        \n",
        "    df['Granularidad'] = 'Diario'\n",
        "    df['Indicador'] = 'UVR'\n",
        "    \n",
        "    df = df.loc[start:end, ['date', 'Granularidad', 'Indicador', 'Pesos colombianos por UVR']].reset_index().drop(['index'], axis=1)\n",
        "    # bs.guardar_archivo(fuente_archivo, path+'/Data/Raw/UVR.xlsx')\n",
        "    \n",
        "    return df"
      ]
    },
    {
      "cell_type": "code",
      "execution_count": 40,
      "metadata": {},
      "outputs": [
        {
          "name": "stdout",
          "output_type": "stream",
          "text": [
            "            date Granularidad Indicador Pesos colombianos por UVR\n",
            "0     01-01-2000       Diario       UVR                  103,3396\n",
            "1     02-01-2000       Diario       UVR                  103,3556\n",
            "2     03-01-2000       Diario       UVR                  103,3715\n",
            "3     04-01-2000       Diario       UVR                  103,3875\n",
            "4     05-01-2000       Diario       UVR                  103,4035\n",
            "...          ...          ...       ...                       ...\n",
            "8562  11-06-2023       Diario       UVR                  347,0641\n",
            "8563  12-06-2023       Diario       UVR                  347,1511\n",
            "8564  13-06-2023       Diario       UVR                  347,2381\n",
            "8565  14-06-2023       Diario       UVR                  347,3252\n",
            "8566  15-06-2023       Diario       UVR                  347,4122\n",
            "\n",
            "[8567 rows x 4 columns]\n"
          ]
        }
      ],
      "source": [
        "extraer_UVR('01-01-1990', '01-01-2040')"
      ]
    }
  ],
  "metadata": {
    "kernelspec": {
      "display_name": "Python 3",
      "language": "python",
      "name": "python3"
    },
    "language_info": {
      "codemirror_mode": {
        "name": "ipython",
        "version": 3
      },
      "file_extension": ".py",
      "mimetype": "text/x-python",
      "name": "python",
      "nbconvert_exporter": "python",
      "pygments_lexer": "ipython3",
      "version": "3.11.1"
    },
    "orig_nbformat": 4
  },
  "nbformat": 4,
  "nbformat_minor": 2
}
