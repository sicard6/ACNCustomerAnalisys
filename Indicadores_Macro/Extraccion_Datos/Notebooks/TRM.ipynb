{
  "cells": [
    {
      "attachments": {},
      "cell_type": "markdown",
      "metadata": {},
      "source": [
        "# TRM\n",
        "[Link](https://totoro.banrep.gov.co/analytics/saw.dll?Portal&PortalPath=%2Fshared%2FDashboards_T%2FD_Estad%C3%ADsticas%2FEstad%C3%ADsticas&page=Tasas%20de%20cambio%20y%20sector%20externo&NQUser=publico&NQPassword=publico123&lang=es)\n",
        "\n",
        "Necesita autenticación"
      ]
    },
    {
      "attachments": {},
      "cell_type": "markdown",
      "metadata": {},
      "source": [
        "### Desde 27/11/1991"
      ]
    },
    {
      "cell_type": "code",
      "execution_count": 10,
      "metadata": {},
      "outputs": [],
      "source": [
        "from selenium.webdriver.common.by import By\n",
        "from datetime import datetime\n",
        "import selenium as sel\n",
        "import pandas as pd\n",
        "import time\n",
        "import glob\n",
        "import sys\n",
        "import os\n",
        "\n",
        "cwd = os.getcwd()\n",
        "cwd = cwd.replace(\"Notebooks\", \"Scripts\")\n",
        "sys.path.insert(0, cwd.replace(\"\\\\\\\\\", \"\\\\\"))\n",
        "import base as bs\n",
        "\n",
        "from selenium.webdriver.support import expected_conditions as EC\n",
        "from selenium.webdriver.support.ui import WebDriverWait"
      ]
    },
    {
      "cell_type": "code",
      "execution_count": 30,
      "metadata": {},
      "outputs": [],
      "source": [
        "def extraer(start_date: str, end_date: str):\n",
        "    driver = bs.ejecutar_driver('https://totoro.banrep.gov.co/analytics/saw.dll?Portal&PortalPath=%2Fshared%2FDashboards_T%2FD_Estad%C3%ADsticas%2FEstad%C3%ADsticas&page=Tasas%20de%20cambio%20y%20sector%20externo&NQUser=publico&NQPassword=publico123&lang=es')\n",
        "    \n",
        "    frame = driver.find_element(By.XPATH, './/iframe[@id=\"frame_dashboard\"]')\n",
        "    driver.switch_to.frame(frame)\n",
        "    driver.find_elements(By.XPATH, '//span[@id=\"shielded\"]//a')[2].click()\n",
        "    \n",
        "    time.sleep(40)\n",
        "    driver.quit()\n",
        "    \n",
        "    fuente_archivo = bs.obtener_nombre_descarga('/Users/'+os.getlogin()+'/Downloads')\n",
        "    \n",
        "    df = pd.read_excel(fuente_archivo, header=7)\n",
        "    df.drop(df.tail(4).index, inplace=True)\n",
        "    df['date'] = df['Fecha (dd/mm/aaaa)'].map(lambda x: x.strftime(\"%d-%m-%Y\"))\n",
        "    \n",
        "    try:\n",
        "        start = df[df['date'] == start_date].index[0]\n",
        "    except IndexError:\n",
        "        start = 0\n",
        "        \n",
        "    try:\n",
        "        end = df[df['date'] == end_date].index[0]\n",
        "    except IndexError:\n",
        "        end = len(df) - 1\n",
        "    \n",
        "    df['Granularidad'] = 'Diario'\n",
        "    df['Indicador'] = 'TRM'\n",
        "    df['Unidad'] = 'COP'\n",
        "    df.rename(columns={'Tasa de cambio representativa del mercado (TRM)': 'Valor'}, inplace=True)\n",
        "\n",
        "    df = df.loc[start:end, ['date', 'Granularidad', 'Indicador',\n",
        "                            'Unidad', 'Valor']].reset_index().drop(['index'], axis=1)\n",
        "    \n",
        "    os.remove(fuente_archivo)\n",
        "    \n",
        "    return df"
      ]
    },
    {
      "cell_type": "code",
      "execution_count": 31,
      "metadata": {},
      "outputs": [
        {
          "name": "stdout",
          "output_type": "stream",
          "text": [
            "             date Granularidad Indicador Unidad    Valor\n",
            "0      27-11-1991       Diario       TRM    COP   693.32\n",
            "1      28-11-1991       Diario       TRM    COP   693.99\n",
            "2      29-11-1991       Diario       TRM    COP   694.70\n",
            "3      30-11-1991       Diario       TRM    COP   694.70\n",
            "4      01-12-1991       Diario       TRM    COP   643.42\n",
            "...           ...          ...       ...    ...      ...\n",
            "11503  26-05-2023       Diario       TRM    COP  4470.83\n",
            "11504  27-05-2023       Diario       TRM    COP  4461.66\n",
            "11505  28-05-2023       Diario       TRM    COP  4461.66\n",
            "11506  29-05-2023       Diario       TRM    COP  4461.66\n",
            "11507  30-05-2023       Diario       TRM    COP  4461.66\n",
            "\n",
            "[11508 rows x 5 columns]\n"
          ]
        }
      ],
      "source": [
        "print(extraer('01-01-1990', '01-01-2040'))"
      ]
    }
  ],
  "metadata": {
    "kernelspec": {
      "display_name": "Python 3",
      "language": "python",
      "name": "python3"
    },
    "language_info": {
      "codemirror_mode": {
        "name": "ipython",
        "version": 3
      },
      "file_extension": ".py",
      "mimetype": "text/x-python",
      "name": "python",
      "nbconvert_exporter": "python",
      "pygments_lexer": "ipython3",
      "version": "3.11.1"
    },
    "orig_nbformat": 4
  },
  "nbformat": 4,
  "nbformat_minor": 2
}
