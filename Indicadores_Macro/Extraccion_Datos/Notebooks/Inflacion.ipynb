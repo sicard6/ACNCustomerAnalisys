{
  "cells": [
    {
      "attachments": {},
      "cell_type": "markdown",
      "metadata": {},
      "source": [
        "### Inflación\n",
        "[Link](https://totoro.banrep.gov.co/analytics/saw.dll?Portal&PortalPath=%2Fshared%2FDashboards_T%2FD_Estad%C3%ADsticas%2FEstad%C3%ADsticas&NQUser=publico&NQPassword=publico123&lang=es&page=Precios%20e%20inflaci%C3%B3n)"
      ]
    },
    {
      "cell_type": "code",
      "execution_count": 41,
      "metadata": {},
      "outputs": [],
      "source": [
        "from selenium.webdriver.common.by import By\n",
        "import pandas as pd\n",
        "import time\n",
        "import sys\n",
        "import os\n",
        "\n",
        "cwd = os.getcwd()\n",
        "cwd = cwd.replace(\"Notebooks\", \"Scripts\")\n",
        "sys.path.insert(0, cwd.replace(\"\\\\\\\\\", \"\\\\\"))\n",
        "import base as bs"
      ]
    },
    {
      "cell_type": "code",
      "execution_count": 42,
      "metadata": {},
      "outputs": [],
      "source": [
        "def extraer(start_date: str, end_date: str):\n",
        "    driver = bs.ejecutar_driver('https://totoro.banrep.gov.co/analytics/saw.dll?Portal&PortalPath=%2Fshared%2FDashboards_T%2FD_Estad%C3%ADsticas%2FEstad%C3%ADsticas&NQUser=publico&NQPassword=publico123&lang=es&page=Precios%20e%20inflaci%C3%B3n')\n",
        "    \n",
        "    frame = driver.find_element(By.XPATH, './/iframe[@id=\"frame_dashboard\"]')\n",
        "    driver.switch_to.frame(frame)\n",
        "    driver.find_elements(By.XPATH, '//span[@id=\"shielded\"]//a')[2].click()\n",
        "    \n",
        "    time.sleep(10)\n",
        "    driver.quit()\n",
        "    \n",
        "    fuente_archivo = bs.obtener_nombre_descarga('/Users/'+os.getlogin()+'/Downloads')\n",
        "    df = pd.read_excel(fuente_archivo, header=7)\n",
        "    df.drop(df.tail(8).index, inplace=True)\n",
        "    df['date'] = df['Año(aaaa)-Mes(mm)'].map(lambda x: '01-'+str(x)[4:]+'-'+str(x)[:4])\n",
        "    \n",
        "    aux_1 = start_date.replace(start_date[:2], '01')\n",
        "    aux_2 = end_date.replace(end_date[:2], '01')\n",
        "\n",
        "    try:\n",
        "        start = df[df['date'] == aux_1].index[0]\n",
        "    except IndexError:\n",
        "        start = 0\n",
        "\n",
        "    try:\n",
        "        end = df[df['date'] == aux_2].index[0]\n",
        "    except IndexError:\n",
        "        end = len(df) - 1\n",
        "        \n",
        "    df['Granularidad'] = 'Mensual'\n",
        "    df['Indicador'] = 'Inflación'\n",
        "    df['Unidad'] = '%'\n",
        "    df.rename(columns={'Inflación total 1': 'Valor'}, inplace=True)\n",
        "\n",
        "    df = df.loc[start:end, ['date', 'Granularidad', 'Indicador',\n",
        "                            'Unidad', 'Valor']].reset_index().drop(['index'], axis=1)\n",
        "    \n",
        "    os.remove(fuente_archivo)\n",
        "    \n",
        "    return df"
      ]
    },
    {
      "cell_type": "code",
      "execution_count": 44,
      "metadata": {},
      "outputs": [],
      "source": [
        "print(extraer('01-01-1990', '01-01-2040'))"
      ]
    }
  ],
  "metadata": {
    "kernelspec": {
      "display_name": "Python 3",
      "language": "python",
      "name": "python3"
    },
    "language_info": {
      "codemirror_mode": {
        "name": "ipython",
        "version": 3
      },
      "file_extension": ".py",
      "mimetype": "text/x-python",
      "name": "python",
      "nbconvert_exporter": "python",
      "pygments_lexer": "ipython3",
      "version": "3.11.1"
    },
    "orig_nbformat": 4
  },
  "nbformat": 4,
  "nbformat_minor": 2
}
