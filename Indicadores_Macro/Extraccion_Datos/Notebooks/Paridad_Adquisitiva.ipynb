{
  "cells": [
    {
      "attachments": {},
      "cell_type": "markdown",
      "metadata": {},
      "source": [
        "### Paridad adquisitiva (varios países)\n",
        "[Link](https://data.oecd.org/conversion/purchasing-power-parities-ppp.htm)"
      ]
    },
    {
      "cell_type": "code",
      "execution_count": 32,
      "metadata": {},
      "outputs": [],
      "source": [
        "from selenium.webdriver.common.by import By\n",
        "import selenium as sel\n",
        "import pandas as pd\n",
        "import time\n",
        "import sys\n",
        "import os\n",
        "\n",
        "cwd = os.getcwd()\n",
        "cwd = cwd.replace(\"Notebooks\", \"Scripts\")\n",
        "sys.path.insert(0, cwd.replace(\"\\\\\\\\\", \"\\\\\"))\n",
        "import base as bs"
      ]
    },
    {
      "cell_type": "code",
      "execution_count": 43,
      "metadata": {},
      "outputs": [],
      "source": [
        "\n",
        "def extraer_PA(start_date: str, end_date: str):\n",
        "    \"\"\"Función que ingresa a la página de la OECD y descarga las\n",
        "    los datos de paridad adquisitiva. \n",
        "    Extrae la información de interes y la almacena en el Data Frame.\n",
        "\n",
        "    Args:\n",
        "        start_date (str): Fecha desde la que se obtendrán los datos.\n",
        "        end_date (str): Fecha hasta la que se obtendrán los datos.\n",
        "\n",
        "    Returns:\n",
        "        pd.DataFrame: Data Frame con 5 columnas:\n",
        "        date | Granularidad | Indicador | Unidad | Valor\n",
        "    \"\"\"\n",
        "    driver = bs.ejecutar_driver('https://data.oecd.org/conversion/purchasing-power-parities-ppp.htm')\n",
        "    driver.find_element(By.XPATH, './/span[@class=\"download-btn-label\"]').click()\n",
        "    driver.find_element(By.XPATH, './/a[@class=\"download-indicator-button\"]').click()\n",
        "    \n",
        "    time.sleep(10)\n",
        "    driver.quit()\n",
        "    \n",
        "    fuente_archivo = bs.obtener_nombre_descarga('/Users/'+os.getlogin()+'/Downloads')\n",
        "    \n",
        "    df = pd.read_csv(fuente_archivo)\n",
        "    df = df[df['LOCATION'] == 'COL'].loc[:, ['TIME', 'Value']].reset_index().drop(['index'], axis=1)\n",
        "    \n",
        "    aux_1 = start_date.split('-')\n",
        "    aux_2 = end_date.split('-')\n",
        "    \n",
        "    try: \n",
        "        start = df[df['TIME'] == int(aux_1[2])].index[0]\n",
        "    except IndexError:\n",
        "        start = 0\n",
        "        \n",
        "    try: \n",
        "        end = df[df['TIME'] == int(aux_2[2])].index[0]\n",
        "    except IndexError:\n",
        "        end = len(df) - 1\n",
        "    \n",
        "    df['date'] = '01-01-'+df['TIME'].map(str)\n",
        "    df['Granularidad'] = 'Anual'\n",
        "    df['Indicador'] = 'Paridad adquisitiva'\n",
        "    \n",
        "    df = df.loc[start:end, ['date', 'Granularidad', 'Indicador', 'Value']].reset_index().drop(['index'], axis=1)\n",
        "    \n",
        "    os.remove(fuente_archivo)\n",
        "    \n",
        "    return df"
      ]
    },
    {
      "cell_type": "code",
      "execution_count": 44,
      "metadata": {},
      "outputs": [
        {
          "name": "stdout",
          "output_type": "stream",
          "text": [
            "          date Granularidad            Indicador        Value\n",
            "0   01-01-1990        Anual  Paridad adquisitiva   137.334953\n",
            "1   01-01-1991        Anual  Paridad adquisitiva   168.679453\n",
            "2   01-01-1992        Anual  Paridad adquisitiva   203.818544\n",
            "3   01-01-1993        Anual  Paridad adquisitiva   248.512945\n",
            "4   01-01-1994        Anual  Paridad adquisitiva   308.382512\n",
            "5   01-01-1995        Anual  Paridad adquisitiva   368.204539\n",
            "6   01-01-1996        Anual  Paridad adquisitiva   432.881756\n",
            "7   01-01-1997        Anual  Paridad adquisitiva   508.118110\n",
            "8   01-01-1998        Anual  Paridad adquisitiva   588.528522\n",
            "9   01-01-1999        Anual  Paridad adquisitiva   667.754506\n",
            "10  01-01-2000        Anual  Paridad adquisitiva   743.254866\n",
            "11  01-01-2001        Anual  Paridad adquisitiva   779.778986\n",
            "12  01-01-2002        Anual  Paridad adquisitiva   819.642123\n",
            "13  01-01-2003        Anual  Paridad adquisitiva   878.847450\n",
            "14  01-01-2004        Anual  Paridad adquisitiva   922.900219\n",
            "15  01-01-2005        Anual  Paridad adquisitiva   961.019959\n",
            "16  01-01-2006        Anual  Paridad adquisitiva   986.396773\n",
            "17  01-01-2007        Anual  Paridad adquisitiva  1010.402682\n",
            "18  01-01-2008        Anual  Paridad adquisitiva  1067.501015\n",
            "19  01-01-2009        Anual  Paridad adquisitiva  1103.811854\n",
            "20  01-01-2010        Anual  Paridad adquisitiva  1132.203391\n",
            "21  01-01-2011        Anual  Paridad adquisitiva  1179.998238\n",
            "22  01-01-2012        Anual  Paridad adquisitiva  1215.696024\n",
            "23  01-01-2013        Anual  Paridad adquisitiva  1218.821028\n",
            "24  01-01-2014        Anual  Paridad adquisitiva  1232.889400\n",
            "25  01-01-2015        Anual  Paridad adquisitiva  1289.323671\n",
            "26  01-01-2016        Anual  Paridad adquisitiva  1298.142605\n",
            "27  01-01-2017        Anual  Paridad adquisitiva  1328.016627\n",
            "28  01-01-2018        Anual  Paridad adquisitiva  1322.160543\n",
            "29  01-01-2019        Anual  Paridad adquisitiva  1330.757328\n",
            "30  01-01-2020        Anual  Paridad adquisitiva  1297.100384\n",
            "31  01-01-2021        Anual  Paridad adquisitiva  1353.379810\n",
            "32  01-01-2022        Anual  Paridad adquisitiva  1440.025311\n"
          ]
        }
      ],
      "source": [
        "print(extraer_PA('01-01-1990', '01-01-2040'))"
      ]
    }
  ],
  "metadata": {
    "kernelspec": {
      "display_name": "Python 3",
      "language": "python",
      "name": "python3"
    },
    "language_info": {
      "codemirror_mode": {
        "name": "ipython",
        "version": 3
      },
      "file_extension": ".py",
      "mimetype": "text/x-python",
      "name": "python",
      "nbconvert_exporter": "python",
      "pygments_lexer": "ipython3",
      "version": "3.11.1"
    },
    "orig_nbformat": 4
  },
  "nbformat": 4,
  "nbformat_minor": 2
}
