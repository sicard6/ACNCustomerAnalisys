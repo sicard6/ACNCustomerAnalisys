{
 "cells": [
  {
   "attachments": {},
   "cell_type": "markdown",
   "metadata": {},
   "source": [
    "### Paridad adquisitiva (varios países)\n",
    "[Link](https://data.oecd.org/conversion/purchasing-power-parities-ppp.htm)"
   ]
  },
  {
   "cell_type": "code",
   "execution_count": 6,
   "metadata": {},
   "outputs": [],
   "source": [
    "from selenium.webdriver.common.by import By\n",
    "import selenium as sel\n",
    "import time\n",
    "import glob\n",
    "import sys\n",
    "import os\n",
    "\n",
    "cwd = os.getcwd()\n",
    "cwd = cwd.replace(\"Notebooks\", \"Scripts\")\n",
    "sys.path.insert(0, cwd.replace(\"\\\\\\\\\", \"\\\\\"))\n",
    "import base as bs"
   ]
  },
  {
   "cell_type": "code",
   "execution_count": 2,
   "metadata": {},
   "outputs": [],
   "source": [
    "path = 'C:/Users/'+os.getlogin()+'/OneDrive - Accenture/ACNCustomerAnalysis/Indicadores_Macro'"
   ]
  },
  {
   "cell_type": "code",
   "execution_count": 3,
   "metadata": {},
   "outputs": [],
   "source": [
    "driver = bs.ejecutar_driver('https://data.oecd.org/conversion/purchasing-power-parities-ppp.htm', True)"
   ]
  },
  {
   "cell_type": "code",
   "execution_count": 7,
   "metadata": {},
   "outputs": [],
   "source": [
    "def extraer_PA(driver: sel.webdriver.Edge):\n",
    "    \"\"\"Función que ingresa a la página de la OECD y descarga las\n",
    "    los datos de paridad adquisitiva. \n",
    "    Almacena el arcivo en la carpeta de data cruda.\n",
    "\n",
    "    Args:\n",
    "        driver (sel.webdriver.Edge): driver de selenium\n",
    "    \"\"\"\n",
    "    driver.find_element(By.XPATH, './/span[@class=\"download-btn-label\"]').click()\n",
    "    driver.find_element(By.XPATH, './/a[@class=\"download-indicator-button\"]').click()\n",
    "    \n",
    "    time.sleep(5)\n",
    "    \n",
    "    lista_de_archivos = glob.glob('/Users/'+os.getlogin()+'/Downloads/*')\n",
    "    fuente = max(lista_de_archivos, key=os.path.getctime).replace('\\\\', '/')\n",
    "    \n",
    "    os.rename(fuente, path+'/Data/Raw/Paridad_Adquisitiva.csv')"
   ]
  },
  {
   "cell_type": "code",
   "execution_count": 8,
   "metadata": {},
   "outputs": [],
   "source": [
    "extraer_PA(driver)"
   ]
  }
 ],
 "metadata": {
  "kernelspec": {
   "display_name": "Python 3",
   "language": "python",
   "name": "python3"
  },
  "language_info": {
   "codemirror_mode": {
    "name": "ipython",
    "version": 3
   },
   "file_extension": ".py",
   "mimetype": "text/x-python",
   "name": "python",
   "nbconvert_exporter": "python",
   "pygments_lexer": "ipython3",
   "version": "3.11.1"
  },
  "orig_nbformat": 4
 },
 "nbformat": 4,
 "nbformat_minor": 2
}
