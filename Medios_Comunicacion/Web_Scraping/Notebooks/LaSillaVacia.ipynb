{
  "cells": [
    {
      "cell_type": "code",
      "execution_count": 1,
      "metadata": {},
      "outputs": [],
      "source": [
        "from selenium.webdriver.common.by import By\n",
        "import selenium as sel\n",
        "import pandas as pd\n",
        "import time\n",
        "from datetime import datetime\n",
        "\n",
        "import os\n",
        "import sys\n",
        "cwd = os.getcwd()\n",
        "cwd = cwd.replace(\"Notebooks\", \"Scripts\")\n",
        "sys.path.insert(0, cwd.replace(\"\\\\\\\\\", \"\\\\\"))\n",
        "import base as bs\n",
        "\n",
        "from selenium.webdriver.support.ui import WebDriverWait\n",
        "from selenium.webdriver.support import expected_conditions as EC\n",
        "from selenium.common.exceptions import TimeoutException\n"
      ]
    },
    {
      "cell_type": "code",
      "execution_count": 2,
      "metadata": {},
      "outputs": [],
      "source": [
        "#Empresa con la cual vamos a extraer los articulos\n",
        "empresa = input(\"Digite la empresa a extraer: \").lower().strip()\n",
        "if \" \" in empresa:\n",
        "    empresa = empresa.replace(\" \", \"%20\")\n",
        "revista = \"laSillaVacia\""
      ]
    },
    {
      "cell_type": "code",
      "execution_count": 3,
      "metadata": {},
      "outputs": [],
      "source": [
        "# crear driver... MODIFICAR DEPENDIENDO DEL NAVEGADOR\n",
        "driver = bs.ejecutar_driver(f'https://www.lasillavacia.com/buscar?q={empresa}&cat=all')\n",
        "\n",
        "i = 1\n",
        "try:\n",
        "    while i < 2:\n",
        "        driver.implicitly_wait(10)\n",
        "        button = driver.find_element(By.XPATH, './/a[contains(@class, \"load-more-results d-block p xl black-3d bold uppercase text-center\")]')\n",
        "        button.click()\n",
        "except:\n",
        "    pass"
      ]
    },
    {
      "cell_type": "code",
      "execution_count": 4,
      "metadata": {},
      "outputs": [],
      "source": [
        "# \"c c-d _g _g-md c-m-l c--m-n\" Contiene tema\n",
        "articulos = driver.find_elements(By.XPATH, './/article')"
      ]
    },
    {
      "cell_type": "code",
      "execution_count": 5,
      "metadata": {},
      "outputs": [],
      "source": [
        "titulares = []\n",
        "for art in articulos:\n",
        "    url = bs.get_url_sv(art)\n",
        "    if url == None:\n",
        "        continue\n",
        "    if not(bs.existedb(url, \"database\")):\n",
        "        titulo = bs.get_titulo_sv(art)\n",
        "        titulares.append({'Fecha Extraccion':datetime.now().strftime(\"%Y-%m-%d %H:%M:%S\"),\n",
        "                        'Titulo': titulo,\n",
        "                        'URL': url,\n",
        "                        'Empresa': empresa\n",
        "                        })"
      ]
    },
    {
      "cell_type": "code",
      "execution_count": 6,
      "metadata": {},
      "outputs": [],
      "source": [
        "from tqdm import tqdm"
      ]
    },
    {
      "cell_type": "code",
      "execution_count": 7,
      "metadata": {},
      "outputs": [
        {
          "name": "stderr",
          "output_type": "stream",
          "text": [
            " 10%|█         | 1/10 [00:07<01:11,  8.00s/it]"
          ]
        },
        {
          "name": "stdout",
          "output_type": "stream",
          "text": [
            "2023-04-12 00:00:00\n",
            "2023-04-12 00:00:00\n"
          ]
        },
        {
          "name": "stderr",
          "output_type": "stream",
          "text": [
            " 30%|███       | 3/10 [00:26<01:00,  8.65s/it]"
          ]
        },
        {
          "name": "stdout",
          "output_type": "stream",
          "text": [
            "2023-03-30 00:00:00\n",
            "2023-02-07 00:00:00\n"
          ]
        },
        {
          "name": "stderr",
          "output_type": "stream",
          "text": [
            " 40%|████      | 4/10 [00:30<00:41,  6.86s/it]"
          ]
        }
      ],
      "source": [
        "for tit in tqdm(titulares[:10]):\n",
        "    driver.get(tit[\"URL\"])\n",
        "    driver.implicitly_wait(10)\n",
        "    tit[\"Autor\"] = bs.get_autor_sv(driver)\n",
        "    tit[\"Fecha Publicacion\"] = bs.get_fecha_sv(driver)\n",
        "    tit[\"Imagen\"] = bs.get_imag_sv(driver)\n",
        "    # tit[\"Resumen\"] = get_resumen(driver)\n",
        "    tit[\"Fuente\"] = \"La Silla Vacía\"\n",
        "    tit[\"Contenido\"] = bs.get_contenido_sv(driver)"
      ]
    },
    {
      "cell_type": "code",
      "execution_count": null,
      "metadata": {},
      "outputs": [],
      "source": [
        "df = pd.DataFrame(titulares)\n",
        "# bs.writeData(\"database\", df)"
      ]
    },
    {
      "cell_type": "code",
      "execution_count": null,
      "metadata": {},
      "outputs": [],
      "source": [
        "driver.close()"
      ]
    },
    {
      "cell_type": "code",
      "execution_count": null,
      "metadata": {},
      "outputs": [
        {
          "data": {
            "text/html": [
              "<div>\n",
              "<style scoped>\n",
              "    .dataframe tbody tr th:only-of-type {\n",
              "        vertical-align: middle;\n",
              "    }\n",
              "\n",
              "    .dataframe tbody tr th {\n",
              "        vertical-align: top;\n",
              "    }\n",
              "\n",
              "    .dataframe thead th {\n",
              "        text-align: right;\n",
              "    }\n",
              "</style>\n",
              "<table border=\"1\" class=\"dataframe\">\n",
              "  <thead>\n",
              "    <tr style=\"text-align: right;\">\n",
              "      <th></th>\n",
              "      <th>Fecha Extraccion</th>\n",
              "      <th>Titulo</th>\n",
              "      <th>URL</th>\n",
              "      <th>Empresa</th>\n",
              "      <th>Autor</th>\n",
              "      <th>Fecha Publicacion</th>\n",
              "      <th>Imagen</th>\n",
              "      <th>Fuente</th>\n",
              "      <th>Contenido</th>\n",
              "    </tr>\n",
              "  </thead>\n",
              "  <tbody>\n",
              "  </tbody>\n",
              "</table>\n",
              "</div>"
            ],
            "text/plain": [
              "Empty DataFrame\n",
              "Columns: [Fecha Extraccion, Titulo, URL, Empresa, Autor, Fecha Publicacion, Imagen, Fuente, Contenido]\n",
              "Index: []"
            ]
          },
          "execution_count": 11,
          "metadata": {},
          "output_type": "execute_result"
        }
      ],
      "source": [
        "df.head()"
      ]
    }
  ],
  "metadata": {
    "kernelspec": {
      "display_name": "Python 3",
      "language": "python",
      "name": "python3"
    },
    "language_info": {
      "codemirror_mode": {
        "name": "ipython",
        "version": 3
      },
      "file_extension": ".py",
      "mimetype": "text/x-python",
      "name": "python",
      "nbconvert_exporter": "python",
      "pygments_lexer": "ipython3",
      "version": "3.11.1"
    },
    "orig_nbformat": 4,
    "vscode": {
      "interpreter": {
        "hash": "5238573367df39f7286bb46f9ff5f08f63a01a80960060ce41e3c79b190280fa"
      }
    }
  },
  "nbformat": 4,
  "nbformat_minor": 2
}
