{
 "cells": [
  {
   "cell_type": "code",
   "execution_count": 1,
   "metadata": {},
   "outputs": [],
   "source": [
    "from selenium.webdriver.common.by import By\n",
    "from datetime import datetime\n",
    "import selenium as sel\n",
    "from tqdm import tqdm\n",
    "import pandas as pd\n",
    "import base as bs\n",
    "import os as os\n",
    "\n",
    "from selenium.webdriver.support import expected_conditions as EC\n",
    "from selenium.webdriver.support.ui import WebDriverWait"
   ]
  },
  {
   "cell_type": "code",
   "execution_count": 8,
   "metadata": {},
   "outputs": [],
   "source": [
    "#Empresa con la cual vamos a extraer los articulos\n",
    "empresa = input(\"Digite la empresa a extraer: \").lower().strip()\n",
    "if \" \" in empresa:\n",
    "    empresa_ = empresa.replace(\" \", \"%20\")\n",
    "else:\n",
    "    empresa_ = empresa\n",
    "num_paginas = int(input(\"Digite la empresa a extraer: \"))"
   ]
  },
  {
   "cell_type": "code",
   "execution_count": 9,
   "metadata": {},
   "outputs": [],
   "source": [
    "# crear driver... MODIFICAR DEPENDIENDO DEL NAVEGADOR\n",
    "driver = sel.webdriver.Edge()\n",
    "driver.get(f'https://www.portafolio.co/buscar?q={empresa_}')\n",
    "driver.maximize_window()\n",
    "WebDriverWait(driver, 5)\\\n",
    "    .until(EC.element_to_be_clickable((By.XPATH,\n",
    "                                      './/button[@class=\"align-right secondary slidedown-button\"]')))\\\n",
    "                                          .click()"
   ]
  },
  {
   "cell_type": "code",
   "execution_count": 10,
   "metadata": {},
   "outputs": [
    {
     "name": "stderr",
     "output_type": "stream",
     "text": [
      "100%|██████████| 10/10 [00:06<00:00,  1.47it/s]\n",
      "100%|██████████| 10/10 [00:03<00:00,  2.94it/s]\n",
      "100%|██████████| 2/2 [00:13<00:00,  6.87s/it]\n"
     ]
    }
   ],
   "source": [
    "# Articulos a extraer\n",
    "url_princ = f'https://www.portafolio.co/buscar?q={empresa_}&page='\n",
    "titulares = []\n",
    "for i in tqdm(range(1, num_paginas+1)):\n",
    "    if i != 1:\n",
    "        aux = str(i)\n",
    "        url_a_buscar = url_princ+aux\n",
    "        driver.get(url_a_buscar)\n",
    "    articulos = [driver.find_element(By.XPATH, './/div[contains(@class, \"listing-item first \")]')] + driver.find_elements(By.XPATH, './/div[contains(@class, \"listing-item  \")]')\n",
    "    \n",
    "    for art in tqdm(articulos):\n",
    "        url = art.find_element(By.XPATH, './/h3[@class=\"listing-title\"]//a').get_attribute('href')\n",
    "        if not(bs.existedb(url, \"database\")):\n",
    "            titulo = articulos[0].find_element(By.XPATH, './/h3[@class=\"listing-title\"]//a').text\n",
    "            fechaP = bs.obtener_fecha_port(art)\n",
    "            tema = art.find_element(By.XPATH, './/div[@class=\"listing-category\"]').text\n",
    "            resumen = art.find_element(By.XPATH, './/div[@class=\"listing-epigraph\"]').text\n",
    "            imagen = bs.obtener_imagen_port(art)\n",
    "            titulares.append({'Fecha Extraccion':datetime.now().strftime(\"%Y-%m-%d %H:%M:%S\"),\n",
    "                            'Titulo': titulo,\n",
    "                            'Fecha Publicacion': fechaP,\n",
    "                            'URL': url,\n",
    "                            'Tema': tema,\n",
    "                            'Resumen': resumen,\n",
    "                            'Imagen': imagen,\n",
    "                            'Empresa': empresa,\n",
    "                            'Fuente': 'Portafolio'\n",
    "                            })"
   ]
  },
  {
   "cell_type": "code",
   "execution_count": 11,
   "metadata": {},
   "outputs": [
    {
     "name": "stderr",
     "output_type": "stream",
     "text": [
      "100%|██████████| 20/20 [04:00<00:00, 12.04s/it]\n"
     ]
    }
   ],
   "source": [
    "for tit in tqdm(titulares):\n",
    "    driver.get(tit[\"URL\"])\n",
    "    driver.implicitly_wait(10)\n",
    "    tit['Autor'], tit['Contenido'], tit['RelNewsUrls'] = bs.obtener_autor_contenido_relsnews(driver)"
   ]
  },
  {
   "cell_type": "code",
   "execution_count": 13,
   "metadata": {},
   "outputs": [
    {
     "data": {
      "text/html": [
       "<div>\n",
       "<style scoped>\n",
       "    .dataframe tbody tr th:only-of-type {\n",
       "        vertical-align: middle;\n",
       "    }\n",
       "\n",
       "    .dataframe tbody tr th {\n",
       "        vertical-align: top;\n",
       "    }\n",
       "\n",
       "    .dataframe thead th {\n",
       "        text-align: right;\n",
       "    }\n",
       "</style>\n",
       "<table border=\"1\" class=\"dataframe\">\n",
       "  <thead>\n",
       "    <tr style=\"text-align: right;\">\n",
       "      <th></th>\n",
       "      <th>Fecha Extraccion</th>\n",
       "      <th>Titulo</th>\n",
       "      <th>Fecha Publicacion</th>\n",
       "      <th>URL</th>\n",
       "      <th>Tema</th>\n",
       "      <th>Resumen</th>\n",
       "      <th>Imagen</th>\n",
       "      <th>Empresa</th>\n",
       "      <th>Fuente</th>\n",
       "      <th>Autor</th>\n",
       "      <th>Contenido</th>\n",
       "      <th>RelNewsUrls</th>\n",
       "    </tr>\n",
       "  </thead>\n",
       "  <tbody>\n",
       "    <tr>\n",
       "      <th>0</th>\n",
       "      <td>2023-03-28 11:03:07</td>\n",
       "      <td>Planta de biomasa para Ecopetrol será el prime...</td>\n",
       "      <td>2023-03-27</td>\n",
       "      <td>https://www.portafolio.co/negocios/empresas/pl...</td>\n",
       "      <td>EMPRESAS</td>\n",
       "      <td>La inversión requerida para su construcción su...</td>\n",
       "      <td>https://www.portafolio.co/files/listing_second...</td>\n",
       "      <td>ecopetrol</td>\n",
       "      <td>Portafolio</td>\n",
       "      <td>DANIELA MORALES SOLER</td>\n",
       "      <td>En Villanueva, Casanare, se está construyendo ...</td>\n",
       "      <td>https://www.portafolio.co/economia/finanzas/la...</td>\n",
       "    </tr>\n",
       "    <tr>\n",
       "      <th>1</th>\n",
       "      <td>2023-03-28 11:03:08</td>\n",
       "      <td>Planta de biomasa para Ecopetrol será el prime...</td>\n",
       "      <td>2023-03-27</td>\n",
       "      <td>https://www.portafolio.co/economia/infraestruc...</td>\n",
       "      <td>INFRAESTRUCTURA</td>\n",
       "      <td>El vehículo, que fue presentado oficialmente e...</td>\n",
       "      <td>https://www.portafolio.co/files/listing_second...</td>\n",
       "      <td>ecopetrol</td>\n",
       "      <td>Portafolio</td>\n",
       "      <td>PORTAFOLIO</td>\n",
       "      <td>Ecopetrol, la Alcaldía de Bogotá, Fenoge, Tran...</td>\n",
       "      <td>https://www.portafolio.co/economia/gobierno/mi...</td>\n",
       "    </tr>\n",
       "    <tr>\n",
       "      <th>2</th>\n",
       "      <td>2023-03-28 11:03:08</td>\n",
       "      <td>Planta de biomasa para Ecopetrol será el prime...</td>\n",
       "      <td>2023-03-25</td>\n",
       "      <td>https://www.portafolio.co/negocios/empresas/em...</td>\n",
       "      <td>EMPRESAS</td>\n",
       "      <td>En 11 misivas, la petrolera le pidió múltiples...</td>\n",
       "      <td>data:image/png;base64,iVBORw0KGgoAAAANSUhEUgAA...</td>\n",
       "      <td>ecopetrol</td>\n",
       "      <td>Portafolio</td>\n",
       "      <td>LINA QUIROGA RUBIO</td>\n",
       "      <td>El diario EL TIEMPO conoció 11 cartas a través...</td>\n",
       "      <td>https://www.portafolio.co/negocios/empresas/ec...</td>\n",
       "    </tr>\n",
       "    <tr>\n",
       "      <th>3</th>\n",
       "      <td>2023-03-28 11:03:08</td>\n",
       "      <td>Planta de biomasa para Ecopetrol será el prime...</td>\n",
       "      <td>2023-03-25</td>\n",
       "      <td>https://www.portafolio.co/negocios/empresas/la...</td>\n",
       "      <td>EMPRESAS</td>\n",
       "      <td>El embajador de Colombia en Venezuela, Armando...</td>\n",
       "      <td>data:image/png;base64,iVBORw0KGgoAAAANSUhEUgAA...</td>\n",
       "      <td>ecopetrol</td>\n",
       "      <td>Portafolio</td>\n",
       "      <td>DIANA K</td>\n",
       "      <td>Las intenciones de comprar la petroquímica ven...</td>\n",
       "      <td>https://www.portafolio.co/negocios/empresas/ec...</td>\n",
       "    </tr>\n",
       "    <tr>\n",
       "      <th>4</th>\n",
       "      <td>2023-03-28 11:03:09</td>\n",
       "      <td>Planta de biomasa para Ecopetrol será el prime...</td>\n",
       "      <td>2023-03-24</td>\n",
       "      <td>https://www.portafolio.co/negocios/empresas/ec...</td>\n",
       "      <td>EMPRESAS</td>\n",
       "      <td>Ocupará el cargo desde el 1 de abril y hasta q...</td>\n",
       "      <td>data:image/png;base64,iVBORw0KGgoAAAANSUhEUgAA...</td>\n",
       "      <td>ecopetrol</td>\n",
       "      <td>Portafolio</td>\n",
       "      <td>PORTAFOLIO</td>\n",
       "      <td>La junta directiva de Ecopetrol, durante una s...</td>\n",
       "      <td>https://www.portafolio.co/negocios/empresas/mo...</td>\n",
       "    </tr>\n",
       "  </tbody>\n",
       "</table>\n",
       "</div>"
      ],
      "text/plain": [
       "      Fecha Extraccion                                             Titulo  \\\n",
       "0  2023-03-28 11:03:07  Planta de biomasa para Ecopetrol será el prime...   \n",
       "1  2023-03-28 11:03:08  Planta de biomasa para Ecopetrol será el prime...   \n",
       "2  2023-03-28 11:03:08  Planta de biomasa para Ecopetrol será el prime...   \n",
       "3  2023-03-28 11:03:08  Planta de biomasa para Ecopetrol será el prime...   \n",
       "4  2023-03-28 11:03:09  Planta de biomasa para Ecopetrol será el prime...   \n",
       "\n",
       "  Fecha Publicacion                                                URL  \\\n",
       "0        2023-03-27  https://www.portafolio.co/negocios/empresas/pl...   \n",
       "1        2023-03-27  https://www.portafolio.co/economia/infraestruc...   \n",
       "2        2023-03-25  https://www.portafolio.co/negocios/empresas/em...   \n",
       "3        2023-03-25  https://www.portafolio.co/negocios/empresas/la...   \n",
       "4        2023-03-24  https://www.portafolio.co/negocios/empresas/ec...   \n",
       "\n",
       "              Tema                                            Resumen  \\\n",
       "0         EMPRESAS  La inversión requerida para su construcción su...   \n",
       "1  INFRAESTRUCTURA  El vehículo, que fue presentado oficialmente e...   \n",
       "2         EMPRESAS  En 11 misivas, la petrolera le pidió múltiples...   \n",
       "3         EMPRESAS  El embajador de Colombia en Venezuela, Armando...   \n",
       "4         EMPRESAS  Ocupará el cargo desde el 1 de abril y hasta q...   \n",
       "\n",
       "                                              Imagen    Empresa      Fuente  \\\n",
       "0  https://www.portafolio.co/files/listing_second...  ecopetrol  Portafolio   \n",
       "1  https://www.portafolio.co/files/listing_second...  ecopetrol  Portafolio   \n",
       "2  data:image/png;base64,iVBORw0KGgoAAAANSUhEUgAA...  ecopetrol  Portafolio   \n",
       "3  data:image/png;base64,iVBORw0KGgoAAAANSUhEUgAA...  ecopetrol  Portafolio   \n",
       "4  data:image/png;base64,iVBORw0KGgoAAAANSUhEUgAA...  ecopetrol  Portafolio   \n",
       "\n",
       "                   Autor                                          Contenido  \\\n",
       "0  DANIELA MORALES SOLER  En Villanueva, Casanare, se está construyendo ...   \n",
       "1             PORTAFOLIO  Ecopetrol, la Alcaldía de Bogotá, Fenoge, Tran...   \n",
       "2    LINA QUIROGA RUBIO   El diario EL TIEMPO conoció 11 cartas a través...   \n",
       "3                DIANA K  Las intenciones de comprar la petroquímica ven...   \n",
       "4             PORTAFOLIO  La junta directiva de Ecopetrol, durante una s...   \n",
       "\n",
       "                                         RelNewsUrls  \n",
       "0  https://www.portafolio.co/economia/finanzas/la...  \n",
       "1  https://www.portafolio.co/economia/gobierno/mi...  \n",
       "2  https://www.portafolio.co/negocios/empresas/ec...  \n",
       "3  https://www.portafolio.co/negocios/empresas/ec...  \n",
       "4  https://www.portafolio.co/negocios/empresas/mo...  "
      ]
     },
     "execution_count": 13,
     "metadata": {},
     "output_type": "execute_result"
    }
   ],
   "source": [
    "df = pd.DataFrame(titulares)\n",
    "bs.writeData(\"database\", df)"
   ]
  },
  {
   "cell_type": "code",
   "execution_count": null,
   "metadata": {},
   "outputs": [],
   "source": [
    "driver.close()"
   ]
  }
 ],
 "metadata": {
  "kernelspec": {
   "display_name": "Python 3",
   "language": "python",
   "name": "python3"
  },
  "language_info": {
   "codemirror_mode": {
    "name": "ipython",
    "version": 3
   },
   "file_extension": ".py",
   "mimetype": "text/x-python",
   "name": "python",
   "nbconvert_exporter": "python",
   "pygments_lexer": "ipython3",
   "version": "3.11.1"
  },
  "orig_nbformat": 4,
  "vscode": {
   "interpreter": {
    "hash": "5238573367df39f7286bb46f9ff5f08f63a01a80960060ce41e3c79b190280fa"
   }
  }
 },
 "nbformat": 4,
 "nbformat_minor": 2
}
