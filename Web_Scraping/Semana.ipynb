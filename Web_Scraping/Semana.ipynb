{
 "cells": [
  {
   "cell_type": "code",
   "execution_count": 10,
   "metadata": {},
   "outputs": [],
   "source": [
    "from selenium.webdriver.common.by import By\n",
    "import selenium as sel\n",
    "import pandas as pd\n",
    "import time\n",
    "import datetime\n",
    "import re\n",
    "\n",
    "import base as bs\n",
    "\n",
    "import os as os\n",
    "import csv\n",
    "\n",
    "from selenium.common.exceptions import NoSuchElementException\n",
    "from selenium.common.exceptions import StaleElementReferenceException\n",
    "from selenium.webdriver.common.by import By\n",
    "from selenium.webdriver.support.ui import WebDriverWait\n",
    "from selenium.webdriver.support import expected_conditions as EC"
   ]
  },
  {
   "cell_type": "code",
   "execution_count": 11,
   "metadata": {},
   "outputs": [],
   "source": [
    "#Empresa con la cual vamos a extraer los articulos\n",
    "# TODO Tener una lista que itere por todos lo clientes\n",
    "empresa = input(\"Digite la empresa a extraer: \")"
   ]
  },
  {
   "cell_type": "code",
   "execution_count": 12,
   "metadata": {},
   "outputs": [],
   "source": [
    "#cerar driver... MODIFICAR DEPENDIENDO DEL NAVEGADOR\n",
    "driver = sel.webdriver.Edge()\n",
    "driver.get(f'https://www.semana.com/buscador/?query={empresa}')\n",
    "time.sleep(2)"
   ]
  },
  {
   "cell_type": "code",
   "execution_count": 13,
   "metadata": {},
   "outputs": [],
   "source": [
    "# Extrae la lista de todos los articulos de la pagina\n",
    "articulos = driver.find_elements(By.XPATH,'.//div[contains(@class,\"queryly_item_row\")]')"
   ]
  },
  {
   "cell_type": "code",
   "execution_count": 14,
   "metadata": {},
   "outputs": [],
   "source": [
    "# Itera por cada articulo y extrae la informacion (EN CASO DE QUE NO EXISTA ARCHIVO DE ALMACENAMIENTO ANTERIOR)\n",
    "titulares = []\n",
    "for art in articulos:\n",
    "    url = art.find_element(By.XPATH,'.//a').get_attribute('href')\n",
    "    fechaP = art.find_element(By.XPATH,'.//div[contains(@style,\"margin-bottom:0px;color:#555;font-size:12px;\")]').text\n",
    "    resumen = art.find_element(By.XPATH,'.//div[contains(@class,\"queryly_item_description\")]').text\n",
    "    titulo = art.find_element(By.XPATH,'.//div[contains(@class,\"queryly_item_title\")]').text\n",
    "    txtImage = art.find_element(By.XPATH,'.//div[contains(@class,\"queryly_advanced_item_imagecontainer\")]').get_attribute('style')\n",
    "    imagen = 'https://www.semana.com'\n",
    "    imagen = imagen + txtImage.split(\"\\\"\")[1]\n",
    "    titulares.append({'Fecha Extraccion':datetime.datetime.now().strftime(\"%Y-%m-%d %H:%M:%S\"),\n",
    "                    'Titulo':titulo,\n",
    "                    'Fecha Publicacion':fechaP,\n",
    "                    'Resumen':resumen,\n",
    "                    'URL':url,\n",
    "                    'Imagen':imagen,\n",
    "                    'Empresa':empresa})\n",
    "        \n",
    "    "
   ]
  },
  {
   "cell_type": "code",
   "execution_count": 15,
   "metadata": {},
   "outputs": [
    {
     "name": "stdout",
     "output_type": "stream",
     "text": [
      "https://www.semana.com/economia/inversionistas/articulo/bvc-recupero-el-buen-paso-y-cerro-al-alza-impulsada-por-una-ecopetrol-inspirada/202359/\n",
      "https://www.semana.com/economia/empresas/articulo/ecopetrol-es-nuevo-miembro-de-la-junta-directiva-del-consejo-mundial-de-hidrogeno/202339/\n",
      "https://www.semana.com/economia/inversionistas/articulo/bvc-y-ecopetrol-amanecieron-este-jueves-con-fuertes-desplomes-en-sus-indicadores/202351/\n",
      "https://www.semana.com/economia/inversionistas/articulo/bvc-se-mantuvo-a-la-baja-este-martes-mientras-que-ecopetrol-cerro-con-saldo-a-favor/202302/\n",
      "https://www.semana.com/economia/inversionistas/articulo/bvc-y-ecopetrol-iniciaron-semana-a-la-baja-en-la-expectativa-por-los-anuncios-de-la-fed/202313/\n",
      "https://www.semana.com/economia/capsulas/articulo/bruce-mac-master-critica-al-gobierno-petro-por-perdidas-de-ecopetrol-con-anuncios-y-amenazas-hemos-perdido-20000-millones-de-dolares/202358/\n",
      "https://www.semana.com/economia/inversionistas/articulo/bvc-y-ecopetrol-cerraron-en-rojo-un-lunes-para-olvidar-debido-a-la-volatilidad/202359/\n",
      "https://www.semana.com/economia/inversionistas/articulo/bvc-y-ecopetrol-se-mantuvieron-en-medio-de-la-volatilidad-y-este-viernes-cerraron-al-alza/202352/\n",
      "https://www.semana.com/economia/inversionistas/articulo/bvc-y-ecopetrol-iniciaron-con-resultados-dispares-la-ultima-sesion-de-esta-semana/202347/\n",
      "https://www.semana.com/economia/inversionistas/articulo/bvc-y-ecopetrol-amanecieron-dispares-este-jueves-tras-el-dato-de-inflacion-en-ee-uu/202356/\n",
      "https://www.semana.com/economia/inversionistas/articulo/bvc-y-ecopetrol-iniciaron-semana-con-indicadores-dispares/202311/\n",
      "https://www.semana.com/economia/inversionistas/articulo/bvc-sorprendio-y-logro-recuperarse-este-miercoles-mientras-que-ecopetrol-acabo-en-rojo/202337/\n",
      "https://www.semana.com/economia/inversionistas/articulo/acciones-de-ecopetrol-alcanzaron-los-2700-pesos-este-miercoles-en-la-bvc/202327/\n",
      "https://www.semana.com/economia/macroeconomia/articulo/ecopetrol-no-paran-de-crecer-en-2023-y-llegan-a-niveles-que-no-se-ven-hace-mas-de-un-ano-en-colombia/202319/\n",
      "https://www.semana.com/economia/inversionistas/articulo/bvc-y-ecopetrol-cerraron-con-resultados-dispares-tras-la-fuerte-volatilidad-de-este-jueves/202324/\n",
      "https://www.semana.com/economia/inversionistas/articulo/bvc-y-ecopetrol-lograron-reponerse-a-la-volatilidad-y-cerraron-en-verde-este-martes/202325/\n",
      "https://www.semana.com/economia/inversionistas/articulo/bvc-y-ecopetrol-cerraron-al-alza-y-con-buen-balance-la-primera-semana-del-2023/202350/\n",
      "https://www.semana.com/economia/inversionistas/articulo/bvc-y-ecopetrol-siguen-creciendo-y-este-viernes-se-mantienen-a-flote-pese-a-las-adversidades/202323/\n",
      "https://www.semana.com/finanzas/trabajo-y-educacion/articulo/gobierno-espera-que-en-el-2023-ecopetrol-deje-ganancias-de-29-billones/202334/\n",
      "https://www.semana.com/economia/inversionistas/articulo/bvc-y-ecopetrol-iniciaron-nuevamente-al-alza-en-la-previa-a-los-datos-de-inflacion/202333/\n"
     ]
    }
   ],
   "source": [
    "# Itera por cada articulo y extrae la informacion (CASO DE QUE YA EXISTA ARCHIVO DONDE SE ALMACENA)\n",
    "titulares = []\n",
    "for art in articulos:\n",
    "    url = art.find_element(By.XPATH,'.//a').get_attribute('href')\n",
    "    if not(bs.existedb(url, \"semana\")):\n",
    "        fechaP = art.find_element(By.XPATH,'.//div[contains(@style,\"margin-bottom:0px;color:#555;font-size:12px;\")]').text\n",
    "        resumen = art.find_element(By.XPATH,'.//div[contains(@class,\"queryly_item_description\")]').text\n",
    "        titulo = art.find_element(By.XPATH,'.//div[contains(@class,\"queryly_item_title\")]').text\n",
    "        txtImage = art.find_element(By.XPATH,'.//div[contains(@class,\"queryly_advanced_item_imagecontainer\")]').get_attribute('style')\n",
    "        imagen = 'https://www.semana.com'\n",
    "        imagen = imagen + txtImage.split(\"\\\"\")[1]\n",
    "        titulares.append({'Fecha Extraccion':datetime.datetime.now().strftime(\"%Y-%m-%d %H:%M:%S\"),\n",
    "                        'Titulo':titulo,\n",
    "                        'Fecha Publicacion':fechaP,\n",
    "                        'Resumen':resumen,\n",
    "                        'URL':url,\n",
    "                        'Imagen':imagen,\n",
    "                        'Empresa':empresa})"
   ]
  },
  {
   "cell_type": "code",
   "execution_count": 16,
   "metadata": {},
   "outputs": [],
   "source": [
    "# busca los autores de cada articulo y las almacena en la lista de titulares\n",
    "for tit in titulares:\n",
    "    \n",
    "    driver.get(tit['URL'])\n",
    "\n",
    "    # agregar contenido al dict de titulares\n",
    "    tit['Contenido'] = bs.obtener_contenido(driver)\n",
    "\n",
    "    # agregar tags al dict de titulares\n",
    "    tit['Tags'] = bs.obtener_tags(driver)\n",
    "    \n",
    "    # agregar contenido al dict de titulares\n",
    "    tit['Tema'] = bs.obtener_tema(driver)\n"
   ]
  },
  {
   "cell_type": "code",
   "execution_count": 17,
   "metadata": {},
   "outputs": [],
   "source": [
    "columnas = ['Fecha Extraccion','Titulo', 'Fecha Publicacion','Resumen','URL','Imagen','Empresa','Contenido','Tags','Tema']"
   ]
  },
  {
   "cell_type": "code",
   "execution_count": 18,
   "metadata": {},
   "outputs": [],
   "source": [
    "# Para AGREGAR titulares a un archivo.\n",
    "with open('../data/raw/semana.csv', 'a', newline='', errors='ignore') as csv_file:\n",
    "    dict_object = csv.DictWriter(csv_file, fieldnames=columnas) \n",
    "  \n",
    "    dict_object.writerows(titulares)\n"
   ]
  },
  {
   "cell_type": "code",
   "execution_count": 19,
   "metadata": {},
   "outputs": [],
   "source": [
    "#Para crear un NUEVO archivo con los titulares\n",
    "pd.json_normalize(titulares).to_csv(f'../data/raw/semana.csv',index=False, encoding='latin-1', errors='ignore', columns=columnas)"
   ]
  }
 ],
 "metadata": {
  "kernelspec": {
   "display_name": "Python 3",
   "language": "python",
   "name": "python3"
  },
  "language_info": {
   "codemirror_mode": {
    "name": "ipython",
    "version": 3
   },
   "file_extension": ".py",
   "mimetype": "text/x-python",
   "name": "python",
   "nbconvert_exporter": "python",
   "pygments_lexer": "ipython3",
   "version": "3.11.1"
  },
  "orig_nbformat": 4,
  "vscode": {
   "interpreter": {
    "hash": "5238573367df39f7286bb46f9ff5f08f63a01a80960060ce41e3c79b190280fa"
   }
  }
 },
 "nbformat": 4,
 "nbformat_minor": 2
}
