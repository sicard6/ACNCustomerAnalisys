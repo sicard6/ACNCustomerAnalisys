{
 "cells": [
  {
   "cell_type": "code",
   "execution_count": 1,
   "metadata": {},
   "outputs": [],
   "source": [
    "from selenium.webdriver.common.by import By\n",
    "import selenium as sel\n",
    "import pandas as pd\n",
    "import time\n",
    "import datetime\n",
    "import re\n",
    "\n",
    "import base as bs\n",
    "\n",
    "import os as os\n",
    "import csv\n",
    "\n",
    "from selenium.common.exceptions import NoSuchElementException\n",
    "from selenium.common.exceptions import StaleElementReferenceException\n",
    "from selenium.webdriver.common.by import By\n",
    "from selenium.webdriver.support.ui import WebDriverWait\n",
    "from selenium.webdriver.support import expected_conditions as EC"
   ]
  },
  {
   "cell_type": "code",
   "execution_count": 2,
   "metadata": {},
   "outputs": [],
   "source": [
    "#Empresa con la cual vamos a extraer los articulos\n",
    "# TODO Tener una lista que itere por todos lo clientes\n",
    "empresa = input(\"Digite la empresa a extraer: \").lower().strip()\n",
    "if \" \" in empresa:\n",
    "    empresa = empresa.replace(\" \", \"%20\")"
   ]
  },
  {
   "cell_type": "code",
   "execution_count": 71,
   "metadata": {},
   "outputs": [],
   "source": [
    "#cerar driver... MODIFICAR DEPENDIENDO DEL NAVEGADOR\n",
    "try:\n",
    "    driver = sel.webdriver.Edge()\n",
    "except:\n",
    "    cwd = os.getcwd()\n",
    "    path = os.path.join(cwd, 'msedgedriver.exe')\n",
    "    path.replace(\"\\\\\\\\\", \"\\\\\")\n",
    "    driver = sel.webdriver.Edge(executable_path=path.replace(\"\\\\\\\\\", \"\\\\\"))\n",
    "driver.get(f'https://www.semana.com/buscador/?query={empresa}')\n",
    "time.sleep(2)\n",
    "# WebDriverWait(driver, 5)\\\n",
    "#     .until(EC.element_to_be_clickable((By.XPATH,\n",
    "#                                       './/button[@class=\"onetrust-close-btn-handler onetrust-close-btn-ui banner-close-button ot-close-icon\"]')))\\\n",
    "#                                           .click()"
   ]
  },
  {
   "cell_type": "code",
   "execution_count": 72,
   "metadata": {},
   "outputs": [],
   "source": [
    "# Extrae la lista de todos los articulos de la pagina\n",
    "articulos = driver.find_elements(By.XPATH,'.//div[contains(@class,\"queryly_item_row\")]')"
   ]
  },
  {
   "cell_type": "code",
   "execution_count": 73,
   "metadata": {},
   "outputs": [],
   "source": [
    "# Itera por cada articulo y extrae la informacion (EN CASO DE QUE NO EXISTA ARCHIVO DE ALMACENAMIENTO ANTERIOR)\n",
    "titulares = []\n",
    "for art in articulos:\n",
    "    url = art.find_element(By.XPATH,'.//a').get_attribute('href')\n",
    "    if not(bs.existedb(url, \"aux\")):\n",
    "        fechaP = art.find_element(By.XPATH,'.//div[contains(@style,\"margin-bottom:0px;color:#555;font-size:12px;\")]').text\n",
    "        resumen = art.find_element(By.XPATH,'.//div[contains(@class,\"queryly_item_description\")]').text\n",
    "        titulo = art.find_element(By.XPATH,'.//div[contains(@class,\"queryly_item_title\")]').text\n",
    "        txtImage = art.find_element(By.XPATH,'.//div[contains(@class,\"queryly_advanced_item_imagecontainer\")]').get_attribute('style')\n",
    "        imagen = 'https://www.semana.com'\n",
    "        imagen = imagen + txtImage.split(\"\\\"\")[1]\n",
    "        titulares.append({'Fecha Extraccion':datetime.datetime.now().strftime(\"%Y-%m-%d %H:%M:%S\"),\n",
    "                        'Titulo':titulo,\n",
    "                        'Fecha Publicacion':fechaP,\n",
    "                        'Resumen':resumen,\n",
    "                        'URL':url,\n",
    "                        'Imagen':imagen,\n",
    "                        'Empresa':empresa})\n",
    "        \n",
    "    "
   ]
  },
  {
   "cell_type": "code",
   "execution_count": 74,
   "metadata": {},
   "outputs": [],
   "source": [
    "# Itera por cada articulo y extrae la informacion (CASO DE QUE YA EXISTA ARCHIVO DONDE SE ALMACENA)\n",
    "titulares = []\n",
    "for art in articulos:\n",
    "    url = art.find_element(By.XPATH,'.//a').get_attribute('href')\n",
    "    if not(bs.existedb(url, \"database\")):\n",
    "        fechaP = art.find_element(By.XPATH,'.//div[contains(@style,\"margin-bottom:0px;color:#555;font-size:12px;\")]').text\n",
    "        resumen = art.find_element(By.XPATH,'.//div[contains(@class,\"queryly_item_description\")]').text\n",
    "        titulo = art.find_element(By.XPATH,'.//div[contains(@class,\"queryly_item_title\")]').text\n",
    "        txtImage = art.find_element(By.XPATH,'.//div[contains(@class,\"queryly_advanced_item_imagecontainer\")]').get_attribute('style')\n",
    "        imagen = 'https://www.semana.com'\n",
    "        imagen = imagen + txtImage.split(\"\\\"\")[1]\n",
    "        titulares.append({'Fecha Extraccion':datetime.datetime.now().strftime(\"%Y-%m-%d %H:%M:%S\"),\n",
    "                        'Titulo':titulo,\n",
    "                        'Fecha Publicacion':fechaP,\n",
    "                        'Resumen':resumen,\n",
    "                        'URL':url,\n",
    "                        'Imagen':imagen,\n",
    "                        'Empresa':empresa})"
   ]
  },
  {
   "cell_type": "code",
   "execution_count": 75,
   "metadata": {},
   "outputs": [],
   "source": [
    "from tqdm import tqdm"
   ]
  },
  {
   "cell_type": "code",
   "execution_count": 76,
   "metadata": {},
   "outputs": [
    {
     "name": "stderr",
     "output_type": "stream",
     "text": [
      "100%|██████████| 20/20 [03:19<00:00,  9.95s/it]\n"
     ]
    }
   ],
   "source": [
    "# busca los autores de cada articulo y las almacena en la lista de titulares\n",
    "cont = 0\n",
    "for tit in tqdm(titulares):\n",
    "    if cont%10 == 0:\n",
    "        driver.quit()\n",
    "        driver = sel.webdriver.Edge(executable_path=r\"C:\\Users\\andres.ospina\\Downloads\\edgedriver_win64 (1)\\msedgedriver.exe\")\n",
    "    \n",
    "    driver.get(tit['URL'])\n",
    "\n",
    "    # agregar contenido al dict de titulares\n",
    "    tit['Contenido'] = bs.obtener_contenido(driver)\n",
    "\n",
    "    # agregar tags al dict de titulares\n",
    "    tit['Tags'] = bs.obtener_tags(driver)\n",
    "    \n",
    "    # agregar contenido al dict de titulares\n",
    "    tit['Tema'] = bs.obtener_tema(driver)\n",
    "    \n",
    "    # agregar fuente al dict de titulares\n",
    "    tit['Fuente'] = 'Semana'\n",
    "    \n",
    "    cont += 1"
   ]
  },
  {
   "cell_type": "code",
   "execution_count": 77,
   "metadata": {},
   "outputs": [],
   "source": [
    "df = pd.DataFrame(titulares)\n",
    "# bs.writeData(\"database\", df)"
   ]
  },
  {
   "cell_type": "code",
   "execution_count": 79,
   "metadata": {},
   "outputs": [
    {
     "data": {
      "text/plain": [
       "6865"
      ]
     },
     "execution_count": 79,
     "metadata": {},
     "output_type": "execute_result"
    }
   ],
   "source": [
    "len(df.loc[10, 'Contenido'])"
   ]
  },
  {
   "cell_type": "code",
   "execution_count": 34,
   "metadata": {},
   "outputs": [],
   "source": [
    "driver.close()"
   ]
  }
 ],
 "metadata": {
  "kernelspec": {
   "display_name": "Python 3",
   "language": "python",
   "name": "python3"
  },
  "language_info": {
   "codemirror_mode": {
    "name": "ipython",
    "version": 3
   },
   "file_extension": ".py",
   "mimetype": "text/x-python",
   "name": "python",
   "nbconvert_exporter": "python",
   "pygments_lexer": "ipython3",
   "version": "3.11.1"
  },
  "orig_nbformat": 4,
  "vscode": {
   "interpreter": {
    "hash": "5238573367df39f7286bb46f9ff5f08f63a01a80960060ce41e3c79b190280fa"
   }
  }
 },
 "nbformat": 4,
 "nbformat_minor": 2
}
