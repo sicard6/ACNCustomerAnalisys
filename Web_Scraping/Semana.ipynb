{
 "cells": [
  {
   "cell_type": "code",
   "execution_count": 1,
   "metadata": {},
   "outputs": [],
   "source": [
    "from selenium.webdriver.common.by import By\n",
    "import selenium as sel\n",
    "import pandas as pd\n",
    "import time\n",
    "import datetime\n",
    "import re\n",
    "\n",
    "import base as bs\n",
    "\n",
    "import os as os\n",
    "import csv\n",
    "\n",
    "from selenium.common.exceptions import NoSuchElementException\n",
    "from selenium.common.exceptions import StaleElementReferenceException\n",
    "from selenium.webdriver.common.by import By\n",
    "from selenium.webdriver.support.ui import WebDriverWait\n",
    "from selenium.webdriver.support import expected_conditions as EC"
   ]
  },
  {
   "cell_type": "code",
   "execution_count": 2,
   "metadata": {},
   "outputs": [],
   "source": [
    "#Empresa con la cual vamos a extraer los articulos\n",
    "# TODO Tener una lista que itere por todos lo clientes\n",
    "empresa = input(\"Digite la empresa a extraer: \")"
   ]
  },
  {
   "cell_type": "code",
   "execution_count": 3,
   "metadata": {},
   "outputs": [],
   "source": [
    "#cerar driver... MODIFICAR DEPENDIENDO DEL NAVEGADOR\n",
    "driver = sel.webdriver.Edge()\n",
    "driver.get(f'https://www.semana.com/buscador/?query={empresa}')\n",
    "time.sleep(2)"
   ]
  },
  {
   "cell_type": "code",
   "execution_count": 4,
   "metadata": {},
   "outputs": [],
   "source": [
    "# Extrae la lista de todos los articulos de la pagina\n",
    "articulos = driver.find_elements(By.XPATH,'.//div[contains(@class,\"queryly_item_row\")]')"
   ]
  },
  {
   "cell_type": "code",
   "execution_count": 5,
   "metadata": {},
   "outputs": [],
   "source": [
    "# Itera por cada articulo y extrae la informacion (EN CASO DE QUE NO EXISTA ARCHIVO DE ALMACENAMIENTO ANTERIOR)\n",
    "titulares = []\n",
    "for art in articulos:\n",
    "    url = art.find_element(By.XPATH,'.//a').get_attribute('href')\n",
    "    fechaP = art.find_element(By.XPATH,'.//div[contains(@style,\"margin-bottom:0px;color:#555;font-size:12px;\")]').text\n",
    "    resumen = art.find_element(By.XPATH,'.//div[contains(@class,\"queryly_item_description\")]').text\n",
    "    titulo = art.find_element(By.XPATH,'.//div[contains(@class,\"queryly_item_title\")]').text\n",
    "    txtImage = art.find_element(By.XPATH,'.//div[contains(@class,\"queryly_advanced_item_imagecontainer\")]').get_attribute('style')\n",
    "    imagen = 'https://www.semana.com'\n",
    "    imagen = imagen + txtImage.split(\"\\\"\")[1]\n",
    "    titulares.append({'Fecha Extraccion':datetime.datetime.now().strftime(\"%Y-%m-%d %H:%M:%S\"),\n",
    "                    'Titulo':titulo,\n",
    "                    'Fecha Publicacion':fechaP,\n",
    "                    'Resumen':resumen,\n",
    "                    'URL':url,\n",
    "                    'Imagen':imagen,\n",
    "                    'Empresa':empresa})\n",
    "        \n",
    "    "
   ]
  },
  {
   "cell_type": "code",
   "execution_count": 6,
   "metadata": {},
   "outputs": [],
   "source": [
    "# Itera por cada articulo y extrae la informacion (CASO DE QUE YA EXISTA ARCHIVO DONDE SE ALMACENA)\n",
    "titulares = []\n",
    "for art in articulos:\n",
    "    url = art.find_element(By.XPATH,'.//a').get_attribute('href')\n",
    "    if not(bs.existedb(url, \"semana\")):\n",
    "        fechaP = art.find_element(By.XPATH,'.//div[contains(@style,\"margin-bottom:0px;color:#555;font-size:12px;\")]').text\n",
    "        resumen = art.find_element(By.XPATH,'.//div[contains(@class,\"queryly_item_description\")]').text\n",
    "        titulo = art.find_element(By.XPATH,'.//div[contains(@class,\"queryly_item_title\")]').text\n",
    "        txtImage = art.find_element(By.XPATH,'.//div[contains(@class,\"queryly_advanced_item_imagecontainer\")]').get_attribute('style')\n",
    "        imagen = 'https://www.semana.com'\n",
    "        imagen = imagen + txtImage.split(\"\\\"\")[1]\n",
    "        titulares.append({'Fecha Extraccion':datetime.datetime.now().strftime(\"%Y-%m-%d %H:%M:%S\"),\n",
    "                        'Titulo':titulo,\n",
    "                        'Fecha Publicacion':fechaP,\n",
    "                        'Resumen':resumen,\n",
    "                        'URL':url,\n",
    "                        'Imagen':imagen,\n",
    "                        'Empresa':empresa})"
   ]
  },
  {
   "cell_type": "code",
   "execution_count": null,
   "metadata": {},
   "outputs": [],
   "source": [
    "# busca los autores de cada articulo y las almacena en la lista de titulares\n",
    "for tit in titulares:\n",
    "    \n",
    "    driver.get(tit['URL'])\n",
    "\n",
    "    # agregar contenido al dict de titulares\n",
    "    tit['Contenido'] = bs.obtener_contenido(driver)\n",
    "\n",
    "    # agregar tags al dict de titulares\n",
    "    tit['Tags'] = bs.obtener_tags(driver)\n",
    "    \n",
    "    # agregar contenido al dict de titulares\n",
    "    tit['Tema'] = bs.obtener_tema(driver)\n"
   ]
  },
  {
   "cell_type": "code",
   "execution_count": 8,
   "metadata": {},
   "outputs": [],
   "source": [
    "columnas = ['Fecha Extraccion','Titulo', 'Fecha Publicacion','Resumen','URL','Imagen','Empresa','Contenido','Tags','Tema']"
   ]
  },
  {
   "cell_type": "code",
   "execution_count": 12,
   "metadata": {},
   "outputs": [
    {
     "name": "stdout",
     "output_type": "stream",
     "text": [
      "{'Fecha Extraccion': '2023-01-26 21:46:36', 'Titulo': 'BVC se mantuvo a la baja este martes mientras que Ecopetrol cerró con saldo a ...', 'Fecha Publicacion': 'mar, 17 ene 2023', 'Resumen': 'La Bolsa de Valores de Colombia y Ecopetrol terminaron con resultados dispares este martes -17 de enero- luego de una sesión de altas y bajas ...', 'URL': 'https://www.semana.com/economia/inversionistas/articulo/bvc-se-mantuvo-a-la-baja-este-martes-mientras-que-ecopetrol-cerro-con-saldo-a-favor/202302/', 'Imagen': 'https://www.semana.com/resizer/60ckNqED2bNd-1kIvLwLBMxQVkE=/300x0/arc-anglerfish-arc2-prod-semana/public/JHA37X2KZFHOVF3M4VXCQEU5EM.jpg', 'Empresa': 'ecopetrol', 'Contenido': 'La Bolsa de Valores de Colombia y Ecopetrol terminaron con resultados dispares este martes -17 de enero- luego de una sesión de altas y bajas muy marcadas en el mercado local, donde se mantiene la incertidumbre por lo que pasará con el país en materia inflacionaria y lo que pasará con las tasas de interés la próxima semana, cuando se reúna la junta directiva del Banco de la República.', 'Tags': ['Bolsa de Valores de Colombia', 'BVC', 'Ecopetrol'], 'Tema': 'Bvc'}\n"
     ]
    }
   ],
   "source": [
    "# Para AGREGAR titulares a un archivo.\n",
    "with open('../data/raw/semana.csv', 'a', newline='', errors='ignore') as csv_file:\n",
    "    dict_object = csv.DictWriter(csv_file, fieldnames=columnas) \n",
    "  \n",
    "    dict_object.writerows(titulares)\n"
   ]
  },
  {
   "cell_type": "code",
   "execution_count": 10,
   "metadata": {},
   "outputs": [],
   "source": [
    "#Para crear un NUEVO archivo con los titulares\n",
    "#pd.json_normalize(titulares).to_csv(f'../data/raw/semana.csv',index=False, encoding='latin-1', errors='ignore', columns=columnas)"
   ]
  }
 ],
 "metadata": {
  "kernelspec": {
   "display_name": "Python 3",
   "language": "python",
   "name": "python3"
  },
  "language_info": {
   "codemirror_mode": {
    "name": "ipython",
    "version": 3
   },
   "file_extension": ".py",
   "mimetype": "text/x-python",
   "name": "python",
   "nbconvert_exporter": "python",
   "pygments_lexer": "ipython3",
   "version": "3.11.1 (tags/v3.11.1:a7a450f, Dec  6 2022, 19:58:39) [MSC v.1934 64 bit (AMD64)]"
  },
  "orig_nbformat": 4,
  "vscode": {
   "interpreter": {
    "hash": "5238573367df39f7286bb46f9ff5f08f63a01a80960060ce41e3c79b190280fa"
   }
  }
 },
 "nbformat": 4,
 "nbformat_minor": 2
}
