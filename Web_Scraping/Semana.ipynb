{
 "cells": [
  {
   "cell_type": "code",
   "execution_count": 1,
   "metadata": {},
   "outputs": [],
   "source": [
    "from selenium.webdriver.common.by import By\n",
    "import selenium as sel\n",
    "import pandas as pd\n",
    "import time\n",
    "import datetime\n",
    "\n",
    "import os as os\n",
    "import csv"
   ]
  },
  {
   "cell_type": "code",
   "execution_count": 30,
   "metadata": {},
   "outputs": [],
   "source": [
    "\n",
    "def existedb(url: str):\n",
    "    \"\"\"Funcion que verifica si una url existe en la base de datos\n",
    "    Args:\n",
    "        url (str): url del articulo a verificar\n",
    "\n",
    "    Returns:\n",
    "        Bool: False si la url existe, True si no existe\n",
    "    \"\"\"\n",
    "    \n",
    "    db = pd.read_csv(\"../data/raw/semana.csv\",encoding='utf8')\n",
    "    return True if (db[\"URL\"].eq(url)).any() else False\n",
    "    # with open('../data/raw/articulos.csv', encoding=\"utf8\") as f:\n",
    "    #     csvreader = csv.reader(f, delimiter=\",\")\n",
    "    #     for row in csvreader:\n",
    "    #         if url in row[5]:\n",
    "    #              return False\n",
    "    #     return True\n"
   ]
  },
  {
   "cell_type": "code",
   "execution_count": 12,
   "metadata": {},
   "outputs": [],
   "source": [
    "def obtener_tags(driver: sel.webdriver.Edge):\n",
    "    \"\"\"Funcion que obtiene los tags del articulo\n",
    "\n",
    "    Args:\n",
    "        driver (sel.webdriver.Edge): driver de selenium\n",
    "\n",
    "    Returns:\n",
    "        str[]: Lista de strings/tags\n",
    "    \"\"\"\n",
    "    tags = []\n",
    "    try :\n",
    "        secTags = driver.find_element(By.XPATH,'.//div[contains(@class,\"tags-list\")]')\n",
    "    except:\n",
    "        tags = 'SIN TAGS'\n",
    "    else:\n",
    "        units = secTags.find_elements(By.XPATH,'.//span')\n",
    "        for i in units:\n",
    "            tags.append(i.text)\n",
    "                  \n",
    "    return tags\n",
    "    "
   ]
  },
  {
   "cell_type": "code",
   "execution_count": 2,
   "metadata": {},
   "outputs": [],
   "source": [
    "def obtener_contenido(driver: sel.webdriver.Edge):\n",
    "    \"\"\"Funcion que itera sobre todos los parrafos del articulo y los extrae.\n",
    "\n",
    "    Args:\n",
    "        driver (sel.webdriver.Edge): driver de selenium\n",
    "\n",
    "    Returns:\n",
    "        str: devuelve el contenido del articulo\n",
    "    \"\"\"\n",
    "    contenido = ''\n",
    "    try :\n",
    "        html = driver.find_element(By.XPATH,'.//article[contains(@class,\"paywall\")]')\n",
    "        parrafos = html.find_elements(By.XPATH,'.//p')\n",
    "    except:\n",
    "        parrafos = 'SIN PARRAFOS'\n",
    "    else:\n",
    "        for i in parrafos:\n",
    "            contenido += i.text\n",
    "       \n",
    "    return contenido"
   ]
  },
  {
   "cell_type": "code",
   "execution_count": 9,
   "metadata": {},
   "outputs": [],
   "source": [
    "def obtener_tema(driver: sel.webdriver.Edge):\n",
    "    \"\"\"Funcion que itera sobre todos los parrafos del articulo y los extrae.\n",
    "\n",
    "    Args:\n",
    "        driver (sel.webdriver.Edge): driver de selenium\n",
    "\n",
    "    Returns:\n",
    "        str: devuelve el contenido del articulo\n",
    "    \"\"\"\n",
    "    tema = ''\n",
    "    try :\n",
    "        tema = driver.find_element(By.XPATH,'.//h3').text\n",
    "    except:\n",
    "        tema = 'SIN TEMA'\n",
    "       \n",
    "    return tema"
   ]
  },
  {
   "cell_type": "code",
   "execution_count": 13,
   "metadata": {},
   "outputs": [],
   "source": [
    "#Empresa con la cual vamos a extraer los articulos\n",
    "# TODO Tener una lista que itere por todos lo clientes\n",
    "empresa = input(\"Digite la empresa a extraer: \")"
   ]
  },
  {
   "cell_type": "code",
   "execution_count": 14,
   "metadata": {},
   "outputs": [],
   "source": [
    "#cerar driver... MODIFICAR DEPENDIENDO DEL NAVEGADOR\n",
    "driver = sel.webdriver.Edge()\n",
    "driver.get(f'https://www.semana.com/buscador/?query={empresa}')\n",
    "time.sleep(2)"
   ]
  },
  {
   "cell_type": "code",
   "execution_count": 15,
   "metadata": {},
   "outputs": [],
   "source": [
    "# Extrae la lista de todos los articulos de la pagina\n",
    "articulos = driver.find_elements(By.XPATH,'.//div[contains(@class,\"queryly_item_row\")]')"
   ]
  },
  {
   "cell_type": "code",
   "execution_count": 16,
   "metadata": {},
   "outputs": [],
   "source": [
    "# Itera por cada articulo y extrae la informacion (EN CASO DE QUE NO EXISTA ARCHIVO DE ALMACENAMIENTO ANTERIOR)\n",
    "titulares = []\n",
    "for art in articulos:\n",
    "    url = art.find_element(By.XPATH,'.//a').get_attribute('href')\n",
    "    fechaP = art.find_element(By.XPATH,'.//div[contains(@style,\"margin-bottom:0px;color:#555;font-size:12px;\")]').text\n",
    "    resumen = art.find_element(By.XPATH,'.//div[contains(@class,\"queryly_item_description\")]').text\n",
    "    titulo = art.find_element(By.XPATH,'.//div[contains(@class,\"queryly_item_title\")]').text\n",
    "    titulares.append({'Fecha Extraccion':datetime.datetime.now().strftime(\"%Y-%m-%d %H:%M:%S\"),\n",
    "                    'Titulo':titulo,\n",
    "                    'Fecha Publicacion':fechaP,\n",
    "                    'Resumen':resumen,\n",
    "                    'URL':url,\n",
    "                    'Empresa':empresa})\n",
    "        \n",
    "    "
   ]
  },
  {
   "cell_type": "code",
   "execution_count": 20,
   "metadata": {},
   "outputs": [],
   "source": [
    "# busca los autores de cada articulo y las almacena en la lista de titulares\n",
    "for tit in titulares:\n",
    "    \n",
    "    driver.get(tit['URL'])\n",
    "\n",
    "    # agregar contenido al dict de titulares\n",
    "    tit['Contenido'] = obtener_contenido(driver)\n",
    "\n",
    "    # agregar tags al dict de titulares\n",
    "    tit['Tags'] = obtener_tags(driver)\n",
    "    \n",
    "    # agregar contenido al dict de titulares\n",
    "    tit['Tema'] = obtener_tema(driver)\n",
    "      \n",
    "\n",
    "    # se podria agregar un if resumen vacio, llamar a resumen. (para las 3 noticias principales)"
   ]
  },
  {
   "cell_type": "code",
   "execution_count": 22,
   "metadata": {},
   "outputs": [
    {
     "name": "stdout",
     "output_type": "stream",
     "text": [
      "{'Fecha Extraccion': '2022-09-05 12:01:39', 'Titulo': 'Moody’s bajó la calificación crediticia de Ecopetrol: el riesgo de refinanciamiento es elevado', 'Fecha Publicacion': 'mié, 24 ago 2022', 'Resumen': 'La firma calificadora de riesgos Moody’s Investors Service anunció este miércoles -24 de agosto- que mantuvo las calificaciones senior quirografarias de Baa3 de Ecopetrol S.A. ...', 'URL': 'https://www.semana.com/economia/inversionistas/articulo/moodys-bajo-la-calificacion-crediticia-de-ecopetrol-el-riesgo-de-refinanciamiento-es-elevado/202241/', 'Empresa': 'Ecopetrol', 'Contenido': 'La firma calificadora de riesgos Moody’s Investors Service anunció este miércoles -24 de agosto- que mantuvo las calificaciones senior quirografarias de Baa3 de Ecopetrol S.A. y que rebajó la Evaluación crediticia de referencia (BCA) de Ecopetrol a ba3 de ba1 debido al elevado riesgo de refinanciamiento de la compañía.Esto, según el informe presentado por esta compañía, es el resultado de una política financiera agresiva, en un contexto de alto riesgo geopolítico global y precios volátiles de las materias primas, así como un marco de política gubernamental más débil. La perspectiva de las calificaciones sigue siendo negativa.“La rebaja de la Evaluación crediticia de referencia de Ecopetrol (una medida del riesgo crediticio intrínseco de la empresa sin consideraciones de respaldo) a ba3 de ba1 se basó principalmente en el tiempo prolongado que la empresa se ha tomado para refinanciar cerca de $5,100 millones en deuda con vencimiento en septiembre de 2023″, indicó la calificadora.Un punto que llama la atención en las razones por las que esta firma bajó la calificación de petrolera estatal, es que algunas de estas estuvieron basadas en las ideas con las que llega el nuevo gobierno, de Gustavo Petro, especialmente en lo que respecta al cambio de modelo productivo en el país para dar mayor fuerza al uso de energías limpias.“La rebaja de BCA también consideró las prioridades energéticas y ambientales del nuevo gobierno, que pueden incluir cambios como restricciones a la exploración y producción basadas en fracturamiento hidráulico en Colombia; limitaciones a nuevas concesiones o permisos para la exploración petrolera; y nuevos impuestos a la industria del petróleo y el gas, según la propuesta de reforma tributaria”, agregó.No obstante, según Moody’s, las calificaciones de Baa3 de Ecopetrol continúan reflejando el estatus de la compañía como el principal productor de petróleo y gas de Colombia, que representa más del 60 % de la producción del país y cerca del 100 % del suministro de productos petrolíferos, así como su importante negocio de transmisión de energía en Colombia y otros países.“El riesgo de refinanciamiento de Ecopetrol es elevado pero manejable. Los sólidos precios del petróleo y el gas han ayudado a la generación de efectivo de Ecopetrol en 2021-22. Para 2023-2024, Moody’s cree que, con base en un precio Brent promedio estimado de $68-58 dólares por barril, el flujo de efectivo de la compañía disminuirá con respecto a los niveles de 2022″, destacó esta agencia de riesgos.Sin embargo, a pesar de la volatilidad de los precios de las materias primas, esta calificadora cree que la empresa podrá cumplir con sus obligaciones financieras en 2023 con el apoyo de acceso a los mercados de capitales global y colombiano, su línea de crédito bancaria comprometida de $ 1.2 mil millones disponible hasta agosto de 2023; y el apoyo del gobierno, teniendo presente que es uno de los mayores activos del Estado.De acuerdo con Moody’s, la perspectiva de la calificación de Ecopetrol se estabilizaría si la empresa pudiera refinanciar los próximos vencimientos de deuda de manera oportuna. A su vez, una mejora de la calificación ba3 BCA o Baa3 de Ecopetrol es poco probable en los próximos 12 meses dada la perspectiva negativa de la calificación.“Sin embargo, si la empresa logra fortalecer sus políticas financieras y, al mismo tiempo, demuestra la capacidad de reducir el apalancamiento financiero mientras aumenta la producción y mantiene estable la vida útil de las reservas probadas, su calificación podría mejorar”, explicó esta firma.Por último, la firma calificadora de riesgos advirtió que podría ocurrir una rebaja en las calificaciones si Ecopetrol enfrenta restricciones de liquidez; si su vida de reserva disminuye significativamente de forma sostenida; o si el flujo de caja retenido/deuda neta disminuye a alrededor del 20 %.“Además, debido a que las calificaciones de Ecopetrol se benefician del respaldo implícito del Gobierno de Colombia, una acción negativa sobre la calificación del gobierno o un cambio en los supuestos de Moody’s sobre el respaldo del gobierno podría generar una acción negativa sobre las calificaciones de Ecopetrol”, concluye el informe.', 'Tags': ['Ecopetrol', 'Moodys', 'Calificadoras de riesgo'], 'Tema': 'Inversionistas'}\n"
     ]
    }
   ],
   "source": [
    "print(titulares[1])"
   ]
  },
  {
   "cell_type": "code",
   "execution_count": 52,
   "metadata": {},
   "outputs": [],
   "source": [
    "columnas = ['Fecha Extraccion','Titulo', 'Fecha Publicacion','Tema','Resumen','URL','Imagen','Empresa','Autor','Contenido','RelNewsUrls']"
   ]
  },
  {
   "cell_type": "code",
   "execution_count": 53,
   "metadata": {},
   "outputs": [],
   "source": [
    "# Para agregar titulares a un archivo.\n",
    "with open('../data/raw/noticias.csv', 'a', newline='') as csv_file:\n",
    "    dict_object = csv.DictWriter(csv_file, fieldnames=columnas) \n",
    "  \n",
    "    dict_object.writerows(titulares)"
   ]
  },
  {
   "cell_type": "code",
   "execution_count": 41,
   "metadata": {},
   "outputs": [],
   "source": [
    "#Para crear un nuevo archivo con los titulares\n",
    "pd.json_normalize(titulares).to_csv(f'../data/raw/noticias.csv',index=False, encoding='utf8')"
   ]
  }
 ],
 "metadata": {
  "kernelspec": {
   "display_name": "Python 3.10.6 64-bit",
   "language": "python",
   "name": "python3"
  },
  "language_info": {
   "codemirror_mode": {
    "name": "ipython",
    "version": 3
   },
   "file_extension": ".py",
   "mimetype": "text/x-python",
   "name": "python",
   "nbconvert_exporter": "python",
   "pygments_lexer": "ipython3",
   "version": "3.10.6"
  },
  "orig_nbformat": 4,
  "vscode": {
   "interpreter": {
    "hash": "26de051ba29f2982a8de78e945f0abaf191376122a1563185a90213a26c5da77"
   }
  }
 },
 "nbformat": 4,
 "nbformat_minor": 2
}
