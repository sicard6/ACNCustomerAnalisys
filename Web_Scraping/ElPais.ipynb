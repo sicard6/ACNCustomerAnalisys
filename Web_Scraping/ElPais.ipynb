{
 "cells": [
  {
   "cell_type": "code",
   "execution_count": 136,
   "metadata": {},
   "outputs": [],
   "source": [
    "from selenium.webdriver.common.by import By\n",
    "import selenium as sel\n",
    "import pandas as pd\n",
    "import time\n",
    "from datetime import datetime\n",
    "import base as bs\n",
    "\n",
    "import os as os\n",
    "import csv\n",
    "\n",
    "from selenium.webdriver.support.ui import WebDriverWait\n",
    "from selenium.webdriver.support import expected_conditions as EC\n",
    "from selenium.common.exceptions import TimeoutException"
   ]
  },
  {
   "cell_type": "code",
   "execution_count": 137,
   "metadata": {},
   "outputs": [],
   "source": [
    "def get_url(art):\n",
    "    try:\n",
    "        url = art.find_element(By.XPATH, '//h2[@class=\"c_t\"]//a').get_attribute('href')\n",
    "    except:\n",
    "        url = None\n",
    "    else:\n",
    "        return url\n"
   ]
  },
  {
   "cell_type": "code",
   "execution_count": 138,
   "metadata": {},
   "outputs": [],
   "source": [
    "def get_titulo(art):\n",
    "    try:\n",
    "        titulo = art.find_element(By.XPATH, '//h2[@class=\"c_t\"]//a').text\n",
    "    except:\n",
    "        titulo = None\n",
    "    else:\n",
    "        return titulo"
   ]
  },
  {
   "cell_type": "code",
   "execution_count": 139,
   "metadata": {},
   "outputs": [],
   "source": [
    "def get_autor(art):\n",
    "    try:\n",
    "        autor = art.find_element(By.XPATH, '//div[@class=\"c_a\"]//a').text\n",
    "    except:\n",
    "        autor = None\n",
    "    else:\n",
    "        return autor"
   ]
  },
  {
   "cell_type": "code",
   "execution_count": 140,
   "metadata": {},
   "outputs": [],
   "source": [
    "def get_fecha(art):\n",
    "    try:\n",
    "        fecha = art.find_element(By.XPATH, '//div[@class=\"c_f\"]').text.split(\"\\n\")[0]\n",
    "        fecha_pub = datetime.strptime(fecha, '%d/%m/%Y')\n",
    "    except:\n",
    "        fecha_pub = None\n",
    "    return fecha_pub"
   ]
  },
  {
   "cell_type": "code",
   "execution_count": 141,
   "metadata": {},
   "outputs": [],
   "source": [
    "def get_resumen(art):\n",
    "    try:\n",
    "        resumen = art.find_element(By.XPATH, './/p').text\n",
    "    except:\n",
    "        resumen = None\n",
    "    return resumen"
   ]
  },
  {
   "cell_type": "code",
   "execution_count": 142,
   "metadata": {},
   "outputs": [],
   "source": [
    "def get_tema(art):\n",
    "    try:\n",
    "        tema = art.find_element(By.XPATH, '//header[contains(@class, \"c_h\")]/a').text\n",
    "    except:\n",
    "        tema = None\n",
    "    return tema"
   ]
  },
  {
   "cell_type": "code",
   "execution_count": 143,
   "metadata": {},
   "outputs": [],
   "source": [
    "def get_imag(art):\n",
    "    try:\n",
    "        imagen = art.find_element(By.XPATH, './/img').get_attribute('src')\n",
    "    except:\n",
    "        imagen = None\n",
    "    return imagen"
   ]
  },
  {
   "cell_type": "code",
   "execution_count": 144,
   "metadata": {},
   "outputs": [],
   "source": [
    "def get_ciudad(driver):\n",
    "    try:\n",
    "        ciudad = driver.find_element(By.XPATH, './/div[@class=\"a_md_f\"]').text.split(' ')[0]\n",
    "    except:\n",
    "        ciudad = None\n",
    "    return ciudad"
   ]
  },
  {
   "cell_type": "code",
   "execution_count": 145,
   "metadata": {},
   "outputs": [],
   "source": [
    "def get_contenido(driver):\n",
    "    try:\n",
    "        parrafos = driver.find_elements(By.XPATH, '//div[@class=\"a_c clearfix\"]/p')\n",
    "        contenido = '\\n\\n'.join(list(map(lambda x: x.text, parrafos)))\n",
    "    except:\n",
    "        contenido = None\n",
    "    return contenido"
   ]
  },
  {
   "cell_type": "code",
   "execution_count": 146,
   "metadata": {},
   "outputs": [],
   "source": [
    "#Empresa con la cual vamos a extraer los articulos\n",
    "empresa = input(\"Digite la empresa a extraer: \").lower()\n",
    "revista = \"elPais\""
   ]
  },
  {
   "cell_type": "code",
   "execution_count": 147,
   "metadata": {},
   "outputs": [],
   "source": [
    "# crear driver... MODIFICAR DEPENDIENDO DEL NAVEGADOR\n",
    "driver = sel.webdriver.Edge()\n",
    "driver.get(f'https://elpais.com/buscador/?q={empresa}')\n",
    "time.sleep(2)\n",
    "\n",
    "# Si en 5 segundo no ha encontrado el elemento que se le pasa se detiene\n",
    "# Luego acepta los cookies\n",
    "WebDriverWait(driver, 5)\\\n",
    "    .until(EC.element_to_be_clickable((By.CSS_SELECTOR,\n",
    "                                      \"button.didomi-components-button didomi-button didomi-dismiss-button didomi-components-button--color didomi-button-highlight highlight-button\".replace(\" \", \".\"))))\\\n",
    "                                          .click()\n",
    "time.sleep(2)\n",
    "driver.execute_script('window.scrollBy(0, document.body.scrollHeight)')                                  "
   ]
  },
  {
   "cell_type": "code",
   "execution_count": 148,
   "metadata": {},
   "outputs": [],
   "source": [
    "# \"c c-d _g _g-md c-m-l c--m-n\" Contiene tema\n",
    "articulos_Imag = driver.find_elements(By.XPATH, './/article[contains(@class, \"c c-d _g _g-md c-m-l c--m\")]')\n",
    "articulos_NoImag = driver.find_elements(By.XPATH, './/article[contains(@class, \"c c-d _g _g-md c-m-l c--m-n\")]')\n",
    "articulos = articulos_Imag + articulos_NoImag\n"
   ]
  },
  {
   "cell_type": "code",
   "execution_count": 149,
   "metadata": {},
   "outputs": [],
   "source": [
    "titulares = []\n",
    "for art in articulos:\n",
    "    # if not(bs.existedb(url, revista)):\n",
    "    titulo = get_titulo(art)\n",
    "    autor = get_autor(art)\n",
    "    fecha = get_fecha(art)\n",
    "    resumen = get_resumen(art)\n",
    "    tema = get_tema(art)\n",
    "    if art in articulos_Imag:\n",
    "        imagen = get_imag(art)\n",
    "    else:\n",
    "        imagen = None\n",
    "    titulares.append({'Fecha Extraccion':datetime.now().strftime(\"%Y-%m-%d %H:%M:%S\"),\n",
    "                    'Titulo': titulo,\n",
    "                    'Fecha Publicacion':fecha,\n",
    "                    'Tema': tema,\n",
    "                    'Resumen': resumen,\n",
    "                    'URL': url,\n",
    "                    'Imagen': imagen,\n",
    "                    'Empresa': empresa,\n",
    "                    'Autor': autor\n",
    "                    })"
   ]
  },
  {
   "cell_type": "code",
   "execution_count": 151,
   "metadata": {},
   "outputs": [],
   "source": [
    "# Buscar el contenido de cada artículo y los almacena en la lista de titulares\n",
    "for tit in titulares:\n",
    "    driver.get(tit['URL'])\n",
    "    \n",
    "    tit['Contenido'] = get_contenido(driver)\n",
    "    # tit['Ciudada de publicación'] = get_ciudad(driver)"
   ]
  },
  {
   "cell_type": "code",
   "execution_count": null,
   "metadata": {},
   "outputs": [],
   "source": [
    "len(titulares)"
   ]
  },
  {
   "cell_type": "code",
   "execution_count": 152,
   "metadata": {},
   "outputs": [],
   "source": [
    "columnas = ['Fecha Extraccion', 'Titulo', 'Fecha Publicacion', 'Tema',\n",
    "            'Resumen', 'URL', 'Imagen', 'Empresa', 'Autor', 'Contenido']"
   ]
  },
  {
   "cell_type": "code",
   "execution_count": 129,
   "metadata": {},
   "outputs": [],
   "source": [
    "# Para AGREGAR titulares a un archivo.\n",
    "with open(f'../data/raw/{revista}.csv', 'a', newline='', errors='ignore') as csv_file:\n",
    "    dict_object = csv.DictWriter(csv_file, fieldnames=columnas) \n",
    "  \n",
    "    dict_object.writerows(titulares)"
   ]
  },
  {
   "cell_type": "code",
   "execution_count": 153,
   "metadata": {},
   "outputs": [],
   "source": [
    "#Para crear un NUEVO archivo con los titulares\n",
    "pd.json_normalize(titulares).to_csv(f'../data/raw/{revista}.csv',index=False, encoding='latin-1', errors='ignore', columns=columnas)"
   ]
  },
  {
   "cell_type": "code",
   "execution_count": 131,
   "metadata": {},
   "outputs": [],
   "source": [
    "# Demora inteligente\n",
    "# delay = 10\n",
    "# try:\n",
    "#     url = WebDriverWait(driver, delay).until(EC.presence_of_element_located(By.XPATH, \".//div\"))\n",
    "# except:\n",
    "#     print(\"La página tardó demasiado en cargar\")"
   ]
  }
 ],
 "metadata": {
  "kernelspec": {
   "display_name": "Python 3",
   "language": "python",
   "name": "python3"
  },
  "language_info": {
   "codemirror_mode": {
    "name": "ipython",
    "version": 3
   },
   "file_extension": ".py",
   "mimetype": "text/x-python",
   "name": "python",
   "nbconvert_exporter": "python",
   "pygments_lexer": "ipython3",
   "version": "3.11.1"
  },
  "orig_nbformat": 4,
  "vscode": {
   "interpreter": {
    "hash": "5238573367df39f7286bb46f9ff5f08f63a01a80960060ce41e3c79b190280fa"
   }
  }
 },
 "nbformat": 4,
 "nbformat_minor": 2
}
