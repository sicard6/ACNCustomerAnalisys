{
 "cells": [
  {
   "cell_type": "code",
   "execution_count": 151,
   "metadata": {},
   "outputs": [],
   "source": [
    "from selenium.webdriver.common.by import By\n",
    "import selenium as sel\n",
    "import pandas as pd\n",
    "import time\n",
    "from datetime import datetime\n",
    "import base as bs\n",
    "\n",
    "import os as os\n",
    "import csv\n",
    "\n",
    "from selenium.webdriver.support.ui import WebDriverWait\n",
    "from selenium.webdriver.support import expected_conditions as EC\n",
    "from selenium.common.exceptions import TimeoutException\n"
   ]
  },
  {
   "cell_type": "code",
   "execution_count": 152,
   "metadata": {},
   "outputs": [],
   "source": [
    "meses = {\"Enero\": \"1\",\"Febrero\": \"2\", \"Marzo\": \"3\", \"Abril\": \"4\", \"Mayo\": \"5\", \"Junio\": \"6\", \"Julio\": \"7\", \n",
    "        \"Agosto\": \"8\", \"Septiembre\": \"9\", \"Octubre\": \"10\", \"Noviembre\": \"11\", \"Diciembre\": \"12\"}"
   ]
  },
  {
   "cell_type": "code",
   "execution_count": 153,
   "metadata": {},
   "outputs": [],
   "source": [
    "def get_url(art):\n",
    "    try:\n",
    "        url = art.find_element(By.XPATH, './/h2[@class=\"p boton extra-bold mb-10\"]//a').get_attribute('href')\n",
    "    except:\n",
    "        url = None\n",
    "    else:\n",
    "        return url\n"
   ]
  },
  {
   "cell_type": "code",
   "execution_count": 154,
   "metadata": {},
   "outputs": [],
   "source": [
    "def get_titulo(art):\n",
    "    try:\n",
    "        titulo = art.find_element(By.XPATH, './/h2[@class=\"p boton extra-bold mb-10\"]//a').text\n",
    "    except:\n",
    "        titulo = None\n",
    "    else:\n",
    "        return titulo"
   ]
  },
  {
   "cell_type": "code",
   "execution_count": 155,
   "metadata": {},
   "outputs": [],
   "source": [
    "def get_autor(art):\n",
    "    try:\n",
    "        autor = art.find_element(By.XPATH, './/div[@class=\"mainInternalArticle__autor mb-10\"]//a').text\n",
    "    except:\n",
    "        autor = None\n",
    "    else:\n",
    "        return autor"
   ]
  },
  {
   "cell_type": "code",
   "execution_count": 156,
   "metadata": {},
   "outputs": [],
   "source": [
    "def get_fecha(art):\n",
    "    try:\n",
    "        fecha = art.find_element(By.XPATH, './/time').text\n",
    "        lst_fecha = fecha.split()\n",
    "        dia = lst_fecha[1][:-1]\n",
    "        mes = meses[lst_fecha[0]]\n",
    "        ano = lst_fecha[2]\n",
    "        \n",
    "        fecha_pub = datetime.strptime(dia+\"/\"+mes+\"/\"+ano, \"%d/%m/%Y\")\n",
    "    except:\n",
    "        fecha_pub = None\n",
    "    return fecha_pub"
   ]
  },
  {
   "cell_type": "code",
   "execution_count": 157,
   "metadata": {},
   "outputs": [],
   "source": [
    "def get_resumen(art):\n",
    "    try:\n",
    "        resumen = art.find_element(By.XPATH, './/h2').text\n",
    "    except:\n",
    "        resumen = None\n",
    "    return resumen"
   ]
  },
  {
   "cell_type": "code",
   "execution_count": 158,
   "metadata": {},
   "outputs": [],
   "source": [
    "def get_imag(art):\n",
    "    try:\n",
    "        imagen = art.find_element(By.XPATH, './/div[contains(@class, \"mainHistoria-imagen\")]//img').get_attribute('src')\n",
    "    except:\n",
    "        imagen = None\n",
    "    return imagen"
   ]
  },
  {
   "cell_type": "code",
   "execution_count": 159,
   "metadata": {},
   "outputs": [],
   "source": [
    "def get_contenido(driver):\n",
    "    try:\n",
    "        parrafos = driver.find_elements(By.XPATH, './/div[contains(@class, \"mainHistoria-interna mainHistoria-description\")]//p')\n",
    "        contenido = '\\n\\n'.join(list(map(lambda x: x.text, parrafos)))\n",
    "    except:\n",
    "        contenido = None\n",
    "    return contenido"
   ]
  },
  {
   "cell_type": "code",
   "execution_count": 160,
   "metadata": {},
   "outputs": [],
   "source": [
    "#Empresa con la cual vamos a extraer los articulos\n",
    "empresa = input(\"Digite la empresa a extraer: \").lower()\n",
    "revista = \"laSillaVacia\""
   ]
  },
  {
   "cell_type": "code",
   "execution_count": 161,
   "metadata": {},
   "outputs": [],
   "source": [
    "# crear driver... MODIFICAR DEPENDIENDO DEL NAVEGADOR\n",
    "driver = sel.webdriver.Edge()\n",
    "driver.get(f'https://www.lasillavacia.com/buscar?q={empresa}&cat=all')\n",
    "time.sleep(2)\n",
    "\n",
    "i = 1\n",
    "try:\n",
    "    while i < 2:\n",
    "        button = driver.find_element(By.XPATH, './/a[contains(@class, \"load-more-results d-block p xl black-3d bold uppercase text-center\")]')\n",
    "        button.click()\n",
    "        time.sleep(4)\n",
    "except:\n",
    "    pass"
   ]
  },
  {
   "cell_type": "code",
   "execution_count": 162,
   "metadata": {},
   "outputs": [],
   "source": [
    "# \"c c-d _g _g-md c-m-l c--m-n\" Contiene tema\n",
    "articulos = driver.find_elements(By.XPATH, './/article')"
   ]
  },
  {
   "cell_type": "code",
   "execution_count": 163,
   "metadata": {},
   "outputs": [],
   "source": [
    "titulares = []\n",
    "for art in articulos:\n",
    "    url = get_url(art)\n",
    "    if url == None:\n",
    "        continue\n",
    "    # if not(bs.existedb(url, revista)):\n",
    "    titulo = get_titulo(art)\n",
    "    fecha = get_fecha(art)\n",
    "    titulares.append({'Fecha Extraccion':datetime.now().strftime(\"%Y-%m-%d %H:%M:%S\"),\n",
    "                    'Titulo': titulo,\n",
    "                    'Fecha Publicacion':fecha,\n",
    "                    'URL': url,\n",
    "                    'Empresa': empresa,\n",
    "                    })"
   ]
  },
  {
   "cell_type": "code",
   "execution_count": 164,
   "metadata": {},
   "outputs": [],
   "source": [
    "for tit in titulares:\n",
    "    driver.get(tit[\"URL\"])\n",
    "    tit[\"Autor\"] = get_autor(driver)\n",
    "    tit[\"Imagen\"] = get_imag(driver)\n",
    "    # tit[\"Resumen\"] = get_resumen(driver)\n",
    "    # tit[\"Fuente\"] = \"La Silla Vacía\"\n",
    "    tit[\"Contenido\"] = get_contenido(driver)"
   ]
  },
  {
   "cell_type": "code",
   "execution_count": 165,
   "metadata": {},
   "outputs": [
    {
     "ename": "IndexError",
     "evalue": "list index out of range",
     "output_type": "error",
     "traceback": [
      "\u001b[1;31m---------------------------------------------------------------------------\u001b[0m",
      "\u001b[1;31mIndexError\u001b[0m                                Traceback (most recent call last)",
      "Cell \u001b[1;32mIn[165], line 5\u001b[0m\n\u001b[0;32m      1\u001b[0m \u001b[39m\"\"\"\u001b[39;00m\n\u001b[0;32m      2\u001b[0m \u001b[39m['Fecha Extraccion', 'Titulo', 'Fecha Publicacion', \u001b[39;00m\n\u001b[0;32m      3\u001b[0m \u001b[39m'URL', 'Imagen', 'Empresa', 'Autor', 'Contenido']\u001b[39;00m\n\u001b[0;32m      4\u001b[0m \u001b[39m\"\"\"\u001b[39;00m\n\u001b[1;32m----> 5\u001b[0m columnas \u001b[39m=\u001b[39m \u001b[39mlist\u001b[39m(titulares[\u001b[39m0\u001b[39;49m]\u001b[39m.\u001b[39mkeys())\n",
      "\u001b[1;31mIndexError\u001b[0m: list index out of range"
     ]
    }
   ],
   "source": [
    "\"\"\"\n",
    "['Fecha Extraccion', 'Titulo', 'Fecha Publicacion', \n",
    "'URL', 'Imagen', 'Empresa', 'Autor', 'Contenido']\n",
    "\"\"\"\n",
    "columnas = list(titulares[0].keys())"
   ]
  },
  {
   "cell_type": "code",
   "execution_count": null,
   "metadata": {},
   "outputs": [],
   "source": [
    "# Para AGREGAR titulares a un archivo.\n",
    "# with open(f'../data/raw/{revista}.csv', 'a', newline='', errors='ignore') as csv_file:\n",
    "#     dict_object = csv.DictWriter(csv_file, fieldnames=columnas) \n",
    "  \n",
    "#     dict_object.writerows(titulares)"
   ]
  },
  {
   "cell_type": "code",
   "execution_count": null,
   "metadata": {},
   "outputs": [],
   "source": [
    "#Para crear un NUEVO archivo con los titulares\n",
    "pd.json_normalize(titulares).to_csv(f'../data/raw/{revista}.csv',index=False, encoding='latin-1', errors='ignore', columns=columnas)"
   ]
  },
  {
   "cell_type": "code",
   "execution_count": null,
   "metadata": {},
   "outputs": [],
   "source": [
    "# Demora inteligente\n",
    "# delay = 10\n",
    "# try:\n",
    "#     url = WebDriverWait(driver, delay).until(EC.presence_of_element_located(By.XPATH, \".//div\"))\n",
    "# except:\n",
    "#     print(\"La página tardó demasiado en cargar\")"
   ]
  },
  {
   "cell_type": "code",
   "execution_count": null,
   "metadata": {},
   "outputs": [
    {
     "data": {
      "text/plain": [
       "['Diciembre', '13,', '2021']"
      ]
     },
     "execution_count": 133,
     "metadata": {},
     "output_type": "execute_result"
    }
   ],
   "source": [
    "aux1 = \"Diciembre 13, 2021\".split()\n",
    "aux1"
   ]
  },
  {
   "cell_type": "code",
   "execution_count": null,
   "metadata": {},
   "outputs": [
    {
     "data": {
      "text/plain": [
       "['Diciembre', '13', '2021']"
      ]
     },
     "execution_count": 134,
     "metadata": {},
     "output_type": "execute_result"
    }
   ],
   "source": [
    "aux1[1] = aux1[1][:-1]\n",
    "aux1"
   ]
  }
 ],
 "metadata": {
  "kernelspec": {
   "display_name": "Python 3",
   "language": "python",
   "name": "python3"
  },
  "language_info": {
   "codemirror_mode": {
    "name": "ipython",
    "version": 3
   },
   "file_extension": ".py",
   "mimetype": "text/x-python",
   "name": "python",
   "nbconvert_exporter": "python",
   "pygments_lexer": "ipython3",
   "version": "3.11.1"
  },
  "orig_nbformat": 4,
  "vscode": {
   "interpreter": {
    "hash": "5238573367df39f7286bb46f9ff5f08f63a01a80960060ce41e3c79b190280fa"
   }
  }
 },
 "nbformat": 4,
 "nbformat_minor": 2
}
