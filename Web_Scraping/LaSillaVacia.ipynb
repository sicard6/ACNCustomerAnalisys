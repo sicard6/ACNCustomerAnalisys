{
 "cells": [
  {
   "cell_type": "code",
   "execution_count": 42,
   "metadata": {},
   "outputs": [],
   "source": [
    "from selenium.webdriver.common.by import By\n",
    "import selenium as sel\n",
    "import pandas as pd\n",
    "import time\n",
    "from datetime import datetime\n",
    "import base as bs\n",
    "\n",
    "import os as os\n",
    "import csv\n",
    "\n",
    "from selenium.webdriver.support.ui import WebDriverWait\n",
    "from selenium.webdriver.support import expected_conditions as EC\n",
    "from selenium.common.exceptions import TimeoutException\n"
   ]
  },
  {
   "cell_type": "code",
   "execution_count": 43,
   "metadata": {},
   "outputs": [],
   "source": [
    "meses = {\"Enero\": \"1\",\"Febrero\": \"2\", \"Marzo\": \"3\", \"Abril\": \"4\", \"Mayo\": \"5\", \"Junio\": \"6\", \"Julio\": \"7\", \n",
    "        \"Agosto\": \"8\", \"Septiembre\": \"9\", \"Octubre\": \"10\", \"Noviembre\": \"11\", \"Diciembre\": \"12\"}"
   ]
  },
  {
   "cell_type": "code",
   "execution_count": 44,
   "metadata": {},
   "outputs": [],
   "source": [
    "def get_url(driver: sel.webdriver.Edge):\n",
    "    \"\"\"Función para obtener las url de los artículos relacionados\n",
    "    a la búqueda\n",
    "\n",
    "    Args:\n",
    "        driver (sel.webdriver.Edge): pagina en la que se bsucara \n",
    "        el elemento\n",
    "\n",
    "    Returns:\n",
    "        str: string que contiene la url del artículo\n",
    "    \"\"\"\n",
    "    try:\n",
    "        url = driver.find_element(By.XPATH, './/h2//a').get_attribute('href')\n",
    "    except:\n",
    "        try:\n",
    "            url = driver.find_element(By.XPATH, './/h3//a').get_attribute('href')\n",
    "        except:\n",
    "            url = None\n",
    "    return url\n"
   ]
  },
  {
   "cell_type": "code",
   "execution_count": 45,
   "metadata": {},
   "outputs": [],
   "source": [
    "def get_titulo(driver: sel.webdriver.Edge):\n",
    "    \"\"\"Función para obtener el título de un artículo\n",
    "\n",
    "    Args:\n",
    "        driver (sel.webdriver.Edge): pagina en la que se buscara el elemento\n",
    "\n",
    "    Returns:\n",
    "        str: string con el titulo del arículo\n",
    "    \"\"\"\n",
    "    try:\n",
    "        titulo = driver.find_element(By.XPATH, './/div[contains(@class, \"row\")]//a').text\n",
    "    except:\n",
    "        titulo = None\n",
    "    else:\n",
    "        return titulo"
   ]
  },
  {
   "cell_type": "code",
   "execution_count": 46,
   "metadata": {},
   "outputs": [],
   "source": [
    "def get_autor(driver: sel.webdriver.Edge):\n",
    "    \"\"\"Función para obtener el autor del artículo\n",
    "\n",
    "    Args:\n",
    "        driver (sel.webdriver.Edge): pagina en la que se buscara el elemento\n",
    "\n",
    "    Returns:\n",
    "        str: string con el autor del arículo\n",
    "    \"\"\"\n",
    "    try:\n",
    "        autor = driver.find_element(By.XPATH, './/div[@class=\"mainInternalArticle__autor mb-10\"]//a').text\n",
    "    except:\n",
    "        autor = None\n",
    "    else:\n",
    "        return autor"
   ]
  },
  {
   "cell_type": "code",
   "execution_count": 47,
   "metadata": {},
   "outputs": [],
   "source": [
    "def get_fecha(driver: sel.webdriver.Edge):\n",
    "    \"\"\"Función para obtener la fecha de publicación del artículo\n",
    "\n",
    "    Args:\n",
    "        driver (sel.webdriver.Edge): pagina en la que se buscara el elemento\n",
    "\n",
    "    Returns:\n",
    "        datetime (datetime): fecha en la que sepublicó el artículo\n",
    "    \"\"\"\n",
    "    try:\n",
    "        fecha = driver.find_element(By.XPATH, './/div[contains(@class, \"col-12\")]//time').text\n",
    "        lst_fecha = fecha.split()\n",
    "        dia = lst_fecha[1][:-1]\n",
    "        mes = meses[lst_fecha[0]]\n",
    "        ano = lst_fecha[2]\n",
    "        \n",
    "        fecha_pub = datetime.strptime(dia+\"/\"+mes+\"/\"+ano, \"%d/%m/%Y\")\n",
    "    except:\n",
    "        fecha_pub = None\n",
    "    return fecha_pub"
   ]
  },
  {
   "cell_type": "code",
   "execution_count": 48,
   "metadata": {},
   "outputs": [],
   "source": [
    "def get_imag(driver: sel.webdriver.Edge):\n",
    "    \"\"\"Función para obtener el la url que contiene la imágen principal\n",
    "    del artículo\n",
    "\n",
    "    Args:\n",
    "        driver (sel.webdriver.Edge): pagina en la que se buscara el elemento\n",
    "\n",
    "    Returns:\n",
    "        str: string con la url de la imágen\n",
    "    \"\"\"\n",
    "    try:\n",
    "        imagen = driver.find_element(By.XPATH, './/div[contains(@class, \"mainHistoria-imagen\")]//img').get_attribute('src')\n",
    "    except:\n",
    "        imagen = None\n",
    "    return imagen"
   ]
  },
  {
   "cell_type": "code",
   "execution_count": 49,
   "metadata": {},
   "outputs": [],
   "source": [
    "def get_contenido(driver):\n",
    "    \"\"\"Función para obtener todos los párrafos que conforman\n",
    "    el arículo\n",
    "\n",
    "    Args:\n",
    "        driver (_type_): página en la que se hará la búsqueda\n",
    "\n",
    "    Returns:\n",
    "        str: string con todos los párrafos del artículo\n",
    "    \"\"\"\n",
    "    try:\n",
    "        contenido = driver.find_element(By.XPATH, './/div[contains(@class, \"p normal body-text-large mb-30 all\")]').text\n",
    "        if len(contenido) <= 300:\n",
    "            parrafos = driver.find_elements(By.XPATH, './/div[contains(@class, \"row\")]//p') # \n",
    "            contenido = ' '.join(list(map(lambda x: x.text, parrafos)))\n",
    "    except:\n",
    "        try:\n",
    "            parrafos = driver.find_elements(By.XPATH, './/p')\n",
    "            contenido = ' '.join(list(map(lambda x: x.text, parrafos)))\n",
    "        except:\n",
    "            contenido = None\n",
    "    return contenido"
   ]
  },
  {
   "cell_type": "code",
   "execution_count": 50,
   "metadata": {},
   "outputs": [],
   "source": [
    "#Empresa con la cual vamos a extraer los articulos\n",
    "empresa = input(\"Digite la empresa a extraer: \").lower()\n",
    "revista = \"laSillaVacia\""
   ]
  },
  {
   "cell_type": "code",
   "execution_count": 51,
   "metadata": {},
   "outputs": [],
   "source": [
    "# crear driver... MODIFICAR DEPENDIENDO DEL NAVEGADOR\n",
    "driver = sel.webdriver.Edge()\n",
    "driver.get(f'https://www.lasillavacia.com/buscar?q={empresa}&cat=all')\n",
    "\n",
    "i = 1\n",
    "try:\n",
    "    while i < 2:\n",
    "        driver.implicitly_wait(10)\n",
    "        button = driver.find_element(By.XPATH, './/a[contains(@class, \"load-more-results d-block p xl black-3d bold uppercase text-center\")]')\n",
    "        button.click()\n",
    "except:\n",
    "    pass"
   ]
  },
  {
   "cell_type": "code",
   "execution_count": 52,
   "metadata": {},
   "outputs": [],
   "source": [
    "# \"c c-d _g _g-md c-m-l c--m-n\" Contiene tema\n",
    "articulos = driver.find_elements(By.XPATH, './/article')"
   ]
  },
  {
   "cell_type": "code",
   "execution_count": 53,
   "metadata": {},
   "outputs": [],
   "source": [
    "titulares = []\n",
    "for art in articulos:\n",
    "    url = get_url(art)\n",
    "    if url == None:\n",
    "        continue\n",
    "    if not(bs.existedb(url, \"database\")):\n",
    "        titulo = get_titulo(art)\n",
    "        titulares.append({'Fecha Extraccion':datetime.now().strftime(\"%Y-%m-%d %H:%M:%S\"),\n",
    "                        'Titulo': titulo,\n",
    "                        'URL': url,\n",
    "                        'Empresa': empresa\n",
    "                        })"
   ]
  },
  {
   "cell_type": "code",
   "execution_count": 54,
   "metadata": {},
   "outputs": [],
   "source": [
    "for tit in titulares:\n",
    "    driver.get(tit[\"URL\"])\n",
    "    driver.implicitly_wait(10)\n",
    "    tit[\"Autor\"] = get_autor(driver)\n",
    "    tit[\"Fecha Publicacion\"] = get_fecha(driver)\n",
    "    tit[\"Imagen\"] = get_imag(driver)\n",
    "    # tit[\"Resumen\"] = get_resumen(driver)\n",
    "    tit[\"Fuente\"] = \"La Silla Vacía\"\n",
    "    tit[\"Contenido\"] = get_contenido(driver)"
   ]
  },
  {
   "cell_type": "code",
   "execution_count": 55,
   "metadata": {},
   "outputs": [],
   "source": [
    "df = pd.DataFrame(titulares)\n",
    "bs.writeData(\"database\", df)"
   ]
  },
  {
   "cell_type": "code",
   "execution_count": 56,
   "metadata": {},
   "outputs": [],
   "source": [
    "driver.close()"
   ]
  }
 ],
 "metadata": {
  "kernelspec": {
   "display_name": "Python 3",
   "language": "python",
   "name": "python3"
  },
  "language_info": {
   "codemirror_mode": {
    "name": "ipython",
    "version": 3
   },
   "file_extension": ".py",
   "mimetype": "text/x-python",
   "name": "python",
   "nbconvert_exporter": "python",
   "pygments_lexer": "ipython3",
   "version": "3.11.1"
  },
  "orig_nbformat": 4,
  "vscode": {
   "interpreter": {
    "hash": "5238573367df39f7286bb46f9ff5f08f63a01a80960060ce41e3c79b190280fa"
   }
  }
 },
 "nbformat": 4,
 "nbformat_minor": 2
}
