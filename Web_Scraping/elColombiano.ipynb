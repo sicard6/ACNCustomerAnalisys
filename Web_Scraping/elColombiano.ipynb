{
 "cells": [
  {
   "cell_type": "code",
   "execution_count": 93,
   "metadata": {},
   "outputs": [],
   "source": [
    "from selenium.webdriver.common.by import By\n",
    "import selenium as sel\n",
    "import pandas as pd\n",
    "import time\n",
    "from datetime import datetime\n",
    "import base as bs\n",
    "\n",
    "import os as os\n",
    "import csv\n",
    "\n",
    "from selenium.webdriver.support.ui import WebDriverWait\n",
    "from selenium.webdriver.support import expected_conditions as EC\n",
    "from selenium.common.exceptions import TimeoutException\n",
    "from selenium.webdriver.common.keys import Keys\n",
    "from selenium.webdriver.common.action_chains import ActionChains\n"
   ]
  },
  {
   "cell_type": "code",
   "execution_count": 79,
   "metadata": {},
   "outputs": [],
   "source": [
    "#Empresa con la cual vamos a extraer los articulos\n",
    "empresa = input(\"Digite la empresa a extraer: \").lower()\n",
    "revista = \"elColombiano\""
   ]
  },
  {
   "cell_type": "code",
   "execution_count": 96,
   "metadata": {},
   "outputs": [
    {
     "name": "stdout",
     "output_type": "stream",
     "text": [
      "<selenium.webdriver.remote.webelement.WebElement (session=\"812f439f2f30acd53a0f95415cf37b1a\", element=\"e2b030c6-dddf-4a8f-aace-16705b8adc6d\")>\n"
     ]
    }
   ],
   "source": [
    "# crear driver... MODIFICAR DEPENDIENDO DEL NAVEGADOR\n",
    "driver = sel.webdriver.Edge()\n",
    "driver.get(f'https://www.elcolombiano.com/busqueda')\n",
    "driver.implicitly_wait(10)\n",
    "\n",
    "input_element = driver.find_element(By.XPATH, \".//input[@class='iter-field-input iter-field-input-text']\")\n",
    "time.sleep(2)\n",
    "input_element.send_keys(empresa)\n",
    "input_element.send_keys(Keys.ENTER)"
   ]
  },
  {
   "cell_type": "code",
   "execution_count": 97,
   "metadata": {},
   "outputs": [],
   "source": [
    "# Articulos a extraer\n",
    "num_paginas = input(\"Ingrese el numero de páginas que desea recorrer\").lower()\n",
    "articulos = []\n",
    "url_princ = driver.current_url[:-1]\n",
    "for i in range(1, int(num_paginas) + 1):\n",
    "    aux = str(i)\n",
    "    url_a_buscar = url_princ+aux\n",
    "    driver.get(url_a_buscar)\n",
    "    articulos += driver.find_elements(By.XPATH, './/li[@class=\"element   full-access norestricted\"]')"
   ]
  },
  {
   "cell_type": "code",
   "execution_count": 98,
   "metadata": {},
   "outputs": [
    {
     "ename": "WebDriverException",
     "evalue": "Message: disconnected: Unable to receive message from renderer\n  (failed to check if window was closed: disconnected: Unable to receive message from renderer)\n  (Session info: MicrosoftEdge=109.0.1518.70)\nStacktrace:\nBacktrace:\n\tMicrosoft::Applications::Events::EventProperties::SetProperty [0x00007FF6462716C2+15186]\n\tMicrosoft::Applications::Events::EventProperty::EventProperty [0x00007FF64620A212+827554]\n\t(No symbol) [0x00007FF645ECED90]\n\t(No symbol) [0x00007FF645EBAEB5]\n\t(No symbol) [0x00007FF645EBACF4]\n\t(No symbol) [0x00007FF645EB95B3]\n\t(No symbol) [0x00007FF645EB9D1A]\n\t(No symbol) [0x00007FF645EB8746]\n\t(No symbol) [0x00007FF645EC648D]\n\t(No symbol) [0x00007FF645EB85DA]\n\t(No symbol) [0x00007FF645EBA8EB]\n\t(No symbol) [0x00007FF645EB95B3]\n\t(No symbol) [0x00007FF645EB9D1A]\n\t(No symbol) [0x00007FF645EB8746]\n\t(No symbol) [0x00007FF645EC3244]\n\t(No symbol) [0x00007FF645EB85DA]\n\t(No symbol) [0x00007FF645EBA8EB]\n\t(No symbol) [0x00007FF645EB95B3]\n\t(No symbol) [0x00007FF645EB9D1A]\n\t(No symbol) [0x00007FF645EB8746]\n\t(No symbol) [0x00007FF645EC0811]\n\t(No symbol) [0x00007FF645EB85DA]\n\t(No symbol) [0x00007FF645EBA8EB]\n\t(No symbol) [0x00007FF645EB95B3]\n\t(No symbol) [0x00007FF645EB9D1A]\n\t(No symbol) [0x00007FF645EB8746]\n\t(No symbol) [0x00007FF645EAF34A]\n\t(No symbol) [0x00007FF645EB85DA]\n\t(No symbol) [0x00007FF645EB79A7]\n\t(No symbol) [0x00007FF645EB7B39]\n\t(No symbol) [0x00007FF645EB7FA2]\n\t(No symbol) [0x00007FF645EB7E92]\n\t(No symbol) [0x00007FF645ED05F7]\n\t(No symbol) [0x00007FF645F4AC79]\n\t(No symbol) [0x00007FF645F31D23]\n\t(No symbol) [0x00007FF645F03B80]\n\t(No symbol) [0x00007FF645F02B0E]\n\t(No symbol) [0x00007FF645F04344]\n\tMicrosoft::Applications::Events::EventProperties::SetProperty [0x00007FF6460EC3B0+182752]\n\t(No symbol) [0x00007FF645FC0095]\n\tMicrosoft::Applications::Events::EventProperty::EventProperty [0x00007FF64614A6EA+42362]\n\tMicrosoft::Applications::Events::EventProperty::EventProperty [0x00007FF64614D425+53941]\n\tMicrosoft::Applications::Events::ILogManager::DispatchEventBroadcast [0x00007FF646468AB3+1456595]\n\tMicrosoft::Applications::Events::EventProperty::EventProperty [0x00007FF64621276A+861690]\n\tMicrosoft::Applications::Events::EventProperty::EventProperty [0x00007FF646217854+882404]\n\tMicrosoft::Applications::Events::EventProperty::EventProperty [0x00007FF6462179AC+882748]\n\tMicrosoft::Applications::Events::EventProperty::EventProperty [0x00007FF64622097E+919566]\n\tBaseThreadInitThunk [0x00007FF849A155A0+16]\n\tRtlUserThreadStart [0x00007FF84B62485B+43]\n",
     "output_type": "error",
     "traceback": [
      "\u001b[1;31m---------------------------------------------------------------------------\u001b[0m",
      "\u001b[1;31mWebDriverException\u001b[0m                        Traceback (most recent call last)",
      "Cell \u001b[1;32mIn[98], line 3\u001b[0m\n\u001b[0;32m      1\u001b[0m titulares \u001b[39m=\u001b[39m []\n\u001b[0;32m      2\u001b[0m \u001b[39mfor\u001b[39;00m art \u001b[39min\u001b[39;00m articulos:\n\u001b[1;32m----> 3\u001b[0m     url \u001b[39m=\u001b[39m art\u001b[39m.\u001b[39;49mfind_element(By\u001b[39m.\u001b[39;49mXPATH, \u001b[39m'\u001b[39;49m\u001b[39m.//div[contains(@class, \u001b[39;49m\u001b[39m\"\u001b[39;49m\u001b[39mright\u001b[39;49m\u001b[39m\"\u001b[39;49m\u001b[39m)]//a\u001b[39;49m\u001b[39m'\u001b[39;49m)\u001b[39m.\u001b[39mget_attribute(\u001b[39m'\u001b[39m\u001b[39mhref\u001b[39m\u001b[39m'\u001b[39m)\n\u001b[0;32m      4\u001b[0m     \u001b[39mif\u001b[39;00m \u001b[39mnot\u001b[39;00m(bs\u001b[39m.\u001b[39mexistedb(url, \u001b[39m\"\u001b[39m\u001b[39melColombiano\u001b[39m\u001b[39m\"\u001b[39m)):\n\u001b[0;32m      5\u001b[0m         titulo \u001b[39m=\u001b[39m art\u001b[39m.\u001b[39mfind_element(By\u001b[39m.\u001b[39mXPATH, \u001b[39m'\u001b[39m\u001b[39m.//h3[contains(@class, \u001b[39m\u001b[39m\"\u001b[39m\u001b[39mtitulo-noticia\u001b[39m\u001b[39m\"\u001b[39m\u001b[39m)]//span\u001b[39m\u001b[39m'\u001b[39m)\u001b[39m.\u001b[39mtext\n",
      "File \u001b[1;32m~\\AppData\\Roaming\\Python\\Python311\\site-packages\\selenium\\webdriver\\remote\\webelement.py:433\u001b[0m, in \u001b[0;36mWebElement.find_element\u001b[1;34m(self, by, value)\u001b[0m\n\u001b[0;32m    430\u001b[0m     by \u001b[39m=\u001b[39m By\u001b[39m.\u001b[39mCSS_SELECTOR\n\u001b[0;32m    431\u001b[0m     value \u001b[39m=\u001b[39m \u001b[39m'\u001b[39m\u001b[39m[name=\u001b[39m\u001b[39m\"\u001b[39m\u001b[39m%s\u001b[39;00m\u001b[39m\"\u001b[39m\u001b[39m]\u001b[39m\u001b[39m'\u001b[39m \u001b[39m%\u001b[39m value\n\u001b[1;32m--> 433\u001b[0m \u001b[39mreturn\u001b[39;00m \u001b[39mself\u001b[39;49m\u001b[39m.\u001b[39;49m_execute(Command\u001b[39m.\u001b[39;49mFIND_CHILD_ELEMENT, {\u001b[39m\"\u001b[39;49m\u001b[39musing\u001b[39;49m\u001b[39m\"\u001b[39;49m: by, \u001b[39m\"\u001b[39;49m\u001b[39mvalue\u001b[39;49m\u001b[39m\"\u001b[39;49m: value})[\u001b[39m\"\u001b[39m\u001b[39mvalue\u001b[39m\u001b[39m\"\u001b[39m]\n",
      "File \u001b[1;32m~\\AppData\\Roaming\\Python\\Python311\\site-packages\\selenium\\webdriver\\remote\\webelement.py:410\u001b[0m, in \u001b[0;36mWebElement._execute\u001b[1;34m(self, command, params)\u001b[0m\n\u001b[0;32m    408\u001b[0m     params \u001b[39m=\u001b[39m {}\n\u001b[0;32m    409\u001b[0m params[\u001b[39m\"\u001b[39m\u001b[39mid\u001b[39m\u001b[39m\"\u001b[39m] \u001b[39m=\u001b[39m \u001b[39mself\u001b[39m\u001b[39m.\u001b[39m_id\n\u001b[1;32m--> 410\u001b[0m \u001b[39mreturn\u001b[39;00m \u001b[39mself\u001b[39;49m\u001b[39m.\u001b[39;49m_parent\u001b[39m.\u001b[39;49mexecute(command, params)\n",
      "File \u001b[1;32m~\\AppData\\Roaming\\Python\\Python311\\site-packages\\selenium\\webdriver\\remote\\webdriver.py:444\u001b[0m, in \u001b[0;36mWebDriver.execute\u001b[1;34m(self, driver_command, params)\u001b[0m\n\u001b[0;32m    442\u001b[0m response \u001b[39m=\u001b[39m \u001b[39mself\u001b[39m\u001b[39m.\u001b[39mcommand_executor\u001b[39m.\u001b[39mexecute(driver_command, params)\n\u001b[0;32m    443\u001b[0m \u001b[39mif\u001b[39;00m response:\n\u001b[1;32m--> 444\u001b[0m     \u001b[39mself\u001b[39;49m\u001b[39m.\u001b[39;49merror_handler\u001b[39m.\u001b[39;49mcheck_response(response)\n\u001b[0;32m    445\u001b[0m     response[\u001b[39m\"\u001b[39m\u001b[39mvalue\u001b[39m\u001b[39m\"\u001b[39m] \u001b[39m=\u001b[39m \u001b[39mself\u001b[39m\u001b[39m.\u001b[39m_unwrap_value(response\u001b[39m.\u001b[39mget(\u001b[39m\"\u001b[39m\u001b[39mvalue\u001b[39m\u001b[39m\"\u001b[39m, \u001b[39mNone\u001b[39;00m))\n\u001b[0;32m    446\u001b[0m     \u001b[39mreturn\u001b[39;00m response\n",
      "File \u001b[1;32m~\\AppData\\Roaming\\Python\\Python311\\site-packages\\selenium\\webdriver\\remote\\errorhandler.py:249\u001b[0m, in \u001b[0;36mErrorHandler.check_response\u001b[1;34m(self, response)\u001b[0m\n\u001b[0;32m    247\u001b[0m         alert_text \u001b[39m=\u001b[39m value[\u001b[39m\"\u001b[39m\u001b[39malert\u001b[39m\u001b[39m\"\u001b[39m]\u001b[39m.\u001b[39mget(\u001b[39m\"\u001b[39m\u001b[39mtext\u001b[39m\u001b[39m\"\u001b[39m)\n\u001b[0;32m    248\u001b[0m     \u001b[39mraise\u001b[39;00m exception_class(message, screen, stacktrace, alert_text)  \u001b[39m# type: ignore[call-arg]  # mypy is not smart enough here\u001b[39;00m\n\u001b[1;32m--> 249\u001b[0m \u001b[39mraise\u001b[39;00m exception_class(message, screen, stacktrace)\n",
      "\u001b[1;31mWebDriverException\u001b[0m: Message: disconnected: Unable to receive message from renderer\n  (failed to check if window was closed: disconnected: Unable to receive message from renderer)\n  (Session info: MicrosoftEdge=109.0.1518.70)\nStacktrace:\nBacktrace:\n\tMicrosoft::Applications::Events::EventProperties::SetProperty [0x00007FF6462716C2+15186]\n\tMicrosoft::Applications::Events::EventProperty::EventProperty [0x00007FF64620A212+827554]\n\t(No symbol) [0x00007FF645ECED90]\n\t(No symbol) [0x00007FF645EBAEB5]\n\t(No symbol) [0x00007FF645EBACF4]\n\t(No symbol) [0x00007FF645EB95B3]\n\t(No symbol) [0x00007FF645EB9D1A]\n\t(No symbol) [0x00007FF645EB8746]\n\t(No symbol) [0x00007FF645EC648D]\n\t(No symbol) [0x00007FF645EB85DA]\n\t(No symbol) [0x00007FF645EBA8EB]\n\t(No symbol) [0x00007FF645EB95B3]\n\t(No symbol) [0x00007FF645EB9D1A]\n\t(No symbol) [0x00007FF645EB8746]\n\t(No symbol) [0x00007FF645EC3244]\n\t(No symbol) [0x00007FF645EB85DA]\n\t(No symbol) [0x00007FF645EBA8EB]\n\t(No symbol) [0x00007FF645EB95B3]\n\t(No symbol) [0x00007FF645EB9D1A]\n\t(No symbol) [0x00007FF645EB8746]\n\t(No symbol) [0x00007FF645EC0811]\n\t(No symbol) [0x00007FF645EB85DA]\n\t(No symbol) [0x00007FF645EBA8EB]\n\t(No symbol) [0x00007FF645EB95B3]\n\t(No symbol) [0x00007FF645EB9D1A]\n\t(No symbol) [0x00007FF645EB8746]\n\t(No symbol) [0x00007FF645EAF34A]\n\t(No symbol) [0x00007FF645EB85DA]\n\t(No symbol) [0x00007FF645EB79A7]\n\t(No symbol) [0x00007FF645EB7B39]\n\t(No symbol) [0x00007FF645EB7FA2]\n\t(No symbol) [0x00007FF645EB7E92]\n\t(No symbol) [0x00007FF645ED05F7]\n\t(No symbol) [0x00007FF645F4AC79]\n\t(No symbol) [0x00007FF645F31D23]\n\t(No symbol) [0x00007FF645F03B80]\n\t(No symbol) [0x00007FF645F02B0E]\n\t(No symbol) [0x00007FF645F04344]\n\tMicrosoft::Applications::Events::EventProperties::SetProperty [0x00007FF6460EC3B0+182752]\n\t(No symbol) [0x00007FF645FC0095]\n\tMicrosoft::Applications::Events::EventProperty::EventProperty [0x00007FF64614A6EA+42362]\n\tMicrosoft::Applications::Events::EventProperty::EventProperty [0x00007FF64614D425+53941]\n\tMicrosoft::Applications::Events::ILogManager::DispatchEventBroadcast [0x00007FF646468AB3+1456595]\n\tMicrosoft::Applications::Events::EventProperty::EventProperty [0x00007FF64621276A+861690]\n\tMicrosoft::Applications::Events::EventProperty::EventProperty [0x00007FF646217854+882404]\n\tMicrosoft::Applications::Events::EventProperty::EventProperty [0x00007FF6462179AC+882748]\n\tMicrosoft::Applications::Events::EventProperty::EventProperty [0x00007FF64622097E+919566]\n\tBaseThreadInitThunk [0x00007FF849A155A0+16]\n\tRtlUserThreadStart [0x00007FF84B62485B+43]\n"
     ]
    }
   ],
   "source": [
    "titulares = []\n",
    "for art in articulos:\n",
    "    url = art.find_element(By.XPATH, './/div[contains(@class, \"right\")]//a').get_attribute('href')\n",
    "    if not(bs.existedb(url, \"elColombiano\")):\n",
    "        titulo = art.find_element(By.XPATH, './/h3[contains(@class, \"titulo-noticia\")]//span').text\n",
    "        fechaP = art.find_element(By.XPATH, './/div[contains(@class, \"fecha\")]//span').text\n",
    "        fechaP = datetime.strptime(fechaP, '%d / %m / %Y')\n",
    "        tema = art.find_element(By.XPATH, './/div[contains(@class, \"information\")]//a').text\n",
    "        autor = art.find_element(By.XPATH, './/span[contains(@class, \"autor\")]').text\n",
    "        lista_tags = art.find_element(By.XPATH, './/div[contains(@class, \"tags-noticia\")]//ul')\n",
    "        tags = list(map(lambda x: x.text, lista_tags.find_elements(By.XPATH, './/li')))\n",
    "        imagen = art.find_element(By.XPATH, './/img').get_attribute('src')\n",
    "        titulares.append({'Fecha Extraccion':datetime.now().strftime(\"%Y-%m-%d %H:%M:%S\"),\n",
    "                        'Titulo': titulo,\n",
    "                        'Fecha Publicacion': fechaP,\n",
    "                        'URL': url,\n",
    "                        'Tema': tema,\n",
    "                        'Autor': autor,\n",
    "                        'Tags': tags,\n",
    "                        'Imagen': imagen,\n",
    "                        'Empresa': empresa,\n",
    "                        'Fuente': 'El Colombiano'\n",
    "                        })"
   ]
  },
  {
   "cell_type": "code",
   "execution_count": null,
   "metadata": {},
   "outputs": [],
   "source": [
    "driver.get(titulares[0]['URL'])"
   ]
  },
  {
   "cell_type": "code",
   "execution_count": 57,
   "metadata": {},
   "outputs": [
    {
     "data": {
      "text/plain": [
       "<selenium.webdriver.remote.webelement.WebElement (session=\"5f3f2a6f030de80f127f88988cd42852\", element=\"a08a08b6-4cd0-4720-a451-971965adb6f0\")>"
      ]
     },
     "execution_count": 57,
     "metadata": {},
     "output_type": "execute_result"
    }
   ],
   "source": [
    "articulos[0]"
   ]
  },
  {
   "cell_type": "code",
   "execution_count": 53,
   "metadata": {},
   "outputs": [],
   "source": [
    "titulares = []\n",
    "for art in articulos:\n",
    "    url = art.find_element(By.XPATH, './/div[@class=\"right\"]')"
   ]
  },
  {
   "cell_type": "code",
   "execution_count": 54,
   "metadata": {},
   "outputs": [],
   "source": [
    "for tit in titulares:\n",
    "    driver.get(tit[\"URL\"])\n",
    "    driver.implicitly_wait(10)\n",
    "    tit[\"Autor\"] = get_autor(driver)\n",
    "    tit[\"Fecha Publicacion\"] = get_fecha(driver)\n",
    "    tit[\"Imagen\"] = get_imag(driver)\n",
    "    # tit[\"Resumen\"] = get_resumen(driver)\n",
    "    tit[\"Fuente\"] = \"La Silla Vacía\"\n",
    "    tit[\"Contenido\"] = get_contenido(driver)"
   ]
  },
  {
   "cell_type": "code",
   "execution_count": 55,
   "metadata": {},
   "outputs": [],
   "source": [
    "df = pd.DataFrame(titulares)\n",
    "bs.writeData(\"database\", df)"
   ]
  },
  {
   "cell_type": "code",
   "execution_count": 56,
   "metadata": {},
   "outputs": [],
   "source": [
    "driver.close()"
   ]
  },
  {
   "cell_type": "code",
   "execution_count": 3,
   "metadata": {},
   "outputs": [],
   "source": []
  },
  {
   "cell_type": "code",
   "execution_count": 18,
   "metadata": {},
   "outputs": [
    {
     "data": {
      "text/plain": [
       "'https://www.elcolombiano.com/busqueda/-/search/ecopetrol/false/true/19810203/20230203/date/true/true/0/0/meta/0/0/0/'"
      ]
     },
     "execution_count": 18,
     "metadata": {},
     "output_type": "execute_result"
    }
   ],
   "source": [
    "aux = driver.current_url\n",
    "aux[:-1]"
   ]
  },
  {
   "cell_type": "code",
   "execution_count": 15,
   "metadata": {},
   "outputs": [],
   "source": []
  }
 ],
 "metadata": {
  "kernelspec": {
   "display_name": "Python 3",
   "language": "python",
   "name": "python3"
  },
  "language_info": {
   "codemirror_mode": {
    "name": "ipython",
    "version": 3
   },
   "file_extension": ".py",
   "mimetype": "text/x-python",
   "name": "python",
   "nbconvert_exporter": "python",
   "pygments_lexer": "ipython3",
   "version": "3.11.1"
  },
  "orig_nbformat": 4,
  "vscode": {
   "interpreter": {
    "hash": "5238573367df39f7286bb46f9ff5f08f63a01a80960060ce41e3c79b190280fa"
   }
  }
 },
 "nbformat": 4,
 "nbformat_minor": 2
}
