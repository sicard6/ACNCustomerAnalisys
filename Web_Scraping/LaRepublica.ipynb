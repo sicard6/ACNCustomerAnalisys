{
 "cells": [
  {
   "cell_type": "code",
   "execution_count": 69,
   "metadata": {},
   "outputs": [],
   "source": [
    "from selenium.webdriver.common.by import By\n",
    "import selenium as sel\n",
    "import pandas as pd\n",
    "import time\n",
    "import datetime\n",
    "\n",
    "import os as os"
   ]
  },
  {
   "cell_type": "code",
   "execution_count": 1,
   "metadata": {},
   "outputs": [],
   "source": [
    "empresa = input(\"Digite la empresa a extraer: \")"
   ]
  },
  {
   "cell_type": "code",
   "execution_count": 21,
   "metadata": {},
   "outputs": [],
   "source": [
    "#cerar driver... MODIFICAR DEPENDIENDO DEL NAVEGADOR\n",
    "driver = sel.webdriver.Edge()\n",
    "driver.get(f'https://www.larepublica.co/{empresa}')\n",
    "time.sleep(2)"
   ]
  },
  {
   "cell_type": "code",
   "execution_count": 22,
   "metadata": {},
   "outputs": [],
   "source": [
    "articulos = driver.find_elements(By.XPATH,'.//div[contains(@class,\"row news\")]')"
   ]
  },
  {
   "cell_type": "code",
   "execution_count": 78,
   "metadata": {},
   "outputs": [],
   "source": [
    "titulares = []\n",
    "for art in articulos:\n",
    "    titulo = art.find_element(By.XPATH,'.//h2').text\n",
    "    fechaP = art.find_element(By.XPATH,'.//span[@class = \"date-news\"]').text\n",
    "    tema = art.find_elements(By.XPATH,'.//a')[1].text\n",
    "    resumen = art.find_element(By.XPATH,'.//p').text\n",
    "    url = art.find_elements(By.XPATH,'.//a')[1].get_attribute('href')\n",
    "    imagen = art.find_elements(By.XPATH,'.//img')[0].get_attribute('src')\n",
    "    titulares.append({'Fecha Extraccion':datetime.datetime.now().strftime(\"%Y-%m-%d %H:%M:%S\"),\n",
    "                      'Titulo':titulo,\n",
    "                      'Fecha Publicacion':fechaP,\n",
    "                      'Tema':tema,\n",
    "                      'Resumen':resumen,\n",
    "                      'URL':url,\n",
    "                      'Imagen':imagen})\n",
    "    "
   ]
  },
  {
   "cell_type": "code",
   "execution_count": 79,
   "metadata": {},
   "outputs": [],
   "source": [
    "pd.json_normalize(titulares).to_csv(f'../data/raw/articulos.csv',index=False)"
   ]
  }
 ],
 "metadata": {
  "kernelspec": {
   "display_name": "Python 3.9.7 64-bit",
   "language": "python",
   "name": "python3"
  },
  "language_info": {
   "codemirror_mode": {
    "name": "ipython",
    "version": 3
   },
   "file_extension": ".py",
   "mimetype": "text/x-python",
   "name": "python",
   "nbconvert_exporter": "python",
   "pygments_lexer": "ipython3",
   "version": "3.9.7"
  },
  "orig_nbformat": 4,
  "vscode": {
   "interpreter": {
    "hash": "11938c6bc6919ae2720b4d5011047913343b08a43b18698fd82dedb0d4417594"
   }
  }
 },
 "nbformat": 4,
 "nbformat_minor": 2
}
