{
 "cells": [
  {
   "cell_type": "code",
   "execution_count": 28,
   "metadata": {},
   "outputs": [],
   "source": [
    "from selenium.webdriver.common.by import By\n",
    "import selenium as sel\n",
    "import pandas as pd\n",
    "import time\n",
    "import datetime\n",
    "import base as bs\n",
    "\n",
    "import os as os\n",
    "import csv\n",
    "import json"
   ]
  },
  {
   "cell_type": "code",
   "execution_count": 29,
   "metadata": {},
   "outputs": [],
   "source": [
    "f = open('config.json')\n",
    "empresas = json.load(f)\n",
    "\n",
    "if not os.path.exists('../data/raw/larepublica.csv'):\n",
    "    os.makedirs('../data/raw/larepublica.csv')\n",
    "    \n",
    "#for i in empresas['LaRepublica']:\n",
    "    "
   ]
  },
  {
   "cell_type": "code",
   "execution_count": 20,
   "metadata": {},
   "outputs": [],
   "source": [
    "#Empresa con la cual vamos a extraer los articulos\n",
    "# TODO Tener una lista que itere por todos lo clientes\n",
    "empresa = input(\"Digite la empresa a extraer: \")"
   ]
  },
  {
   "cell_type": "code",
   "execution_count": 21,
   "metadata": {},
   "outputs": [],
   "source": [
    "#cerar driver... MODIFICAR DEPENDIENDO DEL NAVEGADOR\n",
    "driver = sel.webdriver.Edge()\n",
    "driver.get(f'https://www.larepublica.co/{empresa}')\n",
    "time.sleep(2)"
   ]
  },
  {
   "cell_type": "code",
   "execution_count": 29,
   "metadata": {},
   "outputs": [],
   "source": [
    "#sacar primer titular CON BASE DE DATOS INICIAL\n",
    "titulares = []\n",
    "princip = driver.find_element(By.XPATH,'.//div[contains(@class,\"first-news\")]')\n",
    "urlPrinc = princip.find_elements(By.XPATH,'.//a')[1].get_attribute('href')\n",

    "if not(bs.existedb(urlPrinc,\"larepublica\")): # Si no existe (elimine el .csv)\n",
    "    temaPrinc = princip.find_elements(By.XPATH,'.//a')[1].text\n",
    "    fechaPrinc = princip.find_element(By.XPATH,'.//span').text\n",
    "    tituloPrinc = princip.find_elements(By.XPATH,'.//a')[2].text\n",
    "    imagenPrinc = princip.find_element(By.XPATH,'.//img').get_attribute('src')\n",
    "    titulares.append({'Fecha Extraccion':datetime.datetime.now().strftime(\"%Y-%m-%d %H:%M:%S\"),\n",
    "                        'Titulo':tituloPrinc,\n",
    "                        'Fecha Publicacion':fechaPrinc,\n",
    "                        'Tema':temaPrinc,\n",
    "                        'URL':urlPrinc,\n",
    "                        'Imagen':imagenPrinc,\n",
    "                        'Empresa':empresa})\n",
    "\n",
    "#el resto, autor, resumen, contenido y relacionados se sacan entrando a la url\n",
    "#despues de guardar articulos normales. Mismo para las otras dos noticias principales"
   ]
  },
  {
   "cell_type": "code",
   "execution_count": 23,
   "metadata": {},
   "outputs": [],
   "source": [
    "# Extrae la lista de todos los articulos de la pagina\n",
    "articulos = driver.find_elements(By.XPATH,'.//div[contains(@class,\"row news\")]') # Todas las noticias relacionadas"
   ]
  },
  {
   "cell_type": "code",
   "execution_count": 24,
   "metadata": {},
   "outputs": [],
   "source": [
    "# Itera por cada articulo y extrae la informacion (CASO DE QUE YA EXISTA ARCHIVO DONDE SE ALMACENA)\n",
    "for art in articulos:\n",
    "    url = art.find_elements(By.XPATH,'.//a')[1].get_attribute('href')\n",
    "    if not(bs.existedb(url,\"larepublica\")): # Agregar la fuente para que corra la función .existedb\n",
    "        fechaP = art.find_element(By.XPATH,'.//span[@class = \"date-news\"]').text\n",
    "        tema = art.find_elements(By.XPATH,'.//a')[1].text\n",
    "        resumen = art.find_element(By.XPATH,'.//p').text\n",
    "        titulo = art.find_element(By.XPATH,'.//h2').text\n",
    "        imagen = art.find_elements(By.XPATH,'.//img')[0].get_attribute('src')\n",
    "        titulares.append({'Fecha Extraccion':datetime.datetime.now().strftime(\"%Y-%m-%d %H:%M:%S\"),\n",
    "                        'Titulo':titulo,\n",
    "                        'Fecha Publicacion':fechaP,\n",
    "                        'Tema':tema,\n",
    "                        'Resumen':resumen,\n",
    "                        'URL':url,\n",
    "                        'Imagen':imagen,\n",
    "                        'Empresa':empresa})\n",
    "    "
   ]
  },
  {
   "cell_type": "code",
   "execution_count": 25,
   "metadata": {},
   "outputs": [
    {
     "ename": "IndexError",
     "evalue": "list index out of range",
     "output_type": "error",
     "traceback": [
      "\u001b[1;31m---------------------------------------------------------------------------\u001b[0m",
      "\u001b[1;31mIndexError\u001b[0m                                Traceback (most recent call last)",
      "Cell \u001b[1;32mIn[25], line 2\u001b[0m\n\u001b[0;32m      1\u001b[0m \u001b[39m#se carga la info del primer titular\u001b[39;00m\n\u001b[1;32m----> 2\u001b[0m driver\u001b[39m.\u001b[39mget(titulares[\u001b[39m0\u001b[39;49m][\u001b[39m'\u001b[39m\u001b[39mURL\u001b[39m\u001b[39m'\u001b[39m])\n\u001b[0;32m      4\u001b[0m \u001b[39m# agregar resumen al dict de titularesPrinc\u001b[39;00m\n\u001b[0;32m      5\u001b[0m titulares[\u001b[39m0\u001b[39m][\u001b[39m'\u001b[39m\u001b[39mResumen\u001b[39m\u001b[39m'\u001b[39m] \u001b[39m=\u001b[39m bs\u001b[39m.\u001b[39mobtener_resumen(driver)\n",
      "\u001b[1;31mIndexError\u001b[0m: list index out of range"
     ]
    }
   ],
   "source": [
    "#se carga la info del primer titular\n",
    "driver.get(titulares[0]['URL'])\n",
    "\n",
    "# agregar resumen al dict de titularesPrinc\n",
    "titulares[0]['Resumen'] = bs.obtener_resumen(driver)\n"
   ]
  },
  {
   "cell_type": "code",
   "execution_count": 11,
   "metadata": {},
   "outputs": [],
   "source": [
    "# busca los autores de cada articulo y las almacena en la lista de titulares\n",
    "for tit in titulares:\n",
    "    \n",
    "    driver.get(tit['URL'])\n",
    "\n",
    "    # agregar autor al dict de titulares\n",
    "    tit['Autor'] = bs.obtener_autor(driver)\n",
    "    \n",
    "    # agregar contenido al dict de titulares\n",
    "    tit['Contenido'] = bs.obtener_contenido_republica(driver)\n",
    "    \n",
    "    #agregar lista de URLs de noticias relacionadas\n",
    "    tit['RelNewsUrls'] = bs.obtener_articulos_relacionados(driver)     \n",
    "\n",
    "    # se podria agregar un if resumen vacio, llamar a resumen. (para las 3 noticias principales)"
   ]
  },
  {
   "cell_type": "code",
   "execution_count": 20,
   "metadata": {},
   "outputs": [],
   "source": [
    "columnas = ['Fecha Extraccion','Titulo', 'Fecha Publicacion','Tema','Resumen','URL','Imagen','Empresa','Autor','Contenido','RelNewsUrls']"
   ]
  },
  {
   "cell_type": "code",
   "execution_count": 21,
   "metadata": {},
   "outputs": [],
   "source": [
    "# Para AGREGAR titulares a un archivo.\n",
    "with open('../data/raw/larepublica.csv', 'a', newline='', errors='ignore') as csv_file:\n",
    "    dict_object = csv.DictWriter(csv_file, fieldnames=columnas) \n",
    "  \n",
    "    dict_object.writerows(titulares)"
   ]
  },
  {
   "cell_type": "code",
   "execution_count": 22,
   "metadata": {},
   "outputs": [],
   "source": [
    "#Para crear un NUEVO archivo con los titulares\n",
    "# pd.json_normalize(titulares).to_csv(f'../data/raw/larepublica.csv',index=False, encoding='latin-1', errors='ignore', columns=columnas)"
   ]
  },
  {
   "cell_type": "code",
   "execution_count": null,
   "metadata": {},
   "outputs": [],
   "source": [
    "driver.close()"
   ]
  }
 ],
 "metadata": {
  "kernelspec": {
   "display_name": "Python 3",
   "language": "python",
   "name": "python3"
  },
  "language_info": {
   "codemirror_mode": {
    "name": "ipython",
    "version": 3
   },
   "file_extension": ".py",
   "mimetype": "text/x-python",
   "name": "python",
   "nbconvert_exporter": "python",
   "pygments_lexer": "ipython3",
   "version": "3.11.1 (tags/v3.11.1:a7a450f, Dec  6 2022, 19:58:39) [MSC v.1934 64 bit (AMD64)]"
  },
  "orig_nbformat": 4,
  "vscode": {
   "interpreter": {
    "hash": "5238573367df39f7286bb46f9ff5f08f63a01a80960060ce41e3c79b190280fa"
   }
  }
 },
 "nbformat": 4,
 "nbformat_minor": 2
}
