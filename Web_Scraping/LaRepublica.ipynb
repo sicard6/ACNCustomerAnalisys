{
 "cells": [
  {
   "cell_type": "code",
   "execution_count": 1,
   "metadata": {},
   "outputs": [],
   "source": [
    "from selenium.webdriver.common.by import By\n",
    "import selenium as sel\n",
    "import pandas as pd\n",
    "import time\n",
    "import datetime\n",
    "\n",
    "import os as os\n",
    "import csv"
   ]
  },
  {
   "cell_type": "code",
   "execution_count": 39,
   "metadata": {},
   "outputs": [],
   "source": [
    "empresa = input(\"Digite la empresa a extraer: \")"
   ]
  },
  {
   "cell_type": "code",
   "execution_count": 40,
   "metadata": {},
   "outputs": [],
   "source": [
    "def verif(u):\n",
    "    with open('../data/raw/articulos.csv', encoding=\"utf8\") as f:\n",
    "        csvreader = csv.reader(f, delimiter=\",\")\n",
    "        for row in csvreader:\n",
    "            if u in row[5]:\n",
    "                 return False\n",
    "        return True\n"
   ]
  },
  {
   "cell_type": "code",
   "execution_count": 41,
   "metadata": {},
   "outputs": [],
   "source": [
    "#cerar driver... MODIFICAR DEPENDIENDO DEL NAVEGADOR\n",
    "driver = sel.webdriver.Edge()\n",
    "driver.get(f'https://www.larepublica.co/{empresa}')\n",
    "time.sleep(2)"
   ]
  },
  {
   "cell_type": "code",
   "execution_count": 42,
   "metadata": {},
   "outputs": [],
   "source": [
    "articulos = driver.find_elements(By.XPATH,'.//div[contains(@class,\"row news\")]')"
   ]
  },
  {
   "cell_type": "code",
   "execution_count": 43,
   "metadata": {},
   "outputs": [],
   "source": [
    "titulares = []\n",
    "for art in articulos:\n",
    "    url = art.find_elements(By.XPATH,'.//a')[1].get_attribute('href')\n",
    "    if verif(url):\n",
    "        fechaP = art.find_element(By.XPATH,'.//span[@class = \"date-news\"]').text\n",
    "        tema = art.find_elements(By.XPATH,'.//a')[1].text\n",
    "        resumen = art.find_element(By.XPATH,'.//p').text\n",
    "        titulo = art.find_element(By.XPATH,'.//h2').text\n",
    "        imagen = art.find_elements(By.XPATH,'.//img')[0].get_attribute('src')\n",
    "        titulares.append({'Fecha Extraccion':datetime.datetime.now().strftime(\"%Y-%m-%d %H:%M:%S\"),\n",
    "                        'Titulo':titulo,\n",
    "                        'Fecha Publicacion':fechaP,\n",
    "                        'Tema':tema,\n",
    "                        'Resumen':resumen,\n",
    "                        'URL':url,\n",
    "                        'Imagen':imagen})\n",
    "    "
   ]
  },
  {
   "cell_type": "code",
   "execution_count": 44,
   "metadata": {},
   "outputs": [
    {
     "data": {
      "text/plain": [
       "22"
      ]
     },
     "execution_count": 44,
     "metadata": {},
     "output_type": "execute_result"
    }
   ],
   "source": [
    "len(titulares)"
   ]
  },
  {
   "cell_type": "code",
   "execution_count": 45,
   "metadata": {},
   "outputs": [],
   "source": [
    "for tit in titulares:\n",
    "    driver.get(tit['URL'])\n",
    "    try :\n",
    "        secAutor = driver.find_element(By.XPATH,'.//div[contains(@class,\"author-article\")]')\n",
    "    except:\n",
    "        autor = 'SIN AUTOR'\n",
    "    else:\n",
    "        try:\n",
    "            autor = secAutor.find_element(By.XPATH,'.//button').text\n",
    "        except:\n",
    "            autor = secAutor.find_element(By.XPATH,'.//span').text\n",
    "\n",
    "    ## agregar autor\n",
    "    tit['Autor'] = autor\n",
    "    try :\n",
    "        html = driver.find_element(By.XPATH,'.//div[contains(@class,\"html-content\")]')\n",
    "        parrafos = html.find_elements(By.XPATH,'.//p')\n",
    "    except:\n",
    "        parrafos = 'SIN PARRAFOS'\n",
    "    else:\n",
    "        contenido = ''\n",
    "        for i in parrafos:\n",
    "            contenido += i.text\n",
    "        ## Agregar contenido\n",
    "        tit['Contenido'] = contenido\n",
    "    try :\n",
    "        related = driver.find_elements(By.XPATH,'.//div[contains(@class,\"relatedNews\")]')\n",
    "        relNewsUrls = []\n",
    "        for i in related:\n",
    "            relNewsUrls.append(i.find_element(By.XPATH,'.//a').get_attribute('href'))\n",
    "    except:\n",
    "        relNewsUrls = []\n",
    "\n",
    "    ##agregar lista de URLs de noticias relacionadas\n",
    "    tit['RelNewsUrls'] = relNewsUrls     "
   ]
  },
  {
   "cell_type": "code",
   "execution_count": 46,
   "metadata": {},
   "outputs": [
    {
     "name": "stdout",
     "output_type": "stream",
     "text": [
      "{'Fecha Extraccion': '2022-08-31 15:15:42', 'Titulo': 'Ecopetrol anunció el descubrimiento de extensión de la gasífera Gorgon-2', 'Fecha Publicacion': '10/08/2022', 'Tema': 'ENERGÍA', 'Resumen': 'El pozo se encuentra ubicado aproximadamente a 70 kilómetros de la costa caribe y fue perforado con un buque de última tecnología para aguas profundas', 'URL': 'https://www.larepublica.co/economia/ecopetrol-anuncio-el-descubrimiento-de-extension-de-la-provincia-gasifera-gorgon-2-3422266', 'Imagen': \"data:image/svg+xml,%3Csvg xmlns='http://www.w3.org/2000/svg' viewBox='0 0 1080 900'%3E%3C/svg%3E\", 'Autor': 'JUAN PABLO VARGAS CUELLAR', 'Contenido': 'Ecopetrol anunció que con la perforación del pozo Gorgon-2, en aguas ultra profundas en el sur del Caribe colombiano, se comprobó la presencia de gas. Se trata de la perforación de mayor profundidad, la cual supera los 4.000 metros aproximadamente.El pozo se encuentra ubicado a unos 70 kilómetros de la costa caribe y fue perforado con un buque de última tecnología para aguas profundas. Al respecto, Felipe Bayón, presidente de Ecopetrol, anunció que el descubrimiento les permitirá avanzar en la evaluación de estos hallazgos en el Caribe Sur, que en caso de un eventual desarrollo dará campo a incrementar las reservas de gas de Colombia\".Asimismo, Gorgon-2 se une al descubrimiento de gas de 2017 en Gorgon-1 y confirma la existencia de una provincia gasífera costa afuera en Colombia. En ella, también se descubrieron Kronos en 2015 y de Purple Angel en 2017.Actualmente Ecopetrol y Shell (operador) son socios en los bloques del Caribe Sur (Col-5,Fuerte Sur y Purple Angel), con 50% de participación cada uno. Para la compañía el desarrollo de esta provincia podría contribuir a mantener la seguridad energética del país y abre la posibilidad para futuras exportaciones.', 'RelNewsUrls': ['https://www.larepublica.co/finanzas/la-accion-de-ecopetrol-ha-caido-mas-de-35-8-desde-que-alcanzo-su-maximo-del-ano-3420335']}\n"
     ]
    }
   ],
   "source": [
    "print(titulares[-1])"
   ]
  },
  {
   "cell_type": "code",
   "execution_count": 47,
   "metadata": {},
   "outputs": [],
   "source": [
    "columnas = ['Fecha Extraccion','Titulo', 'Fecha Publicacion','Tema','Resumen','URL','Imagen','Autor','Contenido','RelNewsUrls']"
   ]
  },
  {
   "cell_type": "code",
   "execution_count": 49,
   "metadata": {},
   "outputs": [],
   "source": [
    "with open('../data/raw/articulos.csv', 'a', newline='') as csv_file:\n",
    "    dict_object = csv.DictWriter(csv_file, fieldnames=columnas) \n",
    "  \n",
    "    dict_object.writerows(titulares)"
   ]
  },
  {
   "cell_type": "code",
   "execution_count": 38,
   "metadata": {},
   "outputs": [],
   "source": [
    "pd.json_normalize(titulares).to_csv(f'../data/raw/articulos.csv',index=False)"
   ]
  }
 ],
 "metadata": {
  "kernelspec": {
   "display_name": "Python 3.10.6 64-bit",
   "language": "python",
   "name": "python3"
  },
  "language_info": {
   "codemirror_mode": {
    "name": "ipython",
    "version": 3
   },
   "file_extension": ".py",
   "mimetype": "text/x-python",
   "name": "python",
   "nbconvert_exporter": "python",
   "pygments_lexer": "ipython3",
   "version": "3.10.6"
  },
  "orig_nbformat": 4,
  "vscode": {
   "interpreter": {
    "hash": "f1da4af0f396938d5cafb21d3dc824731b08794e154ba8ba10a81fa80bafb5ff"
   }
  }
 },
 "nbformat": 4,
 "nbformat_minor": 2
}
