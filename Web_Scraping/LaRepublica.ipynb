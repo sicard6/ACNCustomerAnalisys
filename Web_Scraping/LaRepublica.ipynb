{
 "cells": [
  {
   "cell_type": "code",
   "execution_count": 2,
   "metadata": {},
   "outputs": [],
   "source": [
    "from selenium.webdriver.common.by import By\n",
    "import selenium as sel\n",
    "import pandas as pd\n",
    "import time\n",
    "import datetime\n",
    "\n",
    "import os as os"
   ]
  },
  {
   "cell_type": "code",
   "execution_count": 3,
   "metadata": {},
   "outputs": [],
   "source": [
    "empresa = input(\"Digite la empresa a extraer: \")"
   ]
  },
  {
   "cell_type": "code",
   "execution_count": 4,
   "metadata": {},
   "outputs": [],
   "source": [
    "#cerar driver... MODIFICAR DEPENDIENDO DEL NAVEGADOR\n",
    "driver = sel.webdriver.Edge()\n",
    "driver.get(f'https://www.larepublica.co/{empresa}')\n",
    "time.sleep(2)"
   ]
  },
  {
   "cell_type": "code",
   "execution_count": 5,
   "metadata": {},
   "outputs": [],
   "source": [
    "articulos = driver.find_elements(By.XPATH,'.//div[contains(@class,\"row news\")]')"
   ]
  },
  {
   "cell_type": "code",
   "execution_count": 6,
   "metadata": {},
   "outputs": [],
   "source": [
    "titulares = []\n",
    "for art in articulos:\n",
    "    titulo = art.find_element(By.XPATH,'.//h2').text\n",
    "    fechaP = art.find_element(By.XPATH,'.//span[@class = \"date-news\"]').text\n",
    "    tema = art.find_elements(By.XPATH,'.//a')[1].text\n",
    "    resumen = art.find_element(By.XPATH,'.//p').text\n",
    "    url = art.find_elements(By.XPATH,'.//a')[1].get_attribute('href')\n",
    "    imagen = art.find_elements(By.XPATH,'.//img')[0].get_attribute('src')\n",
    "    titulares.append({'Fecha Extraccion':datetime.datetime.now().strftime(\"%Y-%m-%d %H:%M:%S\"),\n",
    "                      'Titulo':titulo,\n",
    "                      'Fecha Publicacion':fechaP,\n",
    "                      'Tema':tema,\n",
    "                      'Resumen':resumen,\n",
    "                      'URL':url,\n",
    "                      'Imagen':imagen})\n",
    "    "
   ]
  },
  {
   "cell_type": "code",
   "execution_count": 7,
   "metadata": {},
   "outputs": [
    {
     "data": {
      "text/plain": [
       "22"
      ]
     },
     "execution_count": 7,
     "metadata": {},
     "output_type": "execute_result"
    }
   ],
   "source": [
    "len(titulares)"
   ]
  },
  {
   "cell_type": "code",
   "execution_count": 8,
   "metadata": {},
   "outputs": [],
   "source": [
    "driver.get(titulares[0]['URL'])\n",
    "try :\n",
    "    \n",
    "    parrafos = driver.find_elements(By.XPATH,'.//p')\n",
    "except:\n",
    "    parrafos = 'SIN PARRAFOS'"
   ]
  },
  {
   "cell_type": "code",
   "execution_count": 13,
   "metadata": {},
   "outputs": [
    {
     "name": "stdout",
     "output_type": "stream",
     "text": [
      "Organización Ardila Lülle - oal.com.co\n"
     ]
    }
   ],
   "source": [
    "print(parrafos[-1].text)"
   ]
  },
  {
   "cell_type": "code",
   "execution_count": null,
   "metadata": {},
   "outputs": [],
   "source": [
    "for tit in titulares:\n",
    "    driver.get(tit['URL'])\n",
    "    try :\n",
    "        parrafos = driver.find_elements(By.XPATH,'.//p').text\n",
    "    except:\n",
    "        parrafos = 'SIN PARRAFOS'\n",
    "\n",
    "    print(parrafos)"
   ]
  },
  {
   "cell_type": "code",
   "execution_count": 69,
   "metadata": {},
   "outputs": [
    {
     "name": "stdout",
     "output_type": "stream",
     "text": [
      "IVÁN CAJAMARCA\n",
      "NATALIA GAVIRIA\n",
      "NATALIA GAVIRIA GONZÁLEZ\n",
      "JUAN PABLO VARGAS CUELLAR\n",
      "DAVID VESGA\n",
      "NICOLÁS ESCOBAR ESCOBAR\n",
      "BRAYAN XAVIER BECERRA\n",
      "JUAN PABLO VARGAS CUELLAR\n",
      "IVÁN BERNAL MARÍN\n",
      "ALLISON GUTIÉRREZ NÚÑEZ\n",
      "MARÍA CAMILA GIL NIEBLES\n",
      "SIN AUTOR\n",
      "NATALIA GAVIRIA GONZÁLEZ\n",
      "SIN AUTOR\n",
      "NICOLÁS ESCOBAR ESCOBAR\n",
      "NATALIA GAVIRIA GONZÁLEZ\n",
      "BLOOMBERG\n",
      "CRISTINA ESTRADA RUDAS\n",
      "MARÍA CAMILA GIL NIEBLES\n",
      "NATALIA GAVIRIA GONZÁLEZ\n",
      "JUAN PABLO VARGAS CUELLAR\n",
      "JUAN PABLO VARGAS CUELLAR\n"
     ]
    }
   ],
   "source": [
    "for tit in titulares:\n",
    "    driver.get(tit['URL'])\n",
    "    try :\n",
    "        secAutor = driver.find_element(By.XPATH,'.//div[contains(@class,\"author-article\")]')\n",
    "    except:\n",
    "        autor = 'SIN AUTOR'\n",
    "    else:\n",
    "        try:\n",
    "            autor = secAutor.find_element(By.XPATH,'.//button').text\n",
    "        except:\n",
    "            autor = secAutor.find_element(By.XPATH,'.//span').text\n",
    "\n",
    "    print(autor)"
   ]
  },
  {
   "cell_type": "code",
   "execution_count": 25,
   "metadata": {},
   "outputs": [],
   "source": [
    "detail = driver.get(titulares[0]['URL'])\n",
    "time.sleep(2)"
   ]
  },
  {
   "cell_type": "code",
   "execution_count": 29,
   "metadata": {},
   "outputs": [],
   "source": [
    "secAutor = driver.find_element(By.XPATH,'.//div[contains(@class,\"author-article\")]')"
   ]
  },
  {
   "cell_type": "code",
   "execution_count": 30,
   "metadata": {},
   "outputs": [],
   "source": [
    "autor = secAutor.find_element(By.XPATH,'.//button').text"
   ]
  },
  {
   "cell_type": "code",
   "execution_count": 31,
   "metadata": {},
   "outputs": [
    {
     "data": {
      "text/plain": [
       "'IVÁN CAJAMARCA'"
      ]
     },
     "execution_count": 31,
     "metadata": {},
     "output_type": "execute_result"
    }
   ],
   "source": [
    "autor"
   ]
  },
  {
   "cell_type": "code",
   "execution_count": 79,
   "metadata": {},
   "outputs": [],
   "source": [
    "pd.json_normalize(titulares).to_csv(f'../data/raw/articulos.csv',index=False)"
   ]
  }
 ],
 "metadata": {
  "kernelspec": {
   "display_name": "Python 3.10.6 64-bit",
   "language": "python",
   "name": "python3"
  },
  "language_info": {
   "codemirror_mode": {
    "name": "ipython",
    "version": 3
   },
   "file_extension": ".py",
   "mimetype": "text/x-python",
   "name": "python",
   "nbconvert_exporter": "python",
   "pygments_lexer": "ipython3",
   "version": "3.10.6"
  },
  "orig_nbformat": 4,
  "vscode": {
   "interpreter": {
    "hash": "f1da4af0f396938d5cafb21d3dc824731b08794e154ba8ba10a81fa80bafb5ff"
   }
  }
 },
 "nbformat": 4,
 "nbformat_minor": 2
}
