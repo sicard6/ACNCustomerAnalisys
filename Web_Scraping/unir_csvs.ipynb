{
  "cells": [
    {
      "cell_type": "code",
      "execution_count": 91,
      "metadata": {},
      "outputs": [],
      "source": [
        "import pandas as pd"
      ]
    },
    {
      "cell_type": "code",
      "execution_count": 92,
      "metadata": {},
      "outputs": [],
      "source": [
        "# Nombre de los archivos csv a unir\n",
        "nombre_archivos = ['larepublica', 'semana', 'laSillaVacia']\n",
        "\n",
        "revistas = ['La República', 'Semana', 'La Silla Vacía']"
      ]
    },
    {
      "cell_type": "code",
      "execution_count": 93,
      "metadata": {},
      "outputs": [],
      "source": [
        "# Se crea un diccionario con dataframes y nombres de las columnas de estos\n",
        "inf_revistas = {}\n",
        "columns = []\n",
        "for i, nom in enumerate(nombre_archivos):\n",
        "    inf_revistas[revistas[i]] = {'dataFrame': pd.read_csv(f'../data/raw/{nom}.csv', encoding='latin-1')}\n",
        "    # inf_revistas[revistas[i]]['Columns'] = inf_revistas[revistas[i]]['dataFrame'].columns.to_list()\n",
        "    # columns += inf_revistas[revistas[i]]['Columns']\n",
        "\n",
        "# Se crea una lista con las columnas que aparecen en todos los archivos    \n",
        "# columns = list(set(columns))"
      ]
    },
    {
      "cell_type": "code",
      "execution_count": 94,
      "metadata": {},
      "outputs": [],
      "source": [
        "# Se agregan las columnas faltantes a cada uno de los df\n",
        "# y una columna de la fuente que se extrajo la info\n",
        "for i in revistas:\n",
        "    n = len(inf_revistas[i]['dataFrame'])\n",
        "#     for j in columns:\n",
        "#         if j not in inf_revistas[i]['Columns']:\n",
        "#             inf_revistas[i]['dataFrame'][j] = [None]*n\n",
        "    inf_revistas[i]['dataFrame']['Fuente'] = [i]*n\n",
        "\n",
        "# columns.append('Fuente')"
      ]
    },
    {
      "cell_type": "code",
      "execution_count": 95,
      "metadata": {},
      "outputs": [],
      "source": [
        "# Se crea un df consolidado con todas las nombre_archivos\n",
        "dataframes = []\n",
        "for i in revistas:\n",
        "    dataframes.append(inf_revistas[i]['dataFrame'])\n",
        "    \n",
        "df = pd.concat(dataframes, axis=0, ignore_index=True)"
      ]
    },
    {
      "cell_type": "code",
      "execution_count": 132,
      "metadata": {},
      "outputs": [],
      "source": [
        "df.to_csv(f'../data/raw/consolidado.csv')"
      ]
    },
    {
      "cell_type": "code",
      "execution_count": 131,
      "metadata": {},
      "outputs": [
        {
          "data": {
            "text/html": [
              "<div>\n",
              "<style scoped>\n",
              "    .dataframe tbody tr th:only-of-type {\n",
              "        vertical-align: middle;\n",
              "    }\n",
              "\n",
              "    .dataframe tbody tr th {\n",
              "        vertical-align: top;\n",
              "    }\n",
              "\n",
              "    .dataframe thead th {\n",
              "        text-align: right;\n",
              "    }\n",
              "</style>\n",
              "<table border=\"1\" class=\"dataframe\">\n",
              "  <thead>\n",
              "    <tr style=\"text-align: right;\">\n",
              "      <th></th>\n",
              "      <th>Fecha Extraccion</th>\n",
              "      <th>Titulo</th>\n",
              "      <th>Fecha Publicacion</th>\n",
              "      <th>Tema</th>\n",
              "      <th>Resumen</th>\n",
              "      <th>URL</th>\n",
              "      <th>Imagen</th>\n",
              "      <th>Empresa</th>\n",
              "      <th>Autor</th>\n",
              "      <th>Contenido</th>\n",
              "      <th>RelNewsUrls</th>\n",
              "      <th>Fuente</th>\n",
              "      <th>Tags</th>\n",
              "    </tr>\n",
              "  </thead>\n",
              "  <tbody>\n",
              "    <tr>\n",
              "      <th>52</th>\n",
              "      <td>2023-01-26 12:25:24</td>\n",
              "      <td>\"Presidente de Ecopetrol en la crisis más grav...</td>\n",
              "      <td>2022-10-30 00:00:00</td>\n",
              "      <td>NaN</td>\n",
              "      <td>NaN</td>\n",
              "      <td>http://www.lasillavacia.com/la-silla-vacia/det...</td>\n",
              "      <td>NaN</td>\n",
              "      <td>ecopetrol</td>\n",
              "      <td>NaN</td>\n",
              "      <td>NaN</td>\n",
              "      <td>NaN</td>\n",
              "      <td>La Silla Vacía</td>\n",
              "      <td>NaN</td>\n",
              "    </tr>\n",
              "    <tr>\n",
              "      <th>53</th>\n",
              "      <td>2023-01-26 12:25:24</td>\n",
              "      <td>Lo que tiene que ver Petro, y lo que no, con e...</td>\n",
              "      <td>2022-10-30 00:00:00</td>\n",
              "      <td>NaN</td>\n",
              "      <td>NaN</td>\n",
              "      <td>https://www.lasillavacia.com/historias/silla-n...</td>\n",
              "      <td>NaN</td>\n",
              "      <td>ecopetrol</td>\n",
              "      <td>La Silla Vacía</td>\n",
              "      <td>NaN</td>\n",
              "      <td>NaN</td>\n",
              "      <td>La Silla Vacía</td>\n",
              "      <td>NaN</td>\n",
              "    </tr>\n",
              "    <tr>\n",
              "      <th>54</th>\n",
              "      <td>2023-01-26 12:25:24</td>\n",
              "      <td>La estrategia de Duque para blindar a Ecopetro...</td>\n",
              "      <td>2022-10-30 00:00:00</td>\n",
              "      <td>NaN</td>\n",
              "      <td>NaN</td>\n",
              "      <td>https://www.lasillavacia.com/historias/silla-n...</td>\n",
              "      <td>https://www.lasillavacia.com/media/640x480/asa...</td>\n",
              "      <td>ecopetrol</td>\n",
              "      <td>Nohora Celedón</td>\n",
              "      <td>En las últimas semanas el gobierno ha hecho do...</td>\n",
              "      <td>NaN</td>\n",
              "      <td>La Silla Vacía</td>\n",
              "      <td>NaN</td>\n",
              "    </tr>\n",
              "    <tr>\n",
              "      <th>55</th>\n",
              "      <td>2023-01-26 12:25:24</td>\n",
              "      <td>La última jugadita del gobierno sobre Ecopetrol</td>\n",
              "      <td>2022-10-30 00:00:00</td>\n",
              "      <td>NaN</td>\n",
              "      <td>NaN</td>\n",
              "      <td>https://www.lasillavacia.com/historias/histori...</td>\n",
              "      <td>https://www.lasillavacia.com/media/640x480/kat...</td>\n",
              "      <td>ecopetrol</td>\n",
              "      <td>Katherine Casas Perez</td>\n",
              "      <td>Al presidente, Iván Duque, le quedan cuatro me...</td>\n",
              "      <td>NaN</td>\n",
              "      <td>La Silla Vacía</td>\n",
              "      <td>NaN</td>\n",
              "    </tr>\n",
              "    <tr>\n",
              "      <th>56</th>\n",
              "      <td>2023-01-26 12:25:24</td>\n",
              "      <td>Ecopetrol: 70 años de retos que continúan</td>\n",
              "      <td>2022-10-30 00:00:00</td>\n",
              "      <td>NaN</td>\n",
              "      <td>NaN</td>\n",
              "      <td>https://www.lasillavacia.com/historias/histori...</td>\n",
              "      <td>https://www.lasillavacia.com/media/640x480/kat...</td>\n",
              "      <td>ecopetrol</td>\n",
              "      <td>Katherine Casas Perez</td>\n",
              "      <td>Ecopetrol, la empresa petrolera más grande de ...</td>\n",
              "      <td>NaN</td>\n",
              "      <td>La Silla Vacía</td>\n",
              "      <td>NaN</td>\n",
              "    </tr>\n",
              "  </tbody>\n",
              "</table>\n",
              "</div>"
            ],
            "text/plain": [
              "       Fecha Extraccion                                             Titulo  \\\n",
              "52  2023-01-26 12:25:24  \"Presidente de Ecopetrol en la crisis más grav...   \n",
              "53  2023-01-26 12:25:24  Lo que tiene que ver Petro, y lo que no, con e...   \n",
              "54  2023-01-26 12:25:24  La estrategia de Duque para blindar a Ecopetro...   \n",
              "55  2023-01-26 12:25:24    La última jugadita del gobierno sobre Ecopetrol   \n",
              "56  2023-01-26 12:25:24          Ecopetrol: 70 años de retos que continúan   \n",
              "\n",
              "      Fecha Publicacion Tema Resumen  \\\n",
              "52  2022-10-30 00:00:00  NaN     NaN   \n",
              "53  2022-10-30 00:00:00  NaN     NaN   \n",
              "54  2022-10-30 00:00:00  NaN     NaN   \n",
              "55  2022-10-30 00:00:00  NaN     NaN   \n",
              "56  2022-10-30 00:00:00  NaN     NaN   \n",
              "\n",
              "                                                  URL  \\\n",
              "52  http://www.lasillavacia.com/la-silla-vacia/det...   \n",
              "53  https://www.lasillavacia.com/historias/silla-n...   \n",
              "54  https://www.lasillavacia.com/historias/silla-n...   \n",
              "55  https://www.lasillavacia.com/historias/histori...   \n",
              "56  https://www.lasillavacia.com/historias/histori...   \n",
              "\n",
              "                                               Imagen    Empresa  \\\n",
              "52                                                NaN  ecopetrol   \n",
              "53                                                NaN  ecopetrol   \n",
              "54  https://www.lasillavacia.com/media/640x480/asa...  ecopetrol   \n",
              "55  https://www.lasillavacia.com/media/640x480/kat...  ecopetrol   \n",
              "56  https://www.lasillavacia.com/media/640x480/kat...  ecopetrol   \n",
              "\n",
              "                    Autor                                          Contenido  \\\n",
              "52                    NaN                                                NaN   \n",
              "53         La Silla Vacía                                                NaN   \n",
              "54         Nohora Celedón  En las últimas semanas el gobierno ha hecho do...   \n",
              "55  Katherine Casas Perez  Al presidente, Iván Duque, le quedan cuatro me...   \n",
              "56  Katherine Casas Perez  Ecopetrol, la empresa petrolera más grande de ...   \n",
              "\n",
              "   RelNewsUrls          Fuente Tags  \n",
              "52         NaN  La Silla Vacía  NaN  \n",
              "53         NaN  La Silla Vacía  NaN  \n",
              "54         NaN  La Silla Vacía  NaN  \n",
              "55         NaN  La Silla Vacía  NaN  \n",
              "56         NaN  La Silla Vacía  NaN  "
            ]
          },
          "execution_count": 131,
          "metadata": {},
          "output_type": "execute_result"
        }
      ],
      "source": [
        "df.tail()"
      ]
    },
    {
      "attachments": {},
      "cell_type": "markdown",
      "metadata": {},
      "source": [
        "# Estadística descriptiva"
      ]
    },
    {
      "cell_type": "code",
      "execution_count": 99,
      "metadata": {},
      "outputs": [],
      "source": [
        "import pandas as pd\n",
        "import seaborn as sns\n",
        "\n",
        "import fuzzywuzzy\n",
        "from fuzzywuzzy import process"
      ]
    },
    {
      "cell_type": "code",
      "execution_count": 143,
      "metadata": {},
      "outputs": [
        {
          "data": {
            "text/plain": [
              "array(['BOLSAS', 'ENERGÍA', 'LABORAL', 'INDUSTRIA', 'COMERCIO',\n",
              "       'ANALISTAS', 'SIN TEMA', 'Bvc', 'Ecopetrol', 'Inversionistas',\n",
              "       'Finanzas', 'Petróleo', nan], dtype=object)"
            ]
          },
          "execution_count": 143,
          "metadata": {},
          "output_type": "execute_result"
        }
      ],
      "source": [
        "temas = df['Tema'].unique()\n",
        "temas"
      ]
    },
    {
      "cell_type": "code",
      "execution_count": 146,
      "metadata": {},
      "outputs": [],
      "source": [
        "def freq_feature(df, string):\n",
        "    try:\n",
        "        return sns.countplot(x=df[string]).set_xticklabels(labels=df[string].unique(), rotation=90);\n",
        "    except:\n",
        "        print(\"Es probable que hayan celdas vacías\")"
      ]
    },
    {
      "cell_type": "code",
      "execution_count": 147,
      "metadata": {},
      "outputs": [
        {
          "name": "stdout",
          "output_type": "stream",
          "text": [
            "Es probable que hayan celdas vacías\n"
          ]
        },
        {
          "data": {
            "image/png": "[encoded data removed]",
            "text/plain": [
              "<Figure size 640x480 with 1 Axes>"
            ]
          },
          "metadata": {},
          "output_type": "display_data"
        }
      ],
      "source": [
        "freq_feature(df, \"Tema\");"
      ]
    },
    {
      "cell_type": "code",
      "execution_count": 148,
      "metadata": {},
      "outputs": [
        {
          "name": "stdout",
          "output_type": "stream",
          "text": [
            "Es probable que hayan celdas vacías\n"
          ]
        },
        {
          "name": "stderr",
          "output_type": "stream",
          "text": [
            "C:\\Users\\andres.ospina\\AppData\\Roaming\\Python\\Python311\\site-packages\\seaborn\\categorical.py:645: UserWarning: Parsing dates in DD/MM/YYYY format when dayfirst=False (the default) was specified. This may lead to inconsistently parsed dates! Specify a format to ensure consistent parsing.\n",
            "  g_vals = grouped_vals.get_group(g)\n"
          ]
        }
      ],
      "source": [
        "freq_feature(df, \"Fecha Publicacion\");"
      ]
    }
  ],
  "metadata": {
    "kernelspec": {
      "display_name": "Python 3",
      "language": "python",
      "name": "python3"
    },
    "language_info": {
      "codemirror_mode": {
        "name": "ipython",
        "version": 3
      },
      "file_extension": ".py",
      "mimetype": "text/x-python",
      "name": "python",
      "nbconvert_exporter": "python",
      "pygments_lexer": "ipython3",
      "version": "3.11.1 (tags/v3.11.1:a7a450f, Dec  6 2022, 19:58:39) [MSC v.1934 64 bit (AMD64)]"
    },
    "orig_nbformat": 4,
    "vscode": {
      "interpreter": {
        "hash": "5238573367df39f7286bb46f9ff5f08f63a01a80960060ce41e3c79b190280fa"
      }
    }
  },
  "nbformat": 4,
  "nbformat_minor": 2
}
