{
 "cells": [
  {
   "cell_type": "code",
   "execution_count": 1,
   "metadata": {},
   "outputs": [],
   "source": [
    "from selenium.webdriver.common.by import By\n",
    "from datetime import datetime\n",
    "import selenium as sel\n",
    "from tqdm import tqdm\n",
    "import pandas as pd\n",
    "import os\n",
    "import sys\n",
    "cwd = os.getcwd()\n",
    "cwd = cwd.replace(\"Notebooks\", \"Scripts\")\n",
    "sys.path.insert(0, cwd.replace(\"\\\\\\\\\", \"\\\\\"))\n",
    "import base as bs"
   ]
  },
  {
   "cell_type": "code",
   "execution_count": 2,
   "metadata": {},
   "outputs": [],
   "source": [
    "#Empresa con la cual vamos a extraer los articulos\n",
    "empresa = input(\"Digite la empresa a extraer: \").lower().strip()\n",
    "if \" \" in empresa:\n",
    "    empresa_ = empresa.replace(\" \", \"%20\")\n",
    "else:\n",
    "    empresa_ = empresa\n",
    "revista = \"elColombiano\""
   ]
  },
  {
   "cell_type": "code",
   "execution_count": 3,
   "metadata": {},
   "outputs": [],
   "source": [
    "driver = bs.ejecutar_driver(f'https://www.elcolombiano.com/busqueda/-/search/{empresa_}/false/false/19810311/20230311/date/true/true/0/0/meta/0/0/0/1')"
   ]
  },
  {
   "cell_type": "code",
   "execution_count": 4,
   "metadata": {},
   "outputs": [
    {
     "name": "stderr",
     "output_type": "stream",
     "text": [
      "100%|██████████| 5/5 [00:01<00:00,  2.74it/s]\n",
      "100%|██████████| 5/5 [00:03<00:00,  1.35it/s]\n",
      "100%|██████████| 5/5 [00:02<00:00,  1.90it/s]\n",
      "100%|██████████| 5/5 [00:03<00:00,  1.32it/s]\n",
      "100%|██████████| 5/5 [00:04<00:00,  1.13it/s]\n",
      "100%|██████████| 5/5 [01:52<00:00, 22.45s/it]\n"
     ]
    }
   ],
   "source": [
    "# Articulos a extraer\n",
    "num_paginas = input(\"Ingrese el numero de páginas que desea recorrer\").lower()\n",
    "url_princ = driver.current_url[:-1]\n",
    "titulares = []\n",
    "for i in tqdm(range(1, int(num_paginas) + 1)):\n",
    "    aux = str(i)\n",
    "    url_a_buscar = url_princ+aux\n",
    "    driver.get(url_a_buscar)\n",
    "    articulos = driver.find_elements(By.XPATH, './/li[@class=\"element   full-access norestricted\"]')\n",
    "    \n",
    "    for art in tqdm(articulos):\n",
    "        url = art.find_element(By.XPATH, './/div[contains(@class, \"right\")]//a').get_attribute('href')\n",
    "        if not(bs.existedb(url, \"database\", empresa)):\n",
    "            titulo = art.find_element(By.XPATH, './/h3[contains(@class, \"titulo-noticia\")]//span').text\n",
    "            fechaP = art.find_element(By.XPATH, './/div[contains(@class, \"fecha\")]//span').text\n",
    "            fechaP = datetime.strptime(fechaP, '%d / %m / %Y')\n",
    "            tema = art.find_element(By.XPATH, './/div[contains(@class, \"information\")]//a').text\n",
    "            autor = art.find_element(By.XPATH, './/span[contains(@class, \"autor\")]').text\n",
    "            lista_tags = art.find_element(By.XPATH, './/div[contains(@class, \"tags-noticia\")]//ul')\n",
    "            tags = list(map(lambda x: x.text, lista_tags.find_elements(By.XPATH, './/li')))\n",
    "            imagen = bs.obtener_imagen_col(art)\n",
    "            titulares.append({'Fecha Extraccion':datetime.now().strftime(\"%Y-%m-%d %H:%M:%S\"),\n",
    "                            'Titulo': titulo,\n",
    "                            'Fecha Publicacion': fechaP,\n",
    "                            'URL': url,\n",
    "                            'Tema': tema,\n",
    "                            'Autor': autor,\n",
    "                            'Tags': tags,\n",
    "                            'Imagen': imagen,\n",
    "                            'Empresa': empresa,\n",
    "                            'Fuente': 'El Colombiano'\n",
    "                            })"
   ]
  },
  {
   "cell_type": "code",
   "execution_count": 5,
   "metadata": {},
   "outputs": [
    {
     "name": "stderr",
     "output_type": "stream",
     "text": [
      "100%|██████████| 25/25 [14:13<00:00, 34.15s/it]\n"
     ]
    }
   ],
   "source": [
    "for tit in tqdm(titulares):\n",
    "    driver.get(tit[\"URL\"])\n",
    "    driver.implicitly_wait(10)\n",
    "    tit[\"Contenido\"] = bs.obtener_contenido_col(driver)\n",
    "    tit[\"Resumen\"] = bs.obtener_resumen_col(driver)"
   ]
  },
  {
   "cell_type": "code",
   "execution_count": 6,
   "metadata": {},
   "outputs": [],
   "source": [
    "df = pd.DataFrame(titulares)\n",
    "# bs.writeData(\"database\", df)"
   ]
  },
  {
   "cell_type": "code",
   "execution_count": 8,
   "metadata": {},
   "outputs": [],
   "source": [
    "driver.quit()"
   ]
  }
 ],
 "metadata": {
  "kernelspec": {
   "display_name": "Python 3",
   "language": "python",
   "name": "python3"
  },
  "language_info": {
   "codemirror_mode": {
    "name": "ipython",
    "version": 3
   },
   "file_extension": ".py",
   "mimetype": "text/x-python",
   "name": "python",
   "nbconvert_exporter": "python",
   "pygments_lexer": "ipython3",
   "version": "3.11.1"
  },
  "orig_nbformat": 4,
  "vscode": {
   "interpreter": {
    "hash": "5238573367df39f7286bb46f9ff5f08f63a01a80960060ce41e3c79b190280fa"
   }
  }
 },
 "nbformat": 4,
 "nbformat_minor": 2
}
