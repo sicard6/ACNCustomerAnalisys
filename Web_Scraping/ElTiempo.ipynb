{
 "cells": [
  {
   "attachments": {},
   "cell_type": "markdown",
   "metadata": {},
   "source": [
    "# "
   ]
  },
  {
   "cell_type": "code",
   "execution_count": 1,
   "metadata": {},
   "outputs": [],
   "source": [
    "import selenium as sel\n",
    "from selenium.webdriver.common.by import By\n",
    "import pandas as pd\n",
    "import time\n",
    "import datetime\n",
    "import base as bs\n",
    "import ElTiempoFunciones as etf\n",
    "\n",
    "import json\n",
    "import re\n",
    "\n",
    "import os as os\n",
    "import csv\n",
    "\n",
    "from selenium.common.exceptions import NoSuchElementException\n",
    "from selenium.common.exceptions import StaleElementReferenceException\n",
    "from selenium.webdriver.common.by import By\n",
    "from selenium.webdriver.support.ui import WebDriverWait\n",
    "from selenium.webdriver.support import expected_conditions as EC\n"
   ]
  },
  {
   "cell_type": "markdown",
   "metadata": {},
   "source": []
  },
  {
   "cell_type": "code",
   "execution_count": 2,
   "metadata": {},
   "outputs": [],
   "source": [
    "f = open('config.json')\n",
    "empresas = json.load(f)\n",
    "\n",
    "if not os.path.exists('../data/raw/eltiempo.csv'):\n",
    "    os.makedirs('../data/raw/eltiempo.csv')\n",
    "    \n",
    "#for i in empresas['LaRepublica']:\n",
    "    "
   ]
  },
  {
   "cell_type": "code",
   "execution_count": 3,
   "metadata": {},
   "outputs": [],
   "source": [
    "#Empresa con la cual vamos a extraer los articulos\n",
    "# TODO Tener una lista que itere por todos lo clientes\n",
    "empresa = input(\"Digite la empresa a extraer: \")\n",
    "paginas = input(\"la cantidad de paginas \")"
   ]
  },
  {
   "cell_type": "code",
   "execution_count": 4,
   "metadata": {},
   "outputs": [],
   "source": [
    "#cerar driver... MODIFICAR DEPENDIENDO DEL NAVEGADOR\n",
    "driver = sel.webdriver.Edge()"
   ]
  },
  {
   "cell_type": "code",
   "execution_count": 5,
   "metadata": {},
   "outputs": [],
   "source": [
    "def obtener_articulos(driver, url: str, titulares):\n",
    "    \"\"\"obtiene los ariculos de una pagina del tiempo dada la url.\n",
    "        'https://www.eltiempo.com/buscar?q={empresa}'\n",
    "        'https://www.eltiempo.com/buscar/{i}?q={empresa}'\n",
    "\n",
    "    Args:\n",
    "        driver (_type_): _description_\n",
    "        url (str): _description_\n",
    "        titulares (_type_): _description_\n",
    "    \"\"\"\n",
    "\n",
    "    driver.get(url)\n",
    "    driver.implicitly_wait(10)\n",
    "    buscar = driver.find_element(By.XPATH,'//*[@id=\"main-container\"]/div[16]/div[2]/div[2]/div[2]/div')\n",
    "    articulos = buscar.find_elements(By.CLASS_NAME,\"listing\")\n",
    "\n",
    "    for articulos in articulos:\n",
    "            aux = articulos.find_element(By.XPATH, './/h3[contains(@class, \"title-container\")]')\n",
    "            url = aux.find_element(By.XPATH,'.//a').get_attribute('href')\n",
    "            # print(url)\n",
    "            if not(bs.existedb(url, \"eltiempo\")):\n",
    "                    titulo = articulos.find_element(By.CLASS_NAME,\"title-container\").text\n",
    "                    # print(titulo)\n",
    "                    resumen = articulos.find_element(By.CLASS_NAME,\"epigraph-container\").text\n",
    "                    # print(resumen)\n",
    "                    fechaPub = articulos.find_element(By.CLASS_NAME,\"published-at\").text\n",
    "                    # print(fechaPub)\n",
    "                    tema = articulos.find_element(By.CLASS_NAME,\"category\").text\n",
    "                    # print(tema)\n",
    "                    titulares.append({'Fecha Extraccion':datetime.datetime.now().strftime(\"%Y-%m-%d %H:%M:%S\"),\n",
    "                                    'Titulo':titulo,\n",
    "                                    'Fecha Publicacion':fechaPub,\n",
    "                                    'Tema':tema,\n",
    "                                    'URL':url,\n",
    "                                    'Resumen':resumen,\n",
    "                                    'Empresa':empresa})\n"
   ]
  },
  {
   "cell_type": "code",
   "execution_count": 6,
   "metadata": {},
   "outputs": [],
   "source": [
    "titulares=[]\n",
    "get_url = driver.current_url\n",
    "# hacer el WS del primer url\n",
    "obtener_articulos(driver=driver, url=f'https://www.eltiempo.com/buscar?q={empresa}',titulares = titulares)\n",
    "\n",
    "for i in range(2,int(paginas) + 1):\n",
    "        obtener_articulos(driver=driver, url=f'https://www.eltiempo.com/buscar/{i}?q={empresa}',titulares = titulares)\n"
   ]
  },
  {
   "attachments": {},
   "cell_type": "markdown",
   "metadata": {},
   "source": [
    "### Extrae info de cada URL"
   ]
  },
  {
   "cell_type": "code",
   "execution_count": 7,
   "metadata": {},
   "outputs": [],
   "source": [
    "# Inicializa los cookies del navegador \n",
    "driver.delete_all_cookies()\n",
    "\n",
    "# Busca cada articulo y las almacena en la lista de titulares\n",
    "for tit in titulares:\n",
    "    # clear all cookies in scope of session\n",
    "    driver.get(tit['URL'])\n",
    "    driver.implicitly_wait(10) #Nueva metodología de wait\n",
    "\n",
    "\n",
    "    ignored_exceptions=(NoSuchElementException,StaleElementReferenceException)\n",
    "    contenido = ''\n",
    "    try :\n",
    "        html = WebDriverWait(driver,10,ignored_exceptions=ignored_exceptions).until(EC.presence_of_element_located((By.XPATH,'.//div[contains(@class,\"modulos public-side\")]')))\n",
    "        parrafos = html.find_elements(By.XPATH,'.//p') \n",
    "\n",
    "    except:\n",
    "        try:\n",
    "            html = driver.find_element(By.XPATH,'.//div[contains(@class,\"modulos public-side\")]')\n",
    "            parrafos = html.find_elements(By.XPATH,'.//p')\n",
    "        except:\n",
    "            contenido = 'SIN PARRAFOS'\n",
    "        else:\n",
    "            for i in parrafos:\n",
    "                contenido += i.text\n",
    "\n",
    "    else:\n",
    "        try:\n",
    "            for i in parrafos:\n",
    "                contenido += i.text\n",
    "        except:\n",
    "            print('Error en el último for == el más dentro de \"for tit in titulares:\" externo')\n",
    "    \n",
    "    # agregar contenido al dict de titulares\n",
    "    tit['Contenido'] = contenido\n",
    "    driver.delete_all_cookies()\n",
    "    \n",
    "    #agregar lista de URLs de noticias relacionadas\n",
    "    # tit['RelNewsUrls'] = bs.obtener_articulos_relacionados_eltiempo(driver)\n"
   ]
  },
  {
   "attachments": {},
   "cell_type": "markdown",
   "metadata": {},
   "source": [
    "### Para agregar la info en un archivo CSV"
   ]
  },
  {
   "cell_type": "code",
   "execution_count": null,
   "metadata": {},
   "outputs": [],
   "source": [
    "for i in titulares:\n",
    "    bs.guardar_articulo(pd.DataFrame(i))"
   ]
  },
  {
   "cell_type": "code",
   "execution_count": 8,
   "metadata": {},
   "outputs": [],
   "source": [
    "columnas = ['Fecha Extraccion','Titulo', 'Fecha Publicacion','Resumen','URL','Empresa','Tema','Contenido']\n",
    "\n",
    "# Para AGREGAR titulares a un archivo.\n",
    "with open('../data/raw/eltiempo.csv', 'a', newline='', errors='ignore') as csv_file:\n",
    "    dict_object = csv.DictWriter(csv_file, fieldnames=columnas) \n",
    "  \n",
    "    dict_object.writerows(titulares)"
   ]
  },
  {
   "cell_type": "code",
   "execution_count": 9,
   "metadata": {},
   "outputs": [],
   "source": [
    "# Imprimir los últimos datos de\n",
    "titulares[-1]\n",
    "\n",
    "# Cerrar navegador\n",
    "driver.quit()"
   ]
  }
 ],
 "metadata": {
  "kernelspec": {
   "display_name": "Python 3",
   "language": "python",
   "name": "python3"
  },
  "language_info": {
   "codemirror_mode": {
    "name": "ipython",
    "version": 3
   },
   "file_extension": ".py",
   "mimetype": "text/x-python",
   "name": "python",
   "nbconvert_exporter": "python",
   "pygments_lexer": "ipython3",
   "version": "3.10.7"
  },
  "orig_nbformat": 4,
  "vscode": {
   "interpreter": {
    "hash": "ac32b2f398e7b55f94ec93b78e14522600a25a69fa0bae156585a5bf7ae653de"
   }
  }
 },
 "nbformat": 4,
 "nbformat_minor": 2
}
