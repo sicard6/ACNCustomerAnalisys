{
 "cells": [
  {
   "cell_type": "code",
   "execution_count": 106,
   "metadata": {},
   "outputs": [],
   "source": [
    "import selenium as sel\n",
    "from selenium.webdriver.common.by import By\n",
    "import pandas as pd\n",
    "import time\n",
    "import datetime\n",
    "import base as bs\n",
    "\n",
    "import os as os\n",
    "import csv\n",
    "import json"
   ]
  },
  {
   "attachments": {},
   "cell_type": "markdown",
   "metadata": {},
   "source": [
    "Librerias que puedo mirar luego en detalle\n",
    "\n",
    "from selenium.webdriver.common.by import By\n"
   ]
  },
  {
   "cell_type": "code",
   "execution_count": 107,
   "metadata": {},
   "outputs": [],
   "source": [
    "f = open('config.json')\n",
    "empresas = json.load(f)\n",
    "\n",
    "if not os.path.exists('../data/raw/eltiempo.csv'):\n",
    "    os.makedirs('../data/raw/eltiempo.csv')\n",
    "    \n",
    "#for i in empresas['LaRepublica']:\n",
    "    "
   ]
  },
  {
   "cell_type": "code",
   "execution_count": 108,
   "metadata": {},
   "outputs": [],
   "source": [
    "#Empresa con la cual vamos a extraer los articulos\n",
    "# TODO Tener una lista que itere por todos lo clientes\n",
    "empresa = input(\"Digite la empresa a extraer: \")"
   ]
  },
  {
   "cell_type": "code",
   "execution_count": 109,
   "metadata": {},
   "outputs": [],
   "source": [
    "#cerar driver... MODIFICAR DEPENDIENDO DEL NAVEGADOR\n",
    "driver = sel.webdriver.Edge()\n",
    "driver.get(f'https://www.eltiempo.com/buscar?q={empresa}')\n",
    "time.sleep(2)\n",
    "# driver.implicitly_wait(10) #Nueva metodología de wait"
   ]
  },
  {
   "cell_type": "code",
   "execution_count": 110,
   "metadata": {},
   "outputs": [],
   "source": [
    "# Buscar el class que abarca a toda la página \n",
    "buscar = driver.find_element(By.XPATH,'//*[@id=\"main-container\"]/div[16]/div[2]')\n",
    "articulos = buscar.find_elements(By.CLASS_NAME,\"listing\")"
   ]
  },
  {
   "cell_type": "code",
   "execution_count": 111,
   "metadata": {},
   "outputs": [
    {
     "name": "stdout",
     "output_type": "stream",
     "text": [
      "Ecopetrol, primer miembro sudamericano que entra a la junta de Hydrogen Council\n",
      "Ecopetrol, primer miembro sudamericano que entra a la junta de Hydrogen Council\n",
      "Gasnova pide al Gobierno asumir sobrecostos por transporte de GLP hacia Nariño\n",
      "‘Hay que asegurar recursos para las reformas’: Comité de la Regla Fiscal\n",
      "Gobierno de Nariño pide acelerar abastecimiento de combustible tras derrumbe\n",
      "Nariño espera 100 carrotanques con combustible proveniente de Ecuador\n",
      "¿A quién le importa la ciberseguridad en Colombia? / Análisis\n",
      "¿Es buen momento para comprar dólares en Colombia?\n",
      "Estas son las acciones para superar la emergencia en la vía Panamericana\n",
      "Ecopetrol construirá un parque solar en su campo más grande en Colombia\n",
      "El emotivo homenaje de Barranquilla a bomberos que atendieron incendio en Vía 40\n"
     ]
    }
   ],
   "source": [
    "for articulos in articulos:\n",
    "        titulo = articulos.find_element(By.CLASS_NAME,\"title-container\")\n",
    "        print(titulo.text)"
   ]
  },
  {
   "cell_type": "code",
   "execution_count": 112,
   "metadata": {},
   "outputs": [],
   "source": [
    "#sacar primer titular CON BASE DE DATOS \n",
    "\n",
    "\n",
    "titulares = [] # Blank list\n",
    "\n",
    "if not(bs.existedb(articulos,\"eltiempo\")):\n",
    "    temaPrinc = buscar.find_elements(By.XPATH,'//*[@id=\"main-container\"]/div[16]/div[2]')\n",
    "    fechaPrinc = buscar.find_element(By.XPATH,'.//span').text\n",
    "    tituloPrinc = buscar.find_elements(By.XPATH,'.//a')[2].text\n",
    "    imagenPrinc = buscar.find_element(By.XPATH,'.//img').get_attribute('src')\n",
    "    titulares.append({'Fecha Extraccion':datetime.datetime.now().strftime(\"%Y-%m-%d %H:%M:%S\"),\n",
    "                        'Titulo':tituloPrinc,\n",
    "                        'Fecha Publicacion':fechaPrinc,\n",
    "                        'Tema':temaPrinc,\n",
    "                        'URL':articulos,\n",
    "                        'Imagen':imagenPrinc,\n",
    "                        'Empresa':empresa})\n",
    "\n",
    "#el resto, autor, resumen, contenido y relacionados se sacan entrando a la url\n",
    "#despues de guardar articulos normales. Mismo para las otras dos noticias principales"
   ]
  }
 ],
 "metadata": {
  "kernelspec": {
   "display_name": "Python 3",
   "language": "python",
   "name": "python3"
  },
  "language_info": {
   "codemirror_mode": {
    "name": "ipython",
    "version": 3
   },
   "file_extension": ".py",
   "mimetype": "text/x-python",
   "name": "python",
   "nbconvert_exporter": "python",
   "pygments_lexer": "ipython3",
   "version": "3.11.1"
  },
  "orig_nbformat": 4,
  "vscode": {
   "interpreter": {
    "hash": "5238573367df39f7286bb46f9ff5f08f63a01a80960060ce41e3c79b190280fa"
   }
  }
 },
 "nbformat": 4,
 "nbformat_minor": 2
}
