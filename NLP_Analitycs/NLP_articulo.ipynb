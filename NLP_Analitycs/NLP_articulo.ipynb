{
 "cells": [
  {
   "cell_type": "code",
   "execution_count": null,
   "metadata": {},
   "outputs": [],
   "source": [
    "import os, re, pandas as pd, numpy as np, gensim, matplotlib.pyplot as plt, warnings, spacy\n",
    "from gensim.models import LdaMulticore\n",
    "from gensim.corpora import Dictionary\n",
    "import base as bs\n",
    "\n",
    "warnings.filterwarnings(\"ignore\")"
   ]
  },
  {
   "cell_type": "markdown",
   "metadata": {},
   "source": [
    "## Este codigo se encarga de realizar el NLP"
   ]
  },
  {
   "cell_type": "markdown",
   "metadata": {},
   "source": [
    "\n",
    "\n",
    "\n",
    "data_aux = []\n",
    "# iteramos sobre cada fila del dataframe\n",
    "\n",
    "\n",
    "\n",
    "for i in range(len(data)):\n",
    "    aux = []\n",
    "    for item in list(bs.useLDA(texts = bs.pre_proc_text(df_ = data, tipo = 'Contenido', cliente_ = \"Ecopetrol\").loc[[i,]], n = 3)[0][1]):\n",
    "        aux.append(item[0])\n",
    "    data_aux.append(aux)\n",
    "data['Topics'] = data_aux"
   ]
  },
  {
   "cell_type": "code",
   "execution_count": null,
   "metadata": {},
   "outputs": [],
   "source": [
    "# Cargamos los datos del WS\n",
    "data = bs.read_data(\"../data/raw/\",['Fecha Extraccion', 'Titulo', 'Fecha Publicacion',\n",
    "                               'Resumen', 'URL','Imagen', 'Empresa', 'Contenido',\n",
    "                               'Tags', 'Tema', 'Autor','RelNewsUrls', 'Fuente'])"
   ]
  },
  {
   "cell_type": "code",
   "execution_count": null,
   "metadata": {},
   "outputs": [],
   "source": [
    "# Hacemos el pre-procesamiento de los datos\n",
    "data[\"DataProcess\"] = bs.pre_proc_text(df_ = data, tipo = 'Contenido')\n"
   ]
  },
  {
   "cell_type": "code",
   "execution_count": null,
   "metadata": {},
   "outputs": [],
   "source": [
    "# Obtenemos los topics\n",
    "data['Topics'] = data[].apply(lambda x: bs.useLDA([x[\"DataProcess\"]],n = 3) , axis=1)\n"
   ]
  },
  {
   "cell_type": "code",
   "execution_count": null,
   "metadata": {},
   "outputs": [],
   "source": [
    "data"
   ]
  },
  {
   "cell_type": "code",
   "execution_count": null,
   "metadata": {},
   "outputs": [],
   "source": [
    "# Guardamos los datos en curated\n",
    "data.to_csv(\"../data/curated/curated_data.csv\",index=False)"
   ]
  }
 ],
 "metadata": {
  "kernelspec": {
   "display_name": "Python 3.10.7 64-bit",
   "language": "python",
   "name": "python3"
  },
  "language_info": {
   "codemirror_mode": {
    "name": "ipython",
    "version": 3
   },
   "file_extension": ".py",
   "mimetype": "text/x-python",
   "name": "python",
   "nbconvert_exporter": "python",
   "pygments_lexer": "ipython3",
   "version": "3.10.7"
  },
  "orig_nbformat": 4,
  "vscode": {
   "interpreter": {
    "hash": "ac32b2f398e7b55f94ec93b78e14522600a25a69fa0bae156585a5bf7ae653de"
   }
  }
 },
 "nbformat": 4,
 "nbformat_minor": 2
}
