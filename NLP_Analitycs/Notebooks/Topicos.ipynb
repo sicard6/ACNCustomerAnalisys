{
 "cells": [
  {
   "attachments": {},
   "cell_type": "markdown",
   "metadata": {},
   "source": [
    "# Generación de topicos y clasificación de textos según estos"
   ]
  },
  {
   "attachments": {},
   "cell_type": "markdown",
   "metadata": {},
   "source": [
    "El código utilizado para generar lo tópicos y clasificar los artículos es basado en el artículo [Topic Modelling in Python with spaCy and Gensim](https://towardsdatascience.com/topic-modelling-in-python-with-spacy-and-gensim-dc8f7748bdbf)"
   ]
  },
  {
   "cell_type": "code",
   "execution_count": 18,
   "metadata": {},
   "outputs": [],
   "source": [
    "# Librerías\n",
    "import pandas as pd\n",
    "import matplotlib.pyplot as plt\n",
    "import seaborn as sns\n",
    "sns.set()\n",
    "from gensim.corpora.dictionary import Dictionary\n",
    "from gensim.models import LdaMulticore\n",
    "from gensim.models import CoherenceModel\n",
    "from tqdm import tqdm\n",
    "import pyLDAvis\n",
    "import pyLDAvis.gensim_models\n",
    "pyLDAvis.enable_notebook()#\n",
    "import nltk\n",
    "import spacy\n",
    "import os"
   ]
  },
  {
   "attachments": {},
   "cell_type": "markdown",
   "metadata": {},
   "source": [
    "### Visualizaciones"
   ]
  },
  {
   "cell_type": "code",
   "execution_count": 101,
   "metadata": {},
   "outputs": [],
   "source": [
    "# Importar documento a procesar\n",
    "df = pd.read_csv('/Users/'+os.getlogin()+'/OneDrive - Accenture/ACNCustomerAnalysis/data/curated/curated_database.csv', encoding='utf-8-sig', index_col=[0])\n",
    "columna = 'Contenido'"
   ]
  },
  {
   "cell_type": "code",
   "execution_count": 102,
   "metadata": {},
   "outputs": [],
   "source": [
    "bigram_measure = nltk.collocations.BigramAssocMeasures()\n",
    "\n",
    "finder = nltk.collocations.BigramCollocationFinder\\\n",
    "    .from_documents(df[f'{columna} procesado'])\n",
    "    \n",
    "# Filtrar aquellos que ocurren al menos 50 veces\n",
    "finder.apply_freq_filter(50)\n",
    "bigram_scores = finder.score_ngrams(bigram_measure.pmi)"
   ]
  },
  {
   "cell_type": "code",
   "execution_count": 103,
   "metadata": {},
   "outputs": [],
   "source": [
    "trigram_measure = nltk.collocations.TrigramAssocMeasures()\n",
    "\n",
    "finder = nltk.collocations.TrigramCollocationFinder\\\n",
    "    .from_documents(df[f'{columna} procesado'])\n",
    "    \n",
    "# Filtrar aquellos que ocurren al menos 50 veces\n",
    "finder.apply_freq_filter(50)\n",
    "trigram_scores = finder.score_ngrams(trigram_measure.pmi)"
   ]
  },
  {
   "cell_type": "code",
   "execution_count": 104,
   "metadata": {},
   "outputs": [],
   "source": [
    "bigram_pmi = pd.DataFrame(bigram_scores)\n",
    "bigram_pmi.columns = ['bigram', 'pmi']\n",
    "bigram_pmi.sort_values(by='pmi', axis = 0, ascending = False, inplace = True)"
   ]
  },
  {
   "cell_type": "code",
   "execution_count": 105,
   "metadata": {},
   "outputs": [],
   "source": [
    "trigram_pmi = pd.DataFrame(trigram_scores)\n",
    "trigram_pmi.columns = ['trigram', 'pmi']\n",
    "trigram_pmi.sort_values(by='pmi', axis = 0, ascending = False, inplace = True)"
   ]
  },
  {
   "cell_type": "code",
   "execution_count": 106,
   "metadata": {},
   "outputs": [],
   "source": [
    "# Filter for noun-type structures bigrams\n",
    "def bigram_filter(bigram):\n",
    "    tag = nltk.pos_tag(bigram)\n",
    "    if tag[0][1] not in ['JJ', 'NN'] and tag[1][1] not in ['NN']:\n",
    "        return False\n",
    "    if 'n' in bigram or 't' in bigram:\n",
    "        return False\n",
    "    if 'PRON' in bigram:\n",
    "        return False\n",
    "    return True"
   ]
  },
  {
   "cell_type": "code",
   "execution_count": 107,
   "metadata": {},
   "outputs": [],
   "source": [
    "# Filter for noun-type structures trigrams\n",
    "def trigram_filter(trigram):\n",
    "    tag = nltk.pos_tag(trigram)\n",
    "    if tag[0][1] not in ['JJ', 'NN'] and tag[1][1] not in ['JJ','NN']:\n",
    "        return False\n",
    "    if 'n' in trigram or 't' in trigram:\n",
    "         return False\n",
    "    if 'PRON' in trigram:\n",
    "        return False\n",
    "    return True "
   ]
  },
  {
   "cell_type": "code",
   "execution_count": 108,
   "metadata": {},
   "outputs": [],
   "source": [
    "# Can set pmi threshold to whatever makes sense - eyeball through and select threshold where n-grams stop making sense\n",
    "# choose top 500 ngrams in this case ranked by PMI that have noun like structures\n",
    "filtered_bigram = bigram_pmi[bigram_pmi.apply(lambda bigram:\\\n",
    "                                              bigram_filter(bigram['bigram'])\\\n",
    "                                              and bigram.pmi > 5, axis = 1)][:500]\n",
    "\n",
    "filtered_trigram = trigram_pmi[trigram_pmi.apply(lambda trigram: \\\n",
    "                                                 trigram_filter(trigram['trigram'])\\\n",
    "                                                 and trigram.pmi > 5, axis = 1)][:500]\n",
    "\n",
    "\n",
    "bigrams = [' '.join(x) for x in filtered_bigram.bigram.values if len(x[0]) > 2 or len(x[1]) > 2]\n",
    "trigrams = [' '.join(x) for x in filtered_trigram.trigram.values if len(x[0]) > 2 or len(x[1]) > 2 and len(x[2]) > 2]"
   ]
  },
  {
   "cell_type": "code",
   "execution_count": 109,
   "metadata": {},
   "outputs": [],
   "source": [
    "def replace_ngram(x):\n",
    "    for gram in trigrams:\n",
    "        x = x.replace(gram, '_'.join(gram.split()))\n",
    "    for gram in bigrams:\n",
    "        x = x.replace(gram, '_'.join(gram.split()))\n",
    "    return x"
   ]
  },
  {
   "cell_type": "code",
   "execution_count": 110,
   "metadata": {},
   "outputs": [],
   "source": [
    "reviews_w_ngrams = df.copy()"
   ]
  },
  {
   "cell_type": "code",
   "execution_count": 111,
   "metadata": {},
   "outputs": [],
   "source": [
    "reviews_w_ngrams['Contenido'] = reviews_w_ngrams['Contenido'].apply(lambda x: replace_ngram(x))"
   ]
  },
  {
   "cell_type": "code",
   "execution_count": 112,
   "metadata": {},
   "outputs": [],
   "source": [
    "def procesamiento(columna: str, df: pd.DataFrame):\n",
    "    \"\"\"Función para procesar el texto y obtener columnas tokenizada y radicalizada\n",
    "\n",
    "    Args:\n",
    "        columna (str): columna a procesar\n",
    "        df (pd.DataFrame): dataframe en donde se encuentra el texto a procesar\n",
    "\n",
    "    Returns:\n",
    "        pd.DataFrame: Data Frame con columna procesada\n",
    "    \"\"\"\n",
    "    # Modelo de spacy que se utilizará\n",
    "    # spacy.cli.download('es_core_news_md')\n",
    "    es = spacy.load('es_core_news_md')\n",
    "\n",
    "    # Etiquetas a remover del texto lematizado\n",
    "    # Tags I want to remove from the text\n",
    "    removal = ['ADV', 'PRON', 'CCONJ', 'PUNCT',\n",
    "               'PART', 'DET', 'ADP', 'SPACE', 'NUM', 'SYM']\n",
    "\n",
    "    # Convertir a objeto spaCy\n",
    "    aux = df[columna].str.lower().apply(es)\n",
    "\n",
    "    # Tokenización\n",
    "    df[f'{columna} procesado'] = aux.apply(\n",
    "        lambda x: [token for token in x])\n",
    "    # Normalización (minuscula, tamaño > 3 y solo letras)\n",
    "    df[f'{columna} procesado'] = df[f'{columna} procesado'].apply(\n",
    "        lambda x: [token for token in x if len(token) > 3 and token.is_alpha])\n",
    "    # Remover stopwords (combinación de contexto y spacy).\n",
    "    # Convertir Token a str\n",
    "    with open('../NLP_Analitycs/sw_es.txt', 'r', encoding='utf-8') as file:\n",
    "        stop_words_contexto = {line.split(None, 1)[0] for line in file}\n",
    "    es.Defaults.stop_words |= stop_words_contexto\n",
    "    df[f'{columna} procesado'] = df[f'{columna} procesado'].apply(\n",
    "        lambda x: [token for token in x if not token.is_stop])\n",
    "\n",
    "    # Segmentación en oraciones\n",
    "    df[f'{columna} segmentado'] = aux.apply(\n",
    "        lambda x: \", \".join([segment.orth_ for segment in x.sents]))\n",
    "\n",
    "    # Extracción de entidades\n",
    "    df[f'Entidades de {columna}'] = aux.apply(\n",
    "        lambda x: \", \".join([ent.text for ent in x.ents]))\n",
    "\n",
    "    # Radicalización (stemming)\n",
    "    stemmer = nltk.SnowballStemmer('spanish')\n",
    "    df[f'{columna} radicalizado'] = df[f'{columna} procesado'].apply(\n",
    "        lambda x: \", \".join([stemmer.stem(token.orth_) for token in x]))\n",
    "    \n",
    "    df[f'{columna} procesado'] = df[f'{columna} procesado'].apply(\n",
    "        lambda x: [token.text for token in x])"
   ]
  },
  {
   "cell_type": "code",
   "execution_count": 113,
   "metadata": {},
   "outputs": [],
   "source": [
    "procesamiento('Contenido', reviews_w_ngrams)"
   ]
  },
  {
   "attachments": {},
   "cell_type": "markdown",
   "metadata": {},
   "source": [
    "La puntuación de coherencia de C_v oscila entre 0 (incoherencia total) y 1 (coherencia total). Los valores superiores a 0,5 son bastante buenos, según John McLevey (fuente: Doing Computational Social Science: A Practical Introduction By John McLevey). Por otro lado, C_umass devuelve valores negativos."
   ]
  },
  {
   "cell_type": "code",
   "execution_count": 114,
   "metadata": {},
   "outputs": [],
   "source": [
    "df_ecopetrol = reviews_w_ngrams[reviews_w_ngrams['Empresa'] == 'Ecopetrol']"
   ]
  },
  {
   "cell_type": "code",
   "execution_count": 115,
   "metadata": {},
   "outputs": [
    {
     "name": "stderr",
     "output_type": "stream",
     "text": [
      "C:\\Users\\andres.ospina\\AppData\\Local\\Temp\\ipykernel_16344\\1791216388.py:2: SettingWithCopyWarning: \n",
      "A value is trying to be set on a copy of a slice from a DataFrame.\n",
      "Try using .loc[row_indexer,col_indexer] = value instead\n",
      "\n",
      "See the caveats in the documentation: https://pandas.pydata.org/pandas-docs/stable/user_guide/indexing.html#returning-a-view-versus-a-copy\n",
      "  df_ecopetrol[f'{columna} lematizado'] = df_ecopetrol[f'{columna} lematizado'].apply(lambda x: x.replace('[', '').replace(']', '').replace('\\'', '').split(', '))\n"
     ]
    }
   ],
   "source": [
    "columna = 'Contenido'\n",
    "df_ecopetrol[f'{columna} lematizado'] = df_ecopetrol[f'{columna} lematizado'].apply(lambda x: x.replace('[', '').replace(']', '').replace('\\'', '').split(', '))\n",
    "dictionary = Dictionary(df_ecopetrol[f'{columna} lematizado'])\n",
    "# Filtrar los tokens de baja y alta frecuencia. Limitar el vocabulario \n",
    "# a un máximo de 100 palabras\n",
    "dictionary.filter_extremes(no_below=5, no_above=0.5)\n",
    "# Contar el número de ocurrencias de cada palabra única\n",
    "corpus = [dictionary.doc2bow(doc) for doc in df_ecopetrol[f'{columna} lematizado']]"
   ]
  },
  {
   "cell_type": "code",
   "execution_count": 67,
   "metadata": {},
   "outputs": [
    {
     "name": "stderr",
     "output_type": "stream",
     "text": [
      "100%|██████████| 11/11 [02:15<00:00, 12.27s/it]\n"
     ]
    }
   ],
   "source": [
    "# Calcular la coherencia C_umass, C_v y número de topicos\n",
    "topics = []\n",
    "score_umass = []\n",
    "score_v = []\n",
    "for i in tqdm(range(2,13,1)):\n",
    "   lda_model = LdaMulticore(corpus=corpus, id2word=dictionary, iterations=10, num_topics=i, workers = 4, passes=10, random_state=100)\n",
    "   cm_umass = CoherenceModel(model=lda_model, corpus=corpus, dictionary=dictionary, coherence='u_mass')\n",
    "   cm_v = CoherenceModel(model=lda_model, texts = df_ecopetrol[f'{columna} lematizado'], corpus=corpus, dictionary=dictionary, coherence='c_v')\n",
    "   topics.append(i)\n",
    "   score_umass.append(cm_umass.get_coherence())\n",
    "   score_v.append(cm_v.get_coherence())"
   ]
  },
  {
   "cell_type": "code",
   "execution_count": 19,
   "metadata": {},
   "outputs": [],
   "source": [
    "# # Método de Pareto (relajado para romper cuando cambie de dirección)\n",
    "# lda_model = LdaMulticore(corpus=corpus, id2word=dictionary, iterations=10, num_topics=1, workers = 4, passes=10, random_state=100)\n",
    "# top_ant = 1\n",
    "# top_act = None\n",
    "\n",
    "# cm_umass = CoherenceModel(model=lda_model, corpus=corpus, dictionary=dictionary, coherence='u_mass').get_coherence()\n",
    "# score_ant = cm_umass.get_coherence()\n",
    "# score_act = None\n",
    "\n",
    "# for i in tqdm(range(2,13,1)):\n",
    "#    lda_model = LdaMulticore(corpus=corpus, id2word=dictionary, iterations=10, num_topics=i, workers = 4, passes=10, random_state=100)\n",
    "#    top_act = i\n",
    "#    cm_umass = CoherenceModel(model=lda_model, corpus=corpus, dictionary=dictionary, coherence='u_mass')\n",
    "#    score_act = cm_umass.get_coherence()\n",
    "#    m = score_act - score_ant\n",
    "#    if m >= 0:\n",
    "#       break\n",
    "#    top_ant = i\n",
    "#    score_ant = score_act\n",
    "   \n",
    "# top_ant"
   ]
  },
  {
   "cell_type": "code",
   "execution_count": 68,
   "metadata": {},
   "outputs": [],
   "source": [
    "# Valor mas a la izquierda que sea <= puntaje minimo por 0.9 (entre 2 y 12 topicos)\n",
    "max_score = max(score_v)\n",
    "indice = score_v.index(max_score)\n",
    "for i in range(len(score_v)):\n",
    "    if score_v[i] >= max_score*(0.9):\n",
    "        break\n",
    "n_topics = topics[i]"
   ]
  },
  {
   "cell_type": "code",
   "execution_count": 69,
   "metadata": {},
   "outputs": [
    {
     "data": {
      "image/png": "[encoded data removed]",
      "text/plain": [
       "<Figure size 640x480 with 1 Axes>"
      ]
     },
     "metadata": {},
     "output_type": "display_data"
    }
   ],
   "source": [
    "# Visualizar la coherencia C_umass vs número topicos\n",
    "_=plt.plot(topics, score_umass)\n",
    "_=plt.xlabel('Number of Topics')\n",
    "_=plt.ylabel('Coherence Score')\n",
    "plt.show()"
   ]
  },
  {
   "cell_type": "code",
   "execution_count": 70,
   "metadata": {},
   "outputs": [
    {
     "data": {
      "image/png": "[encoded data removed]",
      "text/plain": [
       "<Figure size 640x480 with 1 Axes>"
      ]
     },
     "metadata": {},
     "output_type": "display_data"
    }
   ],
   "source": [
    "# Visualizar la coherencia C_v vs número topicos\n",
    "_=plt.plot(topics, score_v)\n",
    "_=plt.xlabel('Number of Topics')\n",
    "_=plt.ylabel('Coherence Score')\n",
    "plt.show()"
   ]
  },
  {
   "cell_type": "code",
   "execution_count": 116,
   "metadata": {},
   "outputs": [],
   "source": [
    "# númeor de iteraciones 50 por defecto\n",
    "# workers equivale al número de cores del computador\n",
    "# passes número de veces que pasa por el corpus para entrenarse\n",
    "lda_model = LdaMulticore(corpus=corpus, id2word=dictionary, iterations=50, num_topics=5, workers=4, passes=10)"
   ]
  },
  {
   "cell_type": "code",
   "execution_count": 24,
   "metadata": {},
   "outputs": [
    {
     "name": "stderr",
     "output_type": "stream",
     "text": [
      "C:\\Users\\andres.ospina\\AppData\\Roaming\\Python\\Python311\\site-packages\\pyLDAvis\\_prepare.py:247: FutureWarning: In a future version of pandas all arguments of DataFrame.drop except for the argument 'labels' will be keyword-only.\n",
      "  by='saliency', ascending=False).head(R).drop('saliency', 1)\n",
      "  0%|          | 0/3 [00:00<?, ?it/s]C:\\Users\\andres.ospina\\AppData\\Local\\Temp\\ipykernel_18452\\3130001122.py:9: FutureWarning: The behavior of `series[i:j]` with an integer-dtype index is deprecated. In a future version, this will be treated as *label-based* indexing, consistent with e.g. `series[i]` lookups. To retain the old behavior, use `series.iloc[i:j]`. To get the future behavior, use `series.loc[i:j]`.\n",
      "  topicos.append([i, (\", \".join(topic.sort_values(by='relevance', ascending=False).Term[:num_terms].values))])\n",
      "C:\\Users\\andres.ospina\\AppData\\Local\\Temp\\ipykernel_18452\\3130001122.py:9: FutureWarning: The behavior of `series[i:j]` with an integer-dtype index is deprecated. In a future version, this will be treated as *label-based* indexing, consistent with e.g. `series[i]` lookups. To retain the old behavior, use `series.iloc[i:j]`. To get the future behavior, use `series.loc[i:j]`.\n",
      "  topicos.append([i, (\", \".join(topic.sort_values(by='relevance', ascending=False).Term[:num_terms].values))])\n",
      "C:\\Users\\andres.ospina\\AppData\\Local\\Temp\\ipykernel_18452\\3130001122.py:9: FutureWarning: The behavior of `series[i:j]` with an integer-dtype index is deprecated. In a future version, this will be treated as *label-based* indexing, consistent with e.g. `series[i]` lookups. To retain the old behavior, use `series.iloc[i:j]`. To get the future behavior, use `series.loc[i:j]`.\n",
      "  topicos.append([i, (\", \".join(topic.sort_values(by='relevance', ascending=False).Term[:num_terms].values))])\n",
      "100%|██████████| 3/3 [00:00<00:00, 291.87it/s]\n"
     ]
    }
   ],
   "source": [
    "topic_data = pyLDAvis.gensim_models.prepare(lda_model, corpus, dictionary, mds = 'pcoa')\n",
    "\n",
    "topicos = []\n",
    "num_terms = 10 # Adjust number of words to represent each topic\n",
    "lambd = 0.6 # Adjust this accowrdingly based on tuning above\n",
    "for i in tqdm(range(1, n_topics+1)): #Adjust this to reflect number of topics chosen for final LDA model\n",
    "    topic = topic_data.topic_info[topic_data.topic_info.Category == 'Topic'+str(i)].copy()\n",
    "    topic['relevance'] = topic['loglift']*(1-lambd)+topic['logprob']*lambd\n",
    "    topicos.append([i, (\", \".join(topic.sort_values(by='relevance', ascending=False).Term[:num_terms].values))])"
   ]
  },
  {
   "cell_type": "code",
   "execution_count": 117,
   "metadata": {},
   "outputs": [
    {
     "name": "stderr",
     "output_type": "stream",
     "text": [
      "C:\\Users\\andres.ospina\\AppData\\Roaming\\Python\\Python311\\site-packages\\pyLDAvis\\_prepare.py:247: FutureWarning: In a future version of pandas all arguments of DataFrame.drop except for the argument 'labels' will be keyword-only.\n",
      "  by='saliency', ascending=False).head(R).drop('saliency', 1)\n"
     ]
    },
    {
     "data": {
      "text/html": [
       "\n",
       "<link rel=\"stylesheet\" type=\"text/css\" href=\"https://cdn.jsdelivr.net/gh/bmabey/pyLDAvis@3.3.1/pyLDAvis/js/ldavis.v1.0.0.css\">\n",
       "\n",
       "\n",
       "<div id=\"ldavis_el1634414710653725129082008177\"></div>\n",
       "<script type=\"text/javascript\">\n",
       "\n",
       "var ldavis_el1634414710653725129082008177_data = {\"mdsDat\": {\"x\": [-0.0637114631846448, 0.109696170553283, 0.097785561058197, 0.042026678675982254, -0.1857969471028174], \"y\": [-0.0985341941234905, -0.11213533825324792, 0.1166352618768864, 0.053063396421407935, 0.040970874078444124], \"topics\": [1, 2, 3, 4, 5], \"cluster\": [1, 1, 1, 1, 1], \"Freq\": [36.17785056359202, 21.69150477052209, 16.773979083676483, 16.321644093690903, 9.035021488518503]}, \"tinfo\": {\"Term\": [\"junta\", \"directivo\", \"universidad\", \"zona\", \"petro\", \"polic\\u00eda\", \"bay\\u00f3n\", \"campa\\u00f1a\", \"bill\\u00f3n\", \"accionista\", \"cargo\", \"comunidad\", \"investigaci\\u00f3n\", \"dividendo\", \"reserva\", \"asamblea\", \"miembro\", \"superintendencia\", \"precio\", \"competencia\", \"persona\", \"informaci\\u00f3n\", \"grupo\", \"energ\\u00eda\", \"petrolera\", \"utilidad\", \"lugar\", \"barrancabermeja\", \"municipio\", \"gustavo\", \"consumo\", \"hogar\", \"recorte\", \"renovable\", \"jornada\", \"norte\", \"aprovechar\", \"f\\u00f3sil\", \"matriz\", \"variaci\\u00f3n\", \"demanda\", \"carb\\u00f3n\", \"ca\\u00edda\", \"d\\u00f3lar\", \"unidad\", \"potencial\", \"significativo\", \"asegurar\", \"opep\", \"minero\", \"contraste\", \"cemento\", \"solar\", \"burs\\u00e1til\", \"transcurrir\", \"oferta\", \"cosa\", \"transporte\", \"brent\", \"santo\", \"crecimiento\", \"emisi\\u00f3n\", \"bajo\", \"comenzar\", \"cerrar\", \"cotizaci\\u00f3n\", \"bolsa\", \"valor\", \"comportamiento\", \"transmisi\\u00f3n\", \"natural\", \"energ\\u00e9tico\", \"energ\\u00eda\", \"hidr\\u00f3geno\", \"mercado\", \"el\\u00e9ctrico\", \"transici\\u00f3n\", \"mill\\u00f3n\", \"alza\", \"combustible\", \"precio\", \"proyecto\", \"petr\\u00f3leo\", \"acci\\u00f3n\", \"pesos\", \"inversi\\u00f3n\", \"producci\\u00f3n\", \"colombiano\", \"ingreso\", \"registrar\", \"bill\\u00f3n\", \"nacional\", \"principal\", \"gobierno\", \"plan\", \"resultado\", \"sector\", \"gonz\\u00e1lez\", \"zuleta\", \"comit\\u00e9\", \"elegir\", \"soto\", \"s\\u00e1nchez\", \"osp\\u00edn\", \"selecci\\u00f3n\", \"designar\", \"universidad\", \"especialista\", \"claudia\", \"sandra\", \"jaramillo\", \"mec\\u00e1nico\", \"finalista\", \"agradecer\", \"arango\", \"consenso\", \"ingeniero\", \"russi\", \"hern\\u00e1ndez\", \"gerencia\", \"javeri\\u00e1n\", \"octubre\", \"andes\", \"m\\u00f3nico\", \"cabrera\", \"gerencial\", \"gonzalo\", \"junta\", \"miembro\", \"kattar\", \"directivo\", \"kattan\", \"cargo\", \"sa\\u00fal\", \"candidato\", \"nombre\", \"elecci\\u00f3n\", \"accionista\", \"gustavo\", \"jos\\u00e9\", \"representante\", \"general\", \"juan\", \"gerente\", \"propuesta\", \"petici\\u00f3n\", \"petro\", \"asamblea\", \"abril\", \"trabajador\", \"marzo\", \"presidencia\", \"gobierno\", \"bogot\\u00e1\", \"utilidad\", \"proceso\", \"petrolera\", \"semana\", \"energ\\u00eda\", \"energ\\u00e9tico\", \"bay\\u00f3n\", \"bill\\u00f3n\", \"nacional\", \"petrolero\", \"transparencia\", \"mandatario\", \"periodista\", \"contralor\\u00eda\", \"filtrar\", \"ama\\u00f1ar\", \"leal\", \"premiar\", \"empa\\u00f1ar\", \"sombra\", \"empa\\u00f1ada\", \"lamentable\", \"despedida\", \"respeto\", \"aparente\", \"infracci\\u00f3n\", \"rendir\", \"violaci\\u00f3n\", \"dedicar\", \"campa\\u00f1a\", \"organismo\", \"licitaci\\u00f3n\", \"establecer\", \"isabel\", \"precedente\", \"edici\\u00f3n\", \"factura\", \"super\", \"viaje\", \"millonario\", \"mar\\u00eda\", \"electoral\", \"investigaci\\u00f3n\", \"irregularidad\", \"rueda\", \"competencia\", \"superintendencia\", \"celular\", \"trabajo\", \"funcionario\", \"contrataci\\u00f3n\", \"hora\", \"petro\", \"lugar\", \"administrativo\", \"informaci\\u00f3n\", \"comunicado\", \"visita\", \"presunto\", \"comercio\", \"bay\\u00f3n\", \"industria\", \"detalle\", \"buscar\", \"asamblea\", \"directivo\", \"contrato\", \"mill\\u00f3n\", \"presidencia\", \"felipe\", \"marzo\", \"gobierno\", \"tema\", \"actual\", \"saliente\", \"preocupar\", \"duplicar\", \"suspensi\\u00f3n\", \"poner \\u00e9l\", \"est\\u00e1ndar\", \"restrictivo\", \"fepc\", \"vicepresidenta\", \"medio\", \"cesi\\u00f3n\", \"sorpresivo\", \"estabilizaci\\u00f3n\", \"rentabilidad\", \"pesquisa\", \"saldo\", \"dominio\", \"pronunciar\", \"oficina\", \"delegado\", \"regulador\", \"blindado\", \"manifestaci\\u00f3n\", \"cometer\", \"colaboraci\\u00f3n\", \"ocensa\", \"anuncio\", \"presidido\", \"s\\u00f3lido\", \"r\\u00e9cord\", \"reserva\", \"corferia\", \"mensaje\", \"posici\\u00f3n\", \"gesti\\u00f3n\", \"echeverry\", \"dividendo\", \"sede\", \"bay\\u00f3n\", \"bill\\u00f3n\", \"exploraci\\u00f3n\", \"petrolera\", \"libre\", \"utilidad\", \"contrato\", \"costo\", \"visita\", \"resultado\", \"ministro\", \"precio\", \"presunto\", \"accionista\", \"estatal\", \"acci\\u00f3n\", \"comercio\", \"jueves\", \"gobierno\", \"superintendencia\", \"asamblea\", \"felipe\", \"generar\", \"momento\", \"funcionario\", \"petrolero\", \"petr\\u00f3leo\", \"industria\", \"barril\", \"tener\", \"operaci\\u00f3n\", \"producci\\u00f3n\", \"alto\", \"polic\\u00eda\", \"magdalena\", \"uniformado\", \"explosivo\", \"ataque\", \"yond\\u00f3\", \"emergencia\", \"vereda\", \"corregimiento\", \"sat\\u00e9lite\", \"ej\\u00e9rcito\", \"rechazar\", \"zona\", \"atentado\", \"puente\", \"vicente\", \"emerald\", \"armado\", \"video\", \"autoridad\", \"habitante\", \"trasladar\", \"ind\\u00edgena\", \"leer\", \"labor\", \"municipio\", \"incendio\", \"comunidad\", \"llamado\", \"guillermo\", \"infraestructura\", \"oleoducto\", \"antioquia\", \"fuerza\", \"lanzar\", \"barrancabermeja\", \"estudiante\", \"cenit\", \"persona\", \"grupo\", \"santander\", \"campo\", \"petrolero\", \"riesgo\", \"nacional\", \"operaci\\u00f3n\", \"generar\", \"colombiano\", \"permitir\", \"sector\", \"p\\u00fablico\", \"acci\\u00f3n\"], \"Freq\": [160.0, 163.0, 57.0, 31.0, 120.0, 27.0, 110.0, 45.0, 134.0, 96.0, 54.0, 27.0, 59.0, 69.0, 50.0, 77.0, 40.0, 45.0, 121.0, 38.0, 47.0, 48.0, 74.0, 147.0, 78.0, 64.0, 47.0, 26.0, 19.0, 51.0, 26.883485522491924, 16.13532618895376, 13.081816377305902, 25.12879179115535, 49.278474042133624, 11.111944046782185, 11.10629264219656, 17.54264332416066, 11.996202339384853, 10.11343242334392, 20.21737424357236, 10.045762527444754, 28.32911985906226, 19.136048977372543, 36.39908734223769, 9.087723795778869, 9.083597635637496, 9.048264835033853, 8.137654770687417, 9.933961414016675, 8.10863338637589, 8.953407500394954, 7.162140076880082, 7.1398722906166, 7.998220993231429, 7.089750966842406, 7.964350827265888, 31.74750570765854, 7.0410740165128525, 8.768146823160171, 40.09651292271286, 40.84041481279948, 21.762532084501004, 23.41319266627523, 29.09293862414951, 14.012834629715119, 42.04178568648435, 75.06449662089072, 23.866054611637658, 24.493970096671237, 35.42220740682404, 107.8509355385021, 109.71861388251911, 24.759508719518518, 62.5753359727886, 28.166483930944075, 62.15934250744176, 97.09957962652774, 26.37347299824407, 35.51373598676933, 78.52311100909928, 54.75593467298433, 67.6202671928239, 91.98154102284533, 57.18733779828025, 36.435456682965366, 52.34864675802363, 52.96471681556599, 36.9805098287215, 33.18441119375488, 58.145657404493164, 41.08545220245539, 33.04967141259882, 47.02084791212792, 32.705171389229456, 36.31498150264367, 31.907863334497403, 14.123319042383372, 13.23538415211191, 12.319019295100587, 15.746657212933624, 11.366145121939907, 10.438446443460874, 10.435571538153443, 13.018379375542107, 10.393651310273851, 52.76812882716198, 9.508391114276442, 9.50487282247112, 9.501023973907563, 9.500239814026827, 9.499670463900653, 8.589923520031736, 8.585116891081933, 8.568052028783743, 8.561067062080143, 18.71535826120553, 7.617939099458419, 7.6030536176798265, 7.599868489547237, 6.721308063807443, 6.716479015392966, 6.705908498490017, 6.704328708304759, 6.70370148467675, 9.228318819426354, 6.695837466404718, 141.26213134581502, 34.91978444600557, 12.17942215207686, 123.2799855139449, 19.606910506033206, 42.38756631319531, 21.30882107952685, 18.324638087439407, 15.845627157668334, 20.594785113232305, 56.13041869791265, 33.880749663183266, 19.634143377635986, 14.778847505236007, 33.554097020098524, 22.70942864650581, 21.777782056712333, 16.798291734903444, 15.755217277376389, 45.36320279679537, 34.39023877590687, 33.03335020781052, 25.960186372943017, 29.78577291705981, 21.315678307420093, 39.72642382346539, 26.28527903839268, 26.724258413329608, 26.217751610790714, 28.213192414534408, 20.96987631320526, 29.61232968173699, 29.311293623266813, 23.975254562920135, 23.44009047069723, 21.726705302353032, 20.842567122355184, 11.237566313507786, 8.458884850871605, 13.491740980878815, 7.566663840918222, 6.631223127844841, 5.707677953045765, 5.707538451410634, 5.705987806067529, 5.6163773583237555, 4.789459644152332, 4.785744304361195, 4.7844589540351885, 11.128433297340067, 6.3181189651034595, 12.91231005339581, 4.505088383224886, 4.486653201823913, 7.364914640908745, 6.635145704169092, 36.04083285918106, 5.702168444825918, 9.356176301759698, 14.772653864699256, 20.69877041279675, 5.590657853102219, 4.801503554107933, 9.068941628656814, 4.787886823693817, 6.113345079351918, 4.786854269683496, 26.639303205014908, 7.382084631179541, 39.06639915491823, 12.786713425179114, 15.067434527984553, 24.948396628279664, 26.96769811779198, 20.876635803956805, 15.787738722282864, 23.794185902975137, 17.571380825299165, 22.388633549555927, 51.264825314703096, 24.894644148523348, 18.025059495573682, 24.517593000695328, 13.497568601208831, 18.27720104057883, 16.08904935228083, 20.312773420228005, 35.086996476730526, 24.609739878458203, 12.163307227916471, 18.315993784294957, 23.240606321854386, 28.74531020215215, 21.289033279382163, 25.775704221298405, 16.69032559073111, 18.81371949108626, 18.680678475034128, 20.76295890504941, 16.6754287513819, 16.117262550026314, 9.90867827294189, 7.307989830718566, 5.570320321645954, 6.306779182294118, 4.65475793639657, 5.351655716108129, 5.193571455441434, 7.152520718310251, 5.7087964627353704, 6.419834717068156, 6.862928945194046, 6.226086205295413, 4.699887094025524, 5.359609438848967, 5.333866744816796, 9.363271959645287, 5.89163086941538, 5.815740177119772, 9.56777843654574, 4.469313481507289, 3.8065299302841846, 5.622198021180199, 4.360115545416819, 4.92693421874079, 7.904872116604232, 5.374999817813306, 9.639452172851348, 3.5602360048554207, 5.336650979318706, 6.524830605004483, 31.177673565994393, 7.596474500866702, 9.760179750730831, 10.755456688172979, 17.142247402442578, 9.327717555750814, 32.470609769619855, 8.827042596252682, 43.045035899251445, 50.00662490214287, 21.389981011879186, 30.566690821257435, 10.343022778354507, 25.03356908087632, 27.599014614512274, 14.403740725464868, 16.16383201197691, 26.700671564299924, 9.567678789432385, 31.204846627645836, 13.402210343192447, 24.904773225306787, 13.668243027917969, 30.368083924241397, 15.19537819435505, 11.148963923437394, 24.97623511341865, 14.859772993556726, 18.4720938384025, 16.53955498368763, 18.089516400689615, 15.549626036203218, 14.048378719042171, 18.058639918762278, 19.139913099653295, 16.56076648024241, 14.657260243546325, 14.778038821916896, 15.257843595839068, 15.496466262785326, 14.682418393488339, 25.354750499251125, 10.923469896633584, 11.75566116054282, 10.896174456123946, 10.046298748898076, 12.131029496953737, 7.256063995666738, 6.406623493574067, 5.551376347343954, 14.279828347591916, 4.660461925332365, 4.656987667986611, 26.44851915901626, 13.548623785388735, 4.467269936474136, 13.458912458191469, 9.717313203080128, 4.871834804081324, 9.582111212379303, 12.242371648545712, 5.376637143000587, 4.671819389432145, 5.19763014859854, 11.646336936145293, 8.235219950294015, 13.478080594856408, 3.689349447612955, 18.748119409084165, 7.063095690085551, 4.035670664569936, 11.666050599404338, 13.77494261607228, 9.564439799156478, 11.239652940948414, 9.073259120304419, 14.22798507902035, 7.76371992513002, 9.675084406393248, 15.613334228644392, 18.33008272748857, 8.554782132269798, 10.119127417884382, 14.210075649417293, 9.576999940914765, 12.06599195539188, 11.277325548166989, 11.237083406449417, 11.655430204277648, 10.392565673797524, 10.388462931593748, 9.806266178817749, 9.768185295326516], \"Total\": [160.0, 163.0, 57.0, 31.0, 120.0, 27.0, 110.0, 45.0, 134.0, 96.0, 54.0, 27.0, 59.0, 69.0, 50.0, 77.0, 40.0, 45.0, 121.0, 38.0, 47.0, 48.0, 74.0, 147.0, 78.0, 64.0, 47.0, 26.0, 19.0, 51.0, 27.885867958624804, 16.913109029310828, 13.909893885256906, 26.83744847908744, 52.67523841547132, 11.913978558504697, 11.913726343878764, 18.8536857504499, 12.902059113564842, 10.916445874207838, 21.8381769863686, 10.909271487149287, 30.769266151737305, 20.842275064849844, 39.680074388169515, 9.91383683424988, 9.914187656437347, 9.913038474574732, 8.919195733047628, 10.90477917019229, 8.917965713423246, 9.902268541733838, 7.922646519901376, 7.920441449996145, 8.909684041656714, 7.9150666296848735, 8.904759793369626, 35.607696108464395, 7.913605804309336, 9.89109735275059, 45.440171535571544, 46.42015272880256, 24.671797974812435, 26.642493980257207, 33.61259044289003, 15.830423864326276, 49.32233550634885, 91.4265443891002, 27.666170173837074, 28.67098138088169, 43.169506710477656, 145.10992274627114, 147.9679028012103, 29.56835366950448, 82.22552345372274, 34.469059593060976, 85.13202579431706, 141.8237578804736, 32.36017961140377, 45.950242955290726, 121.68621423372561, 78.67707344704435, 104.35927983791942, 154.90609185712003, 86.33845822884803, 50.63171148374249, 86.54811866874941, 96.87403057285738, 56.08471926324077, 48.39083902938715, 134.6499329268298, 84.27409544346179, 51.320941663998525, 136.41440577470652, 51.45022987150593, 80.68785883445673, 70.53396895665819, 14.970210833628634, 14.032119300573635, 13.097138163914593, 16.84107023546516, 12.160283850395874, 11.224760861305993, 11.224268313294102, 14.038912917914724, 11.223096648795126, 57.09281237457077, 10.289361766171194, 10.288768166945356, 10.288513377684351, 10.288872473136056, 10.289229602287232, 9.353721121138674, 9.353870335197449, 9.352938574924304, 9.353426953629867, 20.546050975551495, 8.416390217828058, 8.416663367457966, 8.419184458640418, 7.482150417808435, 7.482094744100616, 7.481709804204913, 7.48140929662435, 7.4815349479979565, 10.305152408679378, 7.48120007232724, 160.71903864980428, 40.209710369972605, 13.995823225027452, 163.48251976998367, 23.35773794113601, 54.150737839810326, 26.154772680748327, 22.40688379168678, 19.656980571534007, 27.19327925782835, 96.91395923550796, 51.67497941724042, 27.12060741910518, 19.534011970655172, 61.407444025844555, 37.48276195361403, 35.463785070412044, 24.57620650732485, 22.498151371029472, 120.77738326221319, 77.73622021727007, 76.32935365033266, 55.21143257333697, 72.18569807663577, 40.114055262781534, 136.41440577470652, 61.33173059850898, 64.35064494286809, 63.497902998396256, 78.7935686584219, 45.08738676827741, 147.9679028012103, 145.10992274627114, 110.8380467557631, 134.6499329268298, 84.27409544346179, 85.45619184771707, 12.028427834941478, 9.254635972858665, 14.790533525423166, 8.329864198558596, 7.404878428388489, 6.48013334297105, 6.480100187145831, 6.480050754499168, 6.477829735812441, 5.555423723466185, 5.555364908964045, 5.555276296093672, 12.928560180328576, 7.397537350222621, 15.832330037220139, 5.548472209523877, 5.548358585798808, 9.228391476729474, 8.340014088924962, 45.41625280408086, 7.415865681289113, 12.176950635191217, 19.4369337282092, 27.64740343592565, 7.475444015825792, 6.458057720939063, 12.201528684159609, 6.489528791800875, 8.29521699341244, 6.552810124508856, 36.89488307569364, 10.203374338454838, 59.37022803896948, 18.387334680369015, 22.098895768360613, 38.5735008064335, 45.001070769330404, 34.92780839160998, 25.07321883758243, 42.237213278313604, 29.331809022179453, 40.42760464625431, 120.77738326221319, 47.05838410521085, 31.413084400139155, 48.6699596723904, 21.56551376783528, 36.6295082689415, 30.210322088215076, 44.40550071308191, 110.8380467557631, 69.12103149067315, 20.309109222473158, 47.051192426016954, 77.73622021727007, 163.48251976998367, 75.8187872398423, 141.8237578804736, 40.114055262781534, 61.14807944689315, 72.18569807663577, 136.41440577470652, 45.474622038407944, 43.71709092517404, 10.877418336336813, 8.157488862101605, 6.35152118905728, 7.259257553846734, 5.448469050469594, 6.355228671251682, 6.35896778840545, 9.100080991407367, 7.271273109039387, 8.191367979788145, 9.093169139692005, 8.26926025498967, 6.381828280410832, 7.27973448998513, 7.279313458702563, 12.869835311840175, 8.19170205371887, 8.193609658683497, 13.666188572682879, 6.403535629716981, 5.467714969740011, 8.198257870792496, 6.377926478643205, 7.264871192070993, 11.842186305402652, 8.16050010059947, 14.676759421705139, 5.445524700982603, 8.27327694627848, 10.117417181184253, 50.03703029020004, 11.886406414211026, 15.525581707027209, 17.558297994414282, 31.211046520282174, 15.50764191299364, 69.07276085045628, 14.613624060583644, 110.8380467557631, 134.6499329268298, 46.96452192019953, 78.7935686584219, 18.234450529880974, 64.35064494286809, 75.8187872398423, 29.55541192015012, 36.6295082689415, 80.68785883445673, 16.522494213212656, 121.68621423372561, 30.210322088215076, 96.91395923550796, 33.327494492382904, 154.90609185712003, 44.40550071308191, 23.789634935280013, 136.41440577470652, 45.001070769330404, 77.73622021727007, 61.14807944689315, 76.34333358257044, 55.65822053548601, 42.237213278313604, 85.45619184771707, 104.35927983791942, 69.12103149067315, 47.97321927941408, 54.72634800265409, 63.617506809958925, 86.54811866874941, 58.50398881213421, 27.044069822434025, 11.729118112246603, 12.6284775715774, 11.730021166874629, 10.828940605773752, 13.54495084246438, 8.133516507351496, 7.230065291768407, 6.3305284448261165, 16.346533146607726, 5.4308228106640435, 5.431596346630177, 31.667313846541205, 16.28099698889872, 5.436127528374628, 17.15772063745674, 12.636000246640036, 6.349274014176956, 12.687622907457808, 16.43107353075966, 7.3295376747356595, 6.389353386717515, 7.241889279598097, 16.469289701613313, 11.837450489013106, 19.4009091286775, 5.434323052034959, 27.68361998793508, 10.881868057955119, 6.370775259586063, 18.62257690243074, 23.00424244034904, 15.652375387556301, 19.223194710710064, 14.782771191079906, 26.82462741274556, 12.803207962449989, 18.990185961685007, 47.10611777949118, 74.6295894881333, 16.56391395979576, 25.29806868227204, 85.45619184771707, 28.162231598017918, 84.27409544346179, 63.617506809958925, 76.34333358257044, 96.87403057285738, 56.9489890427206, 70.53396895665819, 38.44267831292235, 154.90609185712003], \"Category\": [\"Default\", \"Default\", \"Default\", \"Default\", \"Default\", \"Default\", \"Default\", \"Default\", \"Default\", \"Default\", \"Default\", \"Default\", \"Default\", \"Default\", \"Default\", \"Default\", \"Default\", \"Default\", \"Default\", \"Default\", \"Default\", \"Default\", \"Default\", \"Default\", \"Default\", \"Default\", \"Default\", \"Default\", \"Default\", \"Default\", \"Topic1\", \"Topic1\", \"Topic1\", \"Topic1\", \"Topic1\", \"Topic1\", \"Topic1\", \"Topic1\", \"Topic1\", \"Topic1\", \"Topic1\", \"Topic1\", \"Topic1\", \"Topic1\", \"Topic1\", \"Topic1\", \"Topic1\", \"Topic1\", \"Topic1\", \"Topic1\", \"Topic1\", \"Topic1\", \"Topic1\", \"Topic1\", \"Topic1\", \"Topic1\", \"Topic1\", \"Topic1\", \"Topic1\", \"Topic1\", \"Topic1\", \"Topic1\", \"Topic1\", \"Topic1\", \"Topic1\", \"Topic1\", \"Topic1\", \"Topic1\", \"Topic1\", \"Topic1\", \"Topic1\", \"Topic1\", \"Topic1\", \"Topic1\", \"Topic1\", \"Topic1\", \"Topic1\", \"Topic1\", \"Topic1\", \"Topic1\", \"Topic1\", \"Topic1\", \"Topic1\", \"Topic1\", \"Topic1\", \"Topic1\", \"Topic1\", \"Topic1\", \"Topic1\", \"Topic1\", \"Topic1\", \"Topic1\", \"Topic1\", \"Topic1\", \"Topic1\", \"Topic1\", \"Topic1\", \"Topic2\", \"Topic2\", \"Topic2\", \"Topic2\", \"Topic2\", \"Topic2\", \"Topic2\", \"Topic2\", \"Topic2\", \"Topic2\", \"Topic2\", \"Topic2\", \"Topic2\", \"Topic2\", \"Topic2\", \"Topic2\", \"Topic2\", \"Topic2\", \"Topic2\", \"Topic2\", \"Topic2\", \"Topic2\", \"Topic2\", \"Topic2\", \"Topic2\", \"Topic2\", \"Topic2\", \"Topic2\", \"Topic2\", \"Topic2\", \"Topic2\", \"Topic2\", \"Topic2\", \"Topic2\", \"Topic2\", \"Topic2\", \"Topic2\", \"Topic2\", \"Topic2\", \"Topic2\", \"Topic2\", \"Topic2\", \"Topic2\", \"Topic2\", \"Topic2\", \"Topic2\", \"Topic2\", \"Topic2\", \"Topic2\", \"Topic2\", \"Topic2\", \"Topic2\", \"Topic2\", \"Topic2\", \"Topic2\", \"Topic2\", \"Topic2\", \"Topic2\", \"Topic2\", \"Topic2\", \"Topic2\", \"Topic2\", \"Topic2\", \"Topic2\", \"Topic2\", \"Topic2\", \"Topic2\", \"Topic3\", \"Topic3\", \"Topic3\", \"Topic3\", \"Topic3\", \"Topic3\", \"Topic3\", \"Topic3\", \"Topic3\", \"Topic3\", \"Topic3\", \"Topic3\", \"Topic3\", \"Topic3\", \"Topic3\", \"Topic3\", \"Topic3\", \"Topic3\", \"Topic3\", \"Topic3\", \"Topic3\", \"Topic3\", \"Topic3\", \"Topic3\", \"Topic3\", \"Topic3\", \"Topic3\", \"Topic3\", \"Topic3\", \"Topic3\", \"Topic3\", \"Topic3\", \"Topic3\", \"Topic3\", \"Topic3\", \"Topic3\", \"Topic3\", \"Topic3\", \"Topic3\", \"Topic3\", \"Topic3\", \"Topic3\", \"Topic3\", \"Topic3\", \"Topic3\", \"Topic3\", \"Topic3\", \"Topic3\", \"Topic3\", \"Topic3\", \"Topic3\", \"Topic3\", \"Topic3\", \"Topic3\", \"Topic3\", \"Topic3\", \"Topic3\", \"Topic3\", \"Topic3\", \"Topic3\", \"Topic3\", \"Topic3\", \"Topic3\", \"Topic3\", \"Topic4\", \"Topic4\", \"Topic4\", \"Topic4\", \"Topic4\", \"Topic4\", \"Topic4\", \"Topic4\", \"Topic4\", \"Topic4\", \"Topic4\", \"Topic4\", \"Topic4\", \"Topic4\", \"Topic4\", \"Topic4\", \"Topic4\", \"Topic4\", \"Topic4\", \"Topic4\", \"Topic4\", \"Topic4\", \"Topic4\", \"Topic4\", \"Topic4\", \"Topic4\", \"Topic4\", \"Topic4\", \"Topic4\", \"Topic4\", \"Topic4\", \"Topic4\", \"Topic4\", \"Topic4\", \"Topic4\", \"Topic4\", \"Topic4\", \"Topic4\", \"Topic4\", \"Topic4\", \"Topic4\", \"Topic4\", \"Topic4\", \"Topic4\", \"Topic4\", \"Topic4\", \"Topic4\", \"Topic4\", \"Topic4\", \"Topic4\", \"Topic4\", \"Topic4\", \"Topic4\", \"Topic4\", \"Topic4\", \"Topic4\", \"Topic4\", \"Topic4\", \"Topic4\", \"Topic4\", \"Topic4\", \"Topic4\", \"Topic4\", \"Topic4\", \"Topic4\", \"Topic4\", \"Topic4\", \"Topic4\", \"Topic4\", \"Topic4\", \"Topic4\", \"Topic5\", \"Topic5\", \"Topic5\", \"Topic5\", \"Topic5\", \"Topic5\", \"Topic5\", \"Topic5\", \"Topic5\", \"Topic5\", \"Topic5\", \"Topic5\", \"Topic5\", \"Topic5\", \"Topic5\", \"Topic5\", \"Topic5\", \"Topic5\", \"Topic5\", \"Topic5\", \"Topic5\", \"Topic5\", \"Topic5\", \"Topic5\", \"Topic5\", \"Topic5\", \"Topic5\", \"Topic5\", \"Topic5\", \"Topic5\", \"Topic5\", \"Topic5\", \"Topic5\", \"Topic5\", \"Topic5\", \"Topic5\", \"Topic5\", \"Topic5\", \"Topic5\", \"Topic5\", \"Topic5\", \"Topic5\", \"Topic5\", \"Topic5\", \"Topic5\", \"Topic5\", \"Topic5\", \"Topic5\", \"Topic5\", \"Topic5\", \"Topic5\", \"Topic5\"], \"logprob\": [30.0, 29.0, 28.0, 27.0, 26.0, 25.0, 24.0, 23.0, 22.0, 21.0, 20.0, 19.0, 18.0, 17.0, 16.0, 15.0, 14.0, 13.0, 12.0, 11.0, 10.0, 9.0, 8.0, 7.0, 6.0, 5.0, 4.0, 3.0, 2.0, 1.0, -5.6271, -6.1376, -6.3474, -5.6946, -5.0211, -6.5106, -6.5111, -6.054, -6.434, -6.6047, -5.9121, -6.6115, -5.5747, -5.967, -5.3241, -6.7117, -6.7121, -6.716, -6.8221, -6.6226, -6.8257, -6.7266, -6.9498, -6.9529, -6.8394, -6.96, -6.8436, -5.4608, -6.9668, -6.7475, -5.2273, -5.2089, -5.8384, -5.7653, -5.5481, -6.2786, -5.1799, -4.6003, -5.7461, -5.7202, -5.3513, -4.2379, -4.2207, -5.7094, -4.7822, -5.5805, -4.7889, -4.3429, -5.6462, -5.3487, -4.5552, -4.9157, -4.7047, -4.397, -4.8723, -5.3231, -4.9607, -4.949, -5.3082, -5.4165, -4.8557, -5.2029, -5.4206, -5.068, -5.4311, -5.3264, -5.4557, -5.7592, -5.8242, -5.8959, -5.6504, -5.9764, -6.0616, -6.0619, -5.8407, -6.0659, -4.4412, -6.1549, -6.1553, -6.1557, -6.1558, -6.1558, -6.2565, -6.257, -6.259, -6.2599, -5.4777, -6.3766, -6.3785, -6.3789, -6.5018, -6.5025, -6.5041, -6.5043, -6.5044, -6.1848, -6.5056, -3.4565, -4.854, -5.9073, -3.5926, -5.4312, -4.6602, -5.348, -5.4988, -5.6442, -5.382, -4.3794, -4.8842, -5.4298, -5.7139, -4.8939, -5.2843, -5.3262, -5.5858, -5.6499, -4.5924, -4.8693, -4.9096, -5.1505, -5.013, -5.3476, -4.7251, -5.1381, -5.1215, -5.1406, -5.0673, -5.364, -5.0189, -5.0291, -5.2301, -5.2526, -5.3285, -5.3701, -5.7307, -6.0148, -5.5479, -6.1262, -6.2582, -6.4082, -6.4082, -6.4085, -6.4243, -6.5836, -6.5843, -6.5846, -5.7405, -6.3066, -5.5918, -6.6448, -6.6489, -6.1533, -6.2576, -4.5653, -6.4091, -5.9139, -5.4572, -5.1199, -6.4289, -6.5811, -5.9451, -6.5839, -6.3395, -6.5841, -4.8676, -6.1509, -4.4847, -5.6016, -5.4374, -4.9332, -4.8553, -5.1114, -5.3908, -4.9805, -5.2837, -5.0414, -4.213, -4.9353, -5.2582, -4.9506, -5.5475, -5.2443, -5.3718, -5.1387, -4.5922, -4.9468, -5.6516, -5.2422, -5.0041, -4.7915, -5.0918, -4.9006, -5.3352, -5.2154, -5.2225, -5.1168, -5.336, -5.3701, -5.8292, -6.1337, -6.4052, -6.281, -6.5848, -6.4452, -6.4752, -6.1552, -6.3806, -6.2633, -6.1965, -6.2939, -6.5751, -6.4438, -6.4486, -5.8859, -6.3491, -6.3621, -5.8642, -6.6254, -6.7859, -6.3959, -6.6501, -6.5279, -6.0552, -6.4409, -5.8568, -6.8528, -6.448, -6.247, -4.6829, -6.095, -5.8443, -5.7472, -5.2811, -5.8897, -4.6423, -5.9448, -4.3604, -4.2105, -5.0597, -4.7027, -5.7863, -4.9024, -4.8049, -5.4552, -5.3399, -4.838, -5.8643, -4.6821, -5.5272, -4.9076, -5.5076, -4.7093, -5.4017, -5.7113, -4.9047, -5.424, -5.2064, -5.3169, -5.2273, -5.3786, -5.4801, -5.229, -5.1709, -5.3156, -5.4377, -5.4295, -5.3976, -5.382, -5.436, -4.2983, -5.1403, -5.0669, -5.1429, -5.2241, -5.0355, -5.5494, -5.6739, -5.8172, -4.8724, -5.9921, -5.9929, -4.2561, -4.925, -6.0345, -4.9316, -5.2574, -5.9478, -5.2714, -5.0264, -5.8492, -5.9897, -5.8831, -5.0763, -5.4228, -4.9302, -6.2258, -4.6002, -5.5764, -6.1361, -5.0746, -4.9084, -5.2732, -5.1118, -5.3259, -4.8761, -5.4818, -5.2617, -4.7831, -4.6227, -5.3848, -5.2168, -4.8773, -5.2719, -5.0409, -5.1085, -5.112, -5.0755, -5.1902, -5.1906, -5.2482, -5.2521], \"loglift\": [30.0, 29.0, 28.0, 27.0, 26.0, 25.0, 24.0, 23.0, 22.0, 21.0, 20.0, 19.0, 18.0, 17.0, 16.0, 15.0, 14.0, 13.0, 12.0, 11.0, 10.0, 9.0, 8.0, 7.0, 6.0, 5.0, 4.0, 3.0, 2.0, 1.0, 0.9801, 0.9696, 0.9553, 0.9509, 0.9501, 0.947, 0.9465, 0.9446, 0.9439, 0.9403, 0.9396, 0.9343, 0.9341, 0.9313, 0.9304, 0.9297, 0.9292, 0.9254, 0.925, 0.9235, 0.9216, 0.916, 0.9158, 0.913, 0.9088, 0.9066, 0.9051, 0.902, 0.8999, 0.8962, 0.8916, 0.8887, 0.8913, 0.8875, 0.8723, 0.8948, 0.857, 0.8195, 0.869, 0.8593, 0.8189, 0.72, 0.7176, 0.8392, 0.7436, 0.8148, 0.7022, 0.6379, 0.8122, 0.7591, 0.5787, 0.6543, 0.5828, 0.4955, 0.6048, 0.6877, 0.5139, 0.4129, 0.6003, 0.6395, 0.177, 0.2983, 0.5766, -0.0484, 0.5636, 0.2184, 0.2235, 1.47, 1.4698, 1.467, 1.4611, 1.4607, 1.4556, 1.4554, 1.4528, 1.4515, 1.4495, 1.4493, 1.449, 1.4486, 1.4485, 1.4484, 1.4431, 1.4425, 1.4406, 1.4397, 1.4349, 1.4286, 1.4266, 1.4259, 1.421, 1.4203, 1.4188, 1.4186, 1.4185, 1.4179, 1.4173, 1.3992, 1.3872, 1.3892, 1.246, 1.3532, 1.2833, 1.3233, 1.3271, 1.3127, 1.2503, 0.9821, 1.1061, 1.2052, 1.2493, 0.9239, 1.0271, 1.0406, 1.1477, 1.172, 0.549, 0.7127, 0.6907, 0.7736, 0.643, 0.896, 0.2946, 0.681, 0.6495, 0.6437, 0.5012, 0.7627, -0.0806, -0.0713, -0.0028, -0.22, 0.1727, 0.1172, 1.7173, 1.6954, 1.6934, 1.6892, 1.675, 1.6584, 1.6584, 1.6581, 1.6426, 1.637, 1.6362, 1.636, 1.6354, 1.6276, 1.5815, 1.577, 1.5729, 1.5598, 1.5567, 1.5541, 1.5226, 1.5218, 1.5109, 1.4959, 1.4948, 1.4889, 1.4886, 1.4812, 1.4801, 1.4713, 1.4597, 1.4617, 1.3668, 1.4221, 1.4023, 1.3496, 1.2733, 1.2707, 1.3228, 1.2115, 1.2729, 1.1944, 0.9284, 1.1486, 1.2299, 1.0997, 1.3168, 1.0901, 1.1553, 1.0032, 0.6351, 0.7526, 1.2727, 0.8419, 0.5779, 0.0471, 0.5152, 0.0802, 0.9084, 0.6066, 0.4336, -0.0972, 0.7821, 0.7875, 1.7194, 1.7027, 1.6814, 1.672, 1.6552, 1.6408, 1.6102, 1.5719, 1.5708, 1.569, 1.5313, 1.5289, 1.5068, 1.5065, 1.5017, 1.4946, 1.4831, 1.4699, 1.4562, 1.4531, 1.4505, 1.4355, 1.4323, 1.4243, 1.4085, 1.3951, 1.3923, 1.3877, 1.3742, 1.374, 1.3396, 1.365, 1.3485, 1.3226, 1.2135, 1.3043, 1.0579, 1.3085, 0.8669, 0.8222, 1.0262, 0.8658, 1.2457, 0.8685, 0.8021, 1.0939, 0.9946, 0.7068, 1.2663, 0.4518, 0.9999, 0.4539, 0.9214, 0.1833, 0.7403, 1.0548, 0.1149, 0.7046, 0.3756, 0.5051, 0.3728, 0.5375, 0.7119, 0.2583, 0.1166, 0.3839, 0.627, 0.5035, 0.3849, 0.0926, 0.4302, 2.3396, 2.3329, 2.3324, 2.3303, 2.329, 2.2938, 2.2899, 2.2831, 2.2727, 2.2689, 2.2511, 2.2502, 2.224, 2.2203, 2.2078, 2.1613, 2.1414, 2.1392, 2.1233, 2.1098, 2.0942, 2.091, 2.0724, 2.0576, 2.0412, 2.0398, 2.0168, 2.0143, 1.9718, 1.9475, 1.9364, 1.8912, 1.9115, 1.8674, 1.9159, 1.77, 1.9038, 1.7297, 1.2998, 1.0001, 1.7433, 1.4878, 0.61, 1.3254, 0.4604, 0.674, 0.488, 0.2864, 0.703, 0.4887, 1.0379, -0.3596]}, \"token.table\": {\"Topic\": [1, 2, 3, 4, 5, 1, 2, 3, 4, 1, 2, 3, 4, 5, 1, 2, 3, 1, 2, 3, 4, 2, 1, 2, 3, 4, 5, 1, 3, 4, 3, 2, 1, 2, 5, 1, 2, 3, 4, 1, 3, 4, 1, 2, 3, 5, 1, 2, 3, 4, 1, 5, 3, 5, 1, 3, 4, 5, 1, 4, 5, 1, 2, 3, 5, 1, 2, 4, 5, 1, 2, 3, 4, 1, 2, 3, 4, 5, 3, 4, 1, 2, 3, 4, 1, 2, 4, 5, 1, 1, 1, 2, 3, 2, 2, 3, 1, 2, 3, 4, 5, 2, 3, 4, 1, 1, 2, 3, 5, 1, 2, 1, 3, 4, 1, 3, 4, 5, 1, 2, 3, 4, 3, 4, 2, 3, 4, 1, 2, 3, 4, 5, 1, 2, 4, 1, 4, 5, 1, 2, 3, 4, 3, 4, 5, 2, 2, 3, 4, 1, 2, 3, 1, 2, 3, 4, 5, 1, 2, 3, 5, 2, 1, 3, 1, 3, 4, 5, 1, 2, 3, 4, 5, 2, 3, 4, 5, 1, 1, 2, 3, 4, 5, 1, 3, 1, 2, 4, 5, 2, 3, 2, 4, 1, 3, 2, 3, 4, 1, 2, 3, 4, 1, 2, 3, 4, 1, 2, 4, 3, 4, 4, 1, 2, 3, 4, 3, 4, 5, 1, 2, 3, 2, 3, 2, 1, 2, 3, 5, 4, 5, 5, 1, 2, 4, 5, 3, 3, 1, 2, 3, 4, 5, 1, 2, 3, 4, 5, 2, 2, 4, 1, 3, 4, 5, 1, 2, 3, 4, 5, 2, 5, 4, 1, 2, 3, 4, 5, 5, 1, 3, 1, 2, 3, 4, 5, 2, 4, 3, 2, 1, 3, 4, 5, 1, 2, 3, 4, 5, 1, 5, 1, 2, 3, 4, 5, 1, 2, 3, 4, 5, 2, 2, 1, 2, 3, 4, 5, 1, 2, 3, 4, 5, 1, 2, 3, 4, 5, 2, 2, 1, 2, 3, 4, 5, 3, 5, 1, 2, 3, 1, 5, 2, 1, 2, 5, 1, 1, 2, 3, 4, 5, 4, 5, 1, 2, 3, 4, 5, 3, 4, 5, 1, 3, 4, 5, 3, 1, 5, 2, 5, 1, 2, 3, 4, 5, 1, 2, 3, 4, 5, 1, 2, 3, 4, 5, 3, 4, 2, 3, 4, 2, 2, 1, 2, 3, 1, 2, 3, 4, 1, 2, 3, 4, 2, 3, 4, 1, 2, 3, 4, 2, 3, 2, 4, 2, 3, 5, 3, 1, 3, 4, 5, 3, 1, 2, 4, 5, 3, 4, 5, 1, 3, 3, 4, 5, 1, 3, 4, 5, 5, 3, 3, 4, 1, 2, 3, 4, 5, 1, 2, 3, 4, 5, 1, 2, 3, 4, 2, 3, 4, 5, 1, 2, 3, 4, 1, 2, 5, 1, 3, 1, 2, 3, 4, 5, 1, 1, 2, 3, 4, 1, 2, 3, 4, 5, 1, 5, 2, 1, 2, 3, 4, 5, 1, 2, 4, 5, 1, 2, 3, 4, 1, 3, 4, 5, 2, 1, 2, 3, 4, 1, 3, 5, 1, 1, 2, 3, 4, 5, 2, 3, 2, 3, 4, 1, 2, 3, 4, 5, 1, 2, 3, 4, 5, 1, 2, 3, 4, 5, 3, 4, 1, 2, 3, 1, 2, 3, 4, 1, 2, 3, 4, 1, 2, 3, 4, 5, 1, 2, 4, 5, 1, 2, 4, 5, 3, 5, 4, 1, 3, 4, 5, 1, 1, 3, 1, 2, 3, 4, 3, 4, 1, 2, 3, 4, 5, 3, 4, 1, 2, 3, 4, 5, 1, 2, 3, 4, 5, 1, 2, 3, 4, 5, 3, 4, 1, 2, 4, 1, 2, 3, 4, 5, 5, 1, 2, 3, 4, 5, 5, 1, 1, 3, 4, 5, 3, 4, 3, 1, 2, 3, 4, 2, 3, 4, 5, 1, 2, 3, 4, 3, 3, 4, 1, 2, 3, 4, 5, 1, 2, 3, 4, 5, 2, 3, 4, 2, 1, 2, 4, 1, 2, 4, 4, 2, 1, 2, 3, 5, 1, 1, 5, 2, 3, 1, 2, 3, 4, 5, 2, 3, 4, 2, 1, 2, 3, 4, 1, 1, 3, 1, 4, 2, 2, 3, 2, 3, 4, 4, 2, 1, 2, 3, 4, 1, 2, 3, 4, 1, 2, 3, 4, 5, 1, 2, 3, 5, 1, 2, 3, 4, 5, 1, 1, 2, 3, 4, 5, 1, 2, 3, 1, 2, 3, 4, 5, 1, 2, 5, 1, 2, 3, 5, 5, 1, 2, 3, 4, 5, 1, 2, 3, 4, 1, 2, 3, 4, 1, 5, 3, 4, 3, 4, 5, 3, 4, 2, 4, 5, 3, 4, 2, 3, 4, 3, 5, 1, 2, 4, 5, 2], \"Freq\": [0.37993247175719547, 0.4323369506202569, 0.10480895772612289, 0.013101119715765362, 0.07860671829459216, 0.09286587887849414, 0.5778321352439635, 0.061910585918996085, 0.2579607746624837, 0.5939082117238977, 0.1032883846476344, 0.04518866828334005, 0.1936657212143145, 0.0645552404047715, 0.320240887573291, 0.29736653846091304, 0.36598958579804686, 0.03183386856451352, 0.22283707995159466, 0.5730096341612434, 0.19100321138708115, 0.9621685652551887, 0.5469712518706576, 0.17092851620958052, 0.01709285162095805, 0.2563927743143708, 0.01709285162095805, 0.8034566035238434, 0.03090217705860936, 0.1545108852930468, 0.9259068729670745, 0.9356150108984206, 0.1277761330455956, 0.1916641995683934, 0.638880665227978, 0.06813493164718104, 0.13626986329436208, 0.13626986329436208, 0.6813493164718104, 0.12632379411610362, 0.8211046617546736, 0.06316189705805181, 0.9233047396335208, 0.962264418599888, 0.15749832150371101, 0.7874916075185551, 0.01286401624886101, 0.4373765524612743, 0.29587237372380326, 0.23155229247949818, 0.9078951951092976, 0.9234513664862305, 0.12284259995648363, 0.8598981996953854, 0.12172059216069575, 0.12172059216069575, 0.060860296080347875, 0.7303235529641745, 0.8917063937723514, 0.04053210880783416, 0.08106421761566832, 0.18639587879696998, 0.223675054556364, 0.074558351518788, 0.521908460631516, 0.5836589751652368, 0.06253489019627537, 0.3126744509813768, 0.04168992679751691, 0.08119955433563285, 0.21653214489502093, 0.3157760446385722, 0.3879534262702458, 0.43074659407010485, 0.1708133045450416, 0.007426665415001808, 0.3713332707500904, 0.014853330830003616, 0.24395426827512895, 0.7318628048253869, 0.22826683453051544, 0.42392412127095724, 0.24457160842555226, 0.08152386947518409, 0.8515411845125155, 0.08109916042976338, 0.04054958021488169, 0.020274790107440845, 0.8845525254983216, 0.8837891226382851, 0.4888292690172535, 0.1062672323950551, 0.38256203662219834, 0.9356368778138483, 0.17614839415552053, 0.7926677736998423, 0.3557583827063791, 0.03952870918959768, 0.11858612756879304, 0.07905741837919536, 0.39528709189597677, 0.8033245571915811, 0.13388742619859687, 0.04462914206619895, 0.9166514933448696, 0.01846696905512567, 0.7756127003152782, 0.1846696905512567, 0.01846696905512567, 0.9099989535635725, 0.032499962627270444, 0.028630482301895882, 0.6012401283398136, 0.3435657876227506, 0.9088826426054635, 0.052658778698514104, 0.42127022958811283, 0.526587786985141, 0.862771944021181, 0.0595015133807711, 0.02975075669038555, 0.02975075669038555, 0.2199453204130922, 0.7698086214458227, 0.9719336501454975, 0.25333159964147306, 0.6755509323772616, 0.5471022490402065, 0.12387220732985808, 0.08258147155323872, 0.12387220732985808, 0.12387220732985808, 0.7834561404828209, 0.06528801170690174, 0.15233869398277072, 0.8632825446838276, 0.07506804736381109, 0.037534023681905546, 0.11259866277168211, 0.09007893021734568, 0.45039465108672844, 0.3377959883150463, 0.1376486896411071, 0.6882434482055355, 0.1376486896411071, 0.9162306948141203, 0.025924533140461406, 0.6481133285115351, 0.31109439768553687, 0.8674854469989474, 0.03614522695828948, 0.07229045391657896, 0.18548132184849472, 0.09274066092424736, 0.6028142960076078, 0.04637033046212368, 0.04637033046212368, 0.2167346612406501, 0.03612244354010835, 0.0722448870802167, 0.6863264272620586, 0.9622141750417252, 0.9682323691721128, 0.9603998107657414, 0.8970655704538613, 0.6136682530010056, 0.3409268072227809, 0.03409268072227809, 0.29016554868394334, 0.03956802936599227, 0.2769762055619459, 0.3693016074159279, 0.026378686243994847, 0.2523891490377858, 0.08412971634592861, 0.6730377307674289, 0.9477881747618946, 0.898395934942198, 0.13533900359117995, 0.06766950179558998, 0.2706780071823599, 0.47368651256912986, 0.03383475089779499, 0.8843730351117686, 0.06316950250798346, 0.8802783670983094, 0.022006959177457736, 0.04401391835491547, 0.022006959177457736, 0.11990387418265157, 0.839327119278561, 0.15616372857508365, 0.6246549143003346, 0.9158273610697453, 0.04579136805348727, 0.8910196813705215, 0.85082946952879, 0.07734813359352637, 0.049238988724007865, 0.049238988724007865, 0.5908678646880944, 0.24619494362003935, 0.030584309607136536, 0.7523740163355588, 0.1773889957213919, 0.03670117152856384, 0.23163979263316659, 0.28954974079145823, 0.46327958526633317, 0.2441495048140868, 0.7324485144422603, 0.9446555905909755, 0.9116087346934207, 0.04797940708912741, 0.38690601921705986, 0.5803590288255898, 0.7742265888687276, 0.15484531777374552, 0.9206708033600225, 0.07354758435116808, 0.7722496356872649, 0.14709516870233616, 0.19601358664871574, 0.6860475532705052, 0.950058385618868, 0.8123227129073382, 0.08703457638292908, 0.05802305092195272, 0.02901152546097636, 0.1582779329663125, 0.7913896648315626, 0.8606363549730347, 0.8832370767828281, 0.043084735452820884, 0.021542367726410442, 0.043084735452820884, 0.900030885807714, 0.9262361384445199, 0.7442633691483738, 0.1998484972713226, 0.020673982476343715, 0.013782654984229144, 0.013782654984229144, 0.7434044675741681, 0.2027466729747731, 0.013516444864984874, 0.020274667297477313, 0.02703288972996975, 0.971877578731604, 0.15669490874104572, 0.7834745437052285, 0.05144844418277151, 0.7717266627415726, 0.10289688836554302, 0.05144844418277151, 0.15002627938751184, 0.12002102351000948, 0.24004204702001897, 0.42007358228503316, 0.06001051175500474, 0.312421700227899, 0.624843400455798, 0.7867537516970627, 0.3406826971897348, 0.14904868002050897, 0.021292668574358426, 0.447146040061527, 0.021292668574358426, 0.9377647187085906, 0.24587083124221068, 0.7376124937266321, 0.06541497355569414, 0.3270748677784707, 0.3107211243895472, 0.2780136376117001, 0.016353743388923536, 0.10988913185984135, 0.7692239230188895, 0.9453227446873017, 0.9621839141281118, 0.15606146871771379, 0.052020489572571264, 0.20808195829028506, 0.5722253852982839, 0.023675804400510553, 0.07102741320153166, 0.5682193056122533, 0.33146126160714773, 0.023675804400510553, 0.9547204848033745, 0.053040026933520806, 0.0814233531344449, 0.5536788013142253, 0.11399269438822286, 0.21170071814955674, 0.03256934125377796, 0.36676417816777834, 0.10478976519079382, 0.13098720648849227, 0.23577697167928607, 0.1440859271373415, 0.9502108000246724, 0.8733495287677521, 0.05639555947085381, 0.6203511541793919, 0.22558223788341525, 0.05639555947085381, 0.05639555947085381, 0.09611981443975232, 0.06407987629316822, 0.19223962887950463, 0.5446789484919298, 0.09611981443975232, 0.34453839191750946, 0.2932241633340506, 0.15394268575037656, 0.18326510208378163, 0.02932241633340506, 0.9356787590660507, 0.9351905698315763, 0.3885858169514818, 0.17419364208169874, 0.10719608743489153, 0.0937965765055301, 0.24119119672850595, 0.3139335353245452, 0.6278670706490904, 0.11611035103766695, 0.6579586558801127, 0.21286897690238943, 0.1364342533427342, 0.682171266713671, 0.9504954220850812, 0.8454985448102211, 0.10145982537722655, 0.033819941792408846, 0.946011757641461, 0.27209131226673283, 0.024735573842430258, 0.5441826245334657, 0.09894229536972103, 0.049471147684860516, 0.18401556006603914, 0.7360622402641566, 0.23147802709163798, 0.08680426015936424, 0.36168441733068435, 0.24594540378486535, 0.08680426015936424, 0.1380855135160941, 0.1380855135160941, 0.6904275675804705, 0.06163966479926727, 0.5136638733272273, 0.26710521413015814, 0.16437243946471272, 0.9011489669926738, 0.3221895676111742, 0.6443791352223484, 0.9247519157140611, 0.0486711534586348, 0.659716237970913, 0.05349050578142538, 0.05349050578142538, 0.16047151734427614, 0.07132067437523384, 0.7110168498167272, 0.07900187220185859, 0.03950093610092929, 0.05925140415139394, 0.09875234025232323, 0.10106075381859263, 0.050530376909296314, 0.6568948998208521, 0.16843458969765437, 0.033686917939530873, 0.7070083960498783, 0.27192630617303015, 0.07233952384118487, 0.7595650003324411, 0.18084880960296218, 0.9719237969087192, 0.9355599138102252, 0.9302283477773142, 0.018984251995455392, 0.037968503990910785, 0.07374466099129826, 0.7374466099129826, 0.1474893219825965, 0.03687233049564913, 0.10671572188170424, 0.6136154008197994, 0.24011037423383455, 0.05335786094085212, 0.042035113305458956, 0.5044213596655074, 0.4623862463600485, 0.006222038212777835, 0.8773073880016747, 0.09333057319166753, 0.018666114638333505, 0.8562472980218433, 0.1284370947032765, 0.8573986543743634, 0.07144988786453028, 0.25343295017659767, 0.08447765005886589, 0.6758212004709271, 0.9000452423070067, 0.20293894569715282, 0.06764631523238426, 0.06764631523238426, 0.6088168370914584, 0.9259116104256883, 0.12143814555670135, 0.060719072778350675, 0.060719072778350675, 0.7286288733402081, 0.3290474802170617, 0.5484124670284362, 0.05484124670284362, 0.1642447325211312, 0.7391012963450904, 0.18379197297268396, 0.09189598648634198, 0.6432719054043938, 0.2975027780108106, 0.5312549607335904, 0.021250198429343614, 0.1487513890054053, 0.9378369195988131, 0.8644316236167288, 0.15679076943714362, 0.6271630777485745, 0.1662379158162359, 0.41559478954058976, 0.26321003337570686, 0.12467843686217693, 0.041559478954058975, 0.027104029519443042, 0.027104029519443042, 0.7318087970249622, 0.1897282066361013, 0.027104029519443042, 0.9300840969937547, 0.8747010561412057, 0.12207973106170518, 0.732478386370231, 0.19322947485066766, 0.12881964990044512, 0.6440982495022255, 0.06440982495022256, 0.7661854537837872, 0.07297004321750354, 0.07297004321750354, 0.08513171708708747, 0.049739229196078455, 0.870436510931373, 0.07460884379411768, 0.1526062835637179, 0.7630314178185895, 0.6839474672625003, 0.014102009634278358, 0.18332612524561864, 0.09871406743994851, 0.028204019268556715, 0.9170291157600456, 0.060523549719286515, 0.12104709943857303, 0.24209419887714606, 0.6052354971928652, 0.3593359580593958, 0.1796679790296979, 0.10780078741781872, 0.2874687664475166, 0.08983398951484894, 0.25771988141572383, 0.670071691680882, 0.9356525919733379, 0.48650774338487296, 0.2610529354748099, 0.07119625512949361, 0.035598127564746805, 0.14239251025898722, 0.8107574690332323, 0.02316449911523521, 0.06949349734570562, 0.06949349734570562, 0.05087251301698576, 0.8139602082717722, 0.10174502603397152, 0.05087251301698576, 0.9232851936054342, 0.12254150942618577, 0.6127075471309289, 0.24508301885237155, 0.9355668752416252, 0.884389270173294, 0.0731732914910075, 0.146346582982015, 0.731732914910075, 0.17388097045021877, 0.21735121306277347, 0.6085833965757658, 0.8969418588223375, 0.4872872508601224, 0.04715683072839894, 0.04715683072839894, 0.2357841536419947, 0.17290837933746278, 0.13484602377886762, 0.8090761426732056, 0.8909266707528659, 0.8789405722014387, 0.06761081324626451, 0.4389893555660156, 0.0702382968905625, 0.17559574222640625, 0.12291701955848437, 0.17559574222640625, 0.08491466052720438, 0.38211597237241973, 0.08491466052720438, 0.12737199079080658, 0.3396586421088175, 0.6601924700683935, 0.10424091632658845, 0.09265859229030085, 0.10424091632658845, 0.046329296145150425, 0.13737559258483095, 0.6868779629241548, 0.08889619271454319, 0.7111695417163455, 0.17779238542908637, 0.1324751337364486, 0.37258631363376166, 0.4222644887849299, 0.0662375668682243, 0.10153112920523767, 0.35535895221833186, 0.15229669380785651, 0.393433125670296, 0.29254755517950065, 0.24573994635078053, 0.08191331545026018, 0.21063423972924045, 0.16382663090052035, 0.6515951442517707, 0.09582281533114274, 0.18206334912917121, 0.06707597073179991, 0.6413965512382676, 0.2526713686696206, 0.019436259128432352, 0.09718129564216176, 0.036976683116328304, 0.9244170779082076, 0.9176889789929262, 0.22781251356324494, 0.11390625678162247, 0.6264844122989236, 0.056953128390811236, 0.9078220824562295, 0.13377131818296853, 0.8026279090978111, 0.6492107630882724, 0.06574286208488835, 0.03287143104244417, 0.25475359057894237, 0.9259186736823221, 0.8581072090114503, 0.049857836284521256, 0.5235072809874732, 0.42379160841843067, 0.7345481325754027, 0.1836370331438507, 0.5296203050493637, 0.43031649785260806, 0.6430123635698873, 0.13639656196937006, 0.03897044627696287, 0.13639656196937006, 0.03897044627696287, 0.29922247984283634, 0.4094623408375655, 0.18898261884810716, 0.04724565471202679, 0.04724565471202679, 0.6008218410734333, 0.05777133087244551, 0.05777133087244551, 0.17331399261733652, 0.1039883955704019, 0.2440926628571355, 0.7322779885714065, 0.2034488112927342, 0.6917259583952963, 0.08137952451709368, 0.6990600640098692, 0.08897128087398334, 0.02542036596399524, 0.15252219578397144, 0.03813054894599286, 0.7358179106581735, 0.2601275571540639, 0.2861403128694703, 0.1820892900078447, 0.02601275571540639, 0.2601275571540639, 0.9205396868458489, 0.9345865689010537, 0.6819472582395092, 0.06199520529450084, 0.041330136863000556, 0.18598561588350251, 0.18289175744059494, 0.7315670297623798, 0.7209339371536153, 0.9315341590494628, 0.03726136636197851, 0.1373676473195168, 0.6868382365975841, 0.7678914102506766, 0.1023855213667569, 0.05119276068337845, 0.05119276068337845, 0.2398223861488888, 0.019985198845740734, 0.13989639192018513, 0.6195411642179627, 0.811080730781229, 0.1572582270071156, 0.7862911350355779, 0.4461637787893146, 0.136327821296735, 0.03718031489910955, 0.33462283409198595, 0.049573753198812735, 0.3550854968717681, 0.03550854968717681, 0.17754274843588405, 0.10652564906153043, 0.3550854968717681, 0.09050225952300459, 0.6787669464225344, 0.22625564880751145, 0.9505262699267393, 0.09883945498063855, 0.1976789099612771, 0.6918761848644699, 0.15540214396993965, 0.07770107198496982, 0.6993096478647284, 0.9193357918941361, 0.971957719537, 0.12074440889118582, 0.12074440889118582, 0.24148881778237163, 0.5433498400103363, 0.9099091515358722, 0.06117505106625759, 0.8564507149276063, 0.8029127324611547, 0.15293575856402947, 0.45368211194330216, 0.22684105597165108, 0.08506539598936916, 0.09924296198759736, 0.14177565998228192, 0.1368585911139227, 0.2737171822278454, 0.6158636600126522, 0.9259976236059566, 0.15525406331433386, 0.46576218994300156, 0.28832897472662, 0.08871660760819078, 0.9077899583791155, 0.8835431421074103, 0.9000213573052821, 0.12092980135636683, 0.725578808138201, 0.9045841474861541, 0.1540943929955961, 0.7704719649779805, 0.06666508037947824, 0.5999857234153041, 0.3333254018973912, 0.8265308064211823, 0.8908875764535893, 0.12087108971371062, 0.12087108971371062, 0.12087108971371062, 0.604355448568553, 0.08796114889358714, 0.30786402112755495, 0.3738348827977453, 0.24189315945736461, 0.3106364780484812, 0.2740910100427775, 0.109636404017111, 0.2740910100427775, 0.018272734002851836, 0.14489752623921964, 0.4709169602774638, 0.19923409857892702, 0.18112190779902457, 0.11964957588545744, 0.07976638392363829, 0.6381310713891063, 0.039883191961819144, 0.15953276784727657, 0.8978994050290068, 0.728280566819764, 0.17619691132736226, 0.035239382265472456, 0.046985843020629935, 0.011746460755157484, 0.837083310165435, 0.1395138850275725, 0.9145002282048873, 0.8986821248565194, 0.028083816401766232, 0.028083816401766232, 0.028083816401766232, 0.028083816401766232, 0.15651036019996117, 0.15651036019996117, 0.7825518009998058, 0.9072563636809432, 0.025201565657803977, 0.05040313131560795, 0.025201565657803977, 0.9502333065870189, 0.017515339644494404, 0.9283130011582034, 0.017515339644494404, 0.017515339644494404, 0.017515339644494404, 0.1709384577227787, 0.41957621441045684, 0.015539859792979883, 0.38849649482449705, 0.820330687341842, 0.054688712489456136, 0.03281322749367368, 0.09843968248102104, 0.9160490616847088, 0.8298680244051372, 0.7233083841887243, 0.24110279472957477, 0.05828279997850742, 0.11656559995701483, 0.7576763997205964, 0.1375274982804367, 0.8251649896826202, 0.07881697046750957, 0.07881697046750957, 0.7881697046750957, 0.7585287227629389, 0.10836124610899128, 0.05460078757584138, 0.4914070881825724, 0.43680630060673103, 0.07382824874232317, 0.885938984907878, 0.031578301994478225, 0.031578301994478225, 0.09473490598343468, 0.8210358518564338, 0.9264459431633081], \"Term\": [\"abril\", \"abril\", \"abril\", \"abril\", \"abril\", \"accionista\", \"accionista\", \"accionista\", \"accionista\", \"acci\\u00f3n\", \"acci\\u00f3n\", \"acci\\u00f3n\", \"acci\\u00f3n\", \"acci\\u00f3n\", \"actual\", \"actual\", \"actual\", \"administrativo\", \"administrativo\", \"administrativo\", \"administrativo\", \"agradecer\", \"alto\", \"alto\", \"alto\", \"alto\", \"alto\", \"alza\", \"alza\", \"alza\", \"ama\\u00f1ar\", \"andes\", \"antioquia\", \"antioquia\", \"antioquia\", \"anuncio\", \"anuncio\", \"anuncio\", \"anuncio\", \"aparente\", \"aparente\", \"aparente\", \"aprovechar\", \"arango\", \"armado\", \"armado\", \"asamblea\", \"asamblea\", \"asamblea\", \"asamblea\", \"asegurar\", \"ataque\", \"atentado\", \"atentado\", \"autoridad\", \"autoridad\", \"autoridad\", \"autoridad\", \"bajo\", \"bajo\", \"bajo\", \"barrancabermeja\", \"barrancabermeja\", \"barrancabermeja\", \"barrancabermeja\", \"barril\", \"barril\", \"barril\", \"barril\", \"bay\\u00f3n\", \"bay\\u00f3n\", \"bay\\u00f3n\", \"bay\\u00f3n\", \"bill\\u00f3n\", \"bill\\u00f3n\", \"bill\\u00f3n\", \"bill\\u00f3n\", \"bill\\u00f3n\", \"blindado\", \"blindado\", \"bogot\\u00e1\", \"bogot\\u00e1\", \"bogot\\u00e1\", \"bogot\\u00e1\", \"bolsa\", \"bolsa\", \"bolsa\", \"bolsa\", \"brent\", \"burs\\u00e1til\", \"buscar\", \"buscar\", \"buscar\", \"cabrera\", \"campa\\u00f1a\", \"campa\\u00f1a\", \"campo\", \"campo\", \"campo\", \"campo\", \"campo\", \"candidato\", \"candidato\", \"candidato\", \"carb\\u00f3n\", \"cargo\", \"cargo\", \"cargo\", \"cargo\", \"ca\\u00edda\", \"ca\\u00edda\", \"celular\", \"celular\", \"celular\", \"cemento\", \"cenit\", \"cenit\", \"cenit\", \"cerrar\", \"cerrar\", \"cerrar\", \"cerrar\", \"cesi\\u00f3n\", \"cesi\\u00f3n\", \"claudia\", \"colaboraci\\u00f3n\", \"colaboraci\\u00f3n\", \"colombiano\", \"colombiano\", \"colombiano\", \"colombiano\", \"colombiano\", \"combustible\", \"combustible\", \"combustible\", \"comenzar\", \"comenzar\", \"comenzar\", \"comercio\", \"comercio\", \"comercio\", \"comercio\", \"cometer\", \"cometer\", \"cometer\", \"comit\\u00e9\", \"competencia\", \"competencia\", \"competencia\", \"comportamiento\", \"comportamiento\", \"comportamiento\", \"comunicado\", \"comunicado\", \"comunicado\", \"comunicado\", \"comunicado\", \"comunidad\", \"comunidad\", \"comunidad\", \"comunidad\", \"consenso\", \"consumo\", \"contralor\\u00eda\", \"contraste\", \"contrataci\\u00f3n\", \"contrataci\\u00f3n\", \"contrataci\\u00f3n\", \"contrato\", \"contrato\", \"contrato\", \"contrato\", \"contrato\", \"corferia\", \"corferia\", \"corferia\", \"corregimiento\", \"cosa\", \"costo\", \"costo\", \"costo\", \"costo\", \"costo\", \"cotizaci\\u00f3n\", \"cotizaci\\u00f3n\", \"crecimiento\", \"crecimiento\", \"crecimiento\", \"crecimiento\", \"dedicar\", \"dedicar\", \"delegado\", \"delegado\", \"demanda\", \"demanda\", \"designar\", \"despedida\", \"despedida\", \"detalle\", \"detalle\", \"detalle\", \"detalle\", \"directivo\", \"directivo\", \"directivo\", \"directivo\", \"dividendo\", \"dividendo\", \"dividendo\", \"dominio\", \"dominio\", \"duplicar\", \"d\\u00f3lar\", \"d\\u00f3lar\", \"echeverry\", \"echeverry\", \"edici\\u00f3n\", \"edici\\u00f3n\", \"ej\\u00e9rcito\", \"elecci\\u00f3n\", \"elecci\\u00f3n\", \"elecci\\u00f3n\", \"electoral\", \"electoral\", \"elegir\", \"el\\u00e9ctrico\", \"el\\u00e9ctrico\", \"el\\u00e9ctrico\", \"el\\u00e9ctrico\", \"emerald\", \"emerald\", \"emergencia\", \"emisi\\u00f3n\", \"emisi\\u00f3n\", \"emisi\\u00f3n\", \"emisi\\u00f3n\", \"empa\\u00f1ada\", \"empa\\u00f1ar\", \"energ\\u00e9tico\", \"energ\\u00e9tico\", \"energ\\u00e9tico\", \"energ\\u00e9tico\", \"energ\\u00e9tico\", \"energ\\u00eda\", \"energ\\u00eda\", \"energ\\u00eda\", \"energ\\u00eda\", \"energ\\u00eda\", \"especialista\", \"estabilizaci\\u00f3n\", \"estabilizaci\\u00f3n\", \"establecer\", \"establecer\", \"establecer\", \"establecer\", \"estatal\", \"estatal\", \"estatal\", \"estatal\", \"estatal\", \"estudiante\", \"estudiante\", \"est\\u00e1ndar\", \"exploraci\\u00f3n\", \"exploraci\\u00f3n\", \"exploraci\\u00f3n\", \"exploraci\\u00f3n\", \"exploraci\\u00f3n\", \"explosivo\", \"factura\", \"factura\", \"felipe\", \"felipe\", \"felipe\", \"felipe\", \"felipe\", \"fepc\", \"fepc\", \"filtrar\", \"finalista\", \"fuerza\", \"fuerza\", \"fuerza\", \"fuerza\", \"funcionario\", \"funcionario\", \"funcionario\", \"funcionario\", \"funcionario\", \"f\\u00f3sil\", \"f\\u00f3sil\", \"general\", \"general\", \"general\", \"general\", \"general\", \"generar\", \"generar\", \"generar\", \"generar\", \"generar\", \"gerencia\", \"gerencial\", \"gerente\", \"gerente\", \"gerente\", \"gerente\", \"gerente\", \"gesti\\u00f3n\", \"gesti\\u00f3n\", \"gesti\\u00f3n\", \"gesti\\u00f3n\", \"gesti\\u00f3n\", \"gobierno\", \"gobierno\", \"gobierno\", \"gobierno\", \"gobierno\", \"gonzalo\", \"gonz\\u00e1lez\", \"grupo\", \"grupo\", \"grupo\", \"grupo\", \"grupo\", \"guillermo\", \"guillermo\", \"gustavo\", \"gustavo\", \"gustavo\", \"habitante\", \"habitante\", \"hern\\u00e1ndez\", \"hidr\\u00f3geno\", \"hidr\\u00f3geno\", \"hidr\\u00f3geno\", \"hogar\", \"hora\", \"hora\", \"hora\", \"hora\", \"hora\", \"incendio\", \"incendio\", \"industria\", \"industria\", \"industria\", \"industria\", \"industria\", \"ind\\u00edgena\", \"ind\\u00edgena\", \"ind\\u00edgena\", \"informaci\\u00f3n\", \"informaci\\u00f3n\", \"informaci\\u00f3n\", \"informaci\\u00f3n\", \"infracci\\u00f3n\", \"infraestructura\", \"infraestructura\", \"ingeniero\", \"ingeniero\", \"ingreso\", \"ingreso\", \"ingreso\", \"ingreso\", \"ingreso\", \"inversi\\u00f3n\", \"inversi\\u00f3n\", \"inversi\\u00f3n\", \"inversi\\u00f3n\", \"inversi\\u00f3n\", \"investigaci\\u00f3n\", \"investigaci\\u00f3n\", \"investigaci\\u00f3n\", \"investigaci\\u00f3n\", \"investigaci\\u00f3n\", \"irregularidad\", \"irregularidad\", \"isabel\", \"isabel\", \"isabel\", \"jaramillo\", \"javeri\\u00e1n\", \"jornada\", \"jornada\", \"jornada\", \"jos\\u00e9\", \"jos\\u00e9\", \"jos\\u00e9\", \"jos\\u00e9\", \"juan\", \"juan\", \"juan\", \"juan\", \"jueves\", \"jueves\", \"jueves\", \"junta\", \"junta\", \"junta\", \"junta\", \"kattan\", \"kattan\", \"kattar\", \"kattar\", \"labor\", \"labor\", \"labor\", \"lamentable\", \"lanzar\", \"lanzar\", \"lanzar\", \"lanzar\", \"leal\", \"leer\", \"leer\", \"leer\", \"leer\", \"libre\", \"libre\", \"libre\", \"licitaci\\u00f3n\", \"licitaci\\u00f3n\", \"llamado\", \"llamado\", \"llamado\", \"lugar\", \"lugar\", \"lugar\", \"lugar\", \"magdalena\", \"mandatario\", \"manifestaci\\u00f3n\", \"manifestaci\\u00f3n\", \"marzo\", \"marzo\", \"marzo\", \"marzo\", \"marzo\", \"mar\\u00eda\", \"mar\\u00eda\", \"mar\\u00eda\", \"mar\\u00eda\", \"mar\\u00eda\", \"matriz\", \"mec\\u00e1nico\", \"medio\", \"medio\", \"mensaje\", \"mensaje\", \"mensaje\", \"mensaje\", \"mercado\", \"mercado\", \"mercado\", \"mercado\", \"miembro\", \"miembro\", \"miembro\", \"millonario\", \"millonario\", \"mill\\u00f3n\", \"mill\\u00f3n\", \"mill\\u00f3n\", \"mill\\u00f3n\", \"mill\\u00f3n\", \"minero\", \"ministro\", \"ministro\", \"ministro\", \"ministro\", \"momento\", \"momento\", \"momento\", \"momento\", \"momento\", \"municipio\", \"municipio\", \"m\\u00f3nico\", \"nacional\", \"nacional\", \"nacional\", \"nacional\", \"nacional\", \"natural\", \"natural\", \"natural\", \"natural\", \"nombre\", \"nombre\", \"nombre\", \"nombre\", \"norte\", \"ocensa\", \"ocensa\", \"ocensa\", \"octubre\", \"oferta\", \"oficina\", \"oficina\", \"oficina\", \"oleoducto\", \"oleoducto\", \"oleoducto\", \"opep\", \"operaci\\u00f3n\", \"operaci\\u00f3n\", \"operaci\\u00f3n\", \"operaci\\u00f3n\", \"operaci\\u00f3n\", \"organismo\", \"organismo\", \"osp\\u00edn\", \"periodista\", \"periodista\", \"permitir\", \"permitir\", \"permitir\", \"permitir\", \"permitir\", \"persona\", \"persona\", \"persona\", \"persona\", \"persona\", \"pesos\", \"pesos\", \"pesos\", \"pesos\", \"pesos\", \"pesquisa\", \"pesquisa\", \"petici\\u00f3n\", \"petici\\u00f3n\", \"petici\\u00f3n\", \"petro\", \"petro\", \"petro\", \"petro\", \"petrolera\", \"petrolera\", \"petrolera\", \"petrolera\", \"petrolero\", \"petrolero\", \"petrolero\", \"petrolero\", \"petrolero\", \"petr\\u00f3leo\", \"petr\\u00f3leo\", \"petr\\u00f3leo\", \"petr\\u00f3leo\", \"plan\", \"plan\", \"plan\", \"plan\", \"polic\\u00eda\", \"polic\\u00eda\", \"poner \\u00e9l\", \"posici\\u00f3n\", \"posici\\u00f3n\", \"posici\\u00f3n\", \"posici\\u00f3n\", \"potencial\", \"precedente\", \"precedente\", \"precio\", \"precio\", \"precio\", \"precio\", \"premiar\", \"preocupar\", \"presidencia\", \"presidencia\", \"presidencia\", \"presidido\", \"presidido\", \"presunto\", \"presunto\", \"principal\", \"principal\", \"principal\", \"principal\", \"principal\", \"proceso\", \"proceso\", \"proceso\", \"proceso\", \"proceso\", \"producci\\u00f3n\", \"producci\\u00f3n\", \"producci\\u00f3n\", \"producci\\u00f3n\", \"producci\\u00f3n\", \"pronunciar\", \"pronunciar\", \"propuesta\", \"propuesta\", \"propuesta\", \"proyecto\", \"proyecto\", \"proyecto\", \"proyecto\", \"proyecto\", \"puente\", \"p\\u00fablico\", \"p\\u00fablico\", \"p\\u00fablico\", \"p\\u00fablico\", \"p\\u00fablico\", \"rechazar\", \"recorte\", \"registrar\", \"registrar\", \"registrar\", \"registrar\", \"regulador\", \"regulador\", \"rendir\", \"renovable\", \"renovable\", \"rentabilidad\", \"rentabilidad\", \"representante\", \"representante\", \"representante\", \"representante\", \"reserva\", \"reserva\", \"reserva\", \"reserva\", \"respeto\", \"restrictivo\", \"restrictivo\", \"resultado\", \"resultado\", \"resultado\", \"resultado\", \"resultado\", \"riesgo\", \"riesgo\", \"riesgo\", \"riesgo\", \"riesgo\", \"rueda\", \"rueda\", \"rueda\", \"russi\", \"r\\u00e9cord\", \"r\\u00e9cord\", \"r\\u00e9cord\", \"saldo\", \"saldo\", \"saldo\", \"saliente\", \"sandra\", \"santander\", \"santander\", \"santander\", \"santander\", \"santo\", \"sat\\u00e9lite\", \"sat\\u00e9lite\", \"sa\\u00fal\", \"sa\\u00fal\", \"sector\", \"sector\", \"sector\", \"sector\", \"sector\", \"sede\", \"sede\", \"sede\", \"selecci\\u00f3n\", \"semana\", \"semana\", \"semana\", \"semana\", \"significativo\", \"solar\", \"sombra\", \"sorpresivo\", \"sorpresivo\", \"soto\", \"super\", \"super\", \"superintendencia\", \"superintendencia\", \"superintendencia\", \"suspensi\\u00f3n\", \"s\\u00e1nchez\", \"s\\u00f3lido\", \"s\\u00f3lido\", \"s\\u00f3lido\", \"s\\u00f3lido\", \"tema\", \"tema\", \"tema\", \"tema\", \"tener\", \"tener\", \"tener\", \"tener\", \"tener\", \"trabajador\", \"trabajador\", \"trabajador\", \"trabajador\", \"trabajo\", \"trabajo\", \"trabajo\", \"trabajo\", \"trabajo\", \"transcurrir\", \"transici\\u00f3n\", \"transici\\u00f3n\", \"transici\\u00f3n\", \"transici\\u00f3n\", \"transici\\u00f3n\", \"transmisi\\u00f3n\", \"transmisi\\u00f3n\", \"transparencia\", \"transporte\", \"transporte\", \"transporte\", \"transporte\", \"transporte\", \"trasladar\", \"trasladar\", \"trasladar\", \"unidad\", \"unidad\", \"unidad\", \"unidad\", \"uniformado\", \"universidad\", \"universidad\", \"universidad\", \"universidad\", \"universidad\", \"utilidad\", \"utilidad\", \"utilidad\", \"utilidad\", \"valor\", \"valor\", \"valor\", \"valor\", \"variaci\\u00f3n\", \"vereda\", \"viaje\", \"viaje\", \"vicente\", \"vicente\", \"vicente\", \"vicepresidenta\", \"vicepresidenta\", \"video\", \"video\", \"video\", \"violaci\\u00f3n\", \"violaci\\u00f3n\", \"visita\", \"visita\", \"visita\", \"yond\\u00f3\", \"yond\\u00f3\", \"zona\", \"zona\", \"zona\", \"zona\", \"zuleta\"]}, \"R\": 30, \"lambda.step\": 0.01, \"plot.opts\": {\"xlab\": \"PC1\", \"ylab\": \"PC2\"}, \"topic.order\": [4, 1, 2, 3, 5]};\n",
       "\n",
       "function LDAvis_load_lib(url, callback){\n",
       "  var s = document.createElement('script');\n",
       "  s.src = url;\n",
       "  s.async = true;\n",
       "  s.onreadystatechange = s.onload = callback;\n",
       "  s.onerror = function(){console.warn(\"failed to load library \" + url);};\n",
       "  document.getElementsByTagName(\"head\")[0].appendChild(s);\n",
       "}\n",
       "\n",
       "if(typeof(LDAvis) !== \"undefined\"){\n",
       "   // already loaded: just create the visualization\n",
       "   !function(LDAvis){\n",
       "       new LDAvis(\"#\" + \"ldavis_el1634414710653725129082008177\", ldavis_el1634414710653725129082008177_data);\n",
       "   }(LDAvis);\n",
       "}else if(typeof define === \"function\" && define.amd){\n",
       "   // require.js is available: use it to load d3/LDAvis\n",
       "   require.config({paths: {d3: \"https://d3js.org/d3.v5\"}});\n",
       "   require([\"d3\"], function(d3){\n",
       "      window.d3 = d3;\n",
       "      LDAvis_load_lib(\"https://cdn.jsdelivr.net/gh/bmabey/pyLDAvis@3.3.1/pyLDAvis/js/ldavis.v3.0.0.js\", function(){\n",
       "        new LDAvis(\"#\" + \"ldavis_el1634414710653725129082008177\", ldavis_el1634414710653725129082008177_data);\n",
       "      });\n",
       "    });\n",
       "}else{\n",
       "    // require.js not available: dynamically load d3 & LDAvis\n",
       "    LDAvis_load_lib(\"https://d3js.org/d3.v5.js\", function(){\n",
       "         LDAvis_load_lib(\"https://cdn.jsdelivr.net/gh/bmabey/pyLDAvis@3.3.1/pyLDAvis/js/ldavis.v3.0.0.js\", function(){\n",
       "                 new LDAvis(\"#\" + \"ldavis_el1634414710653725129082008177\", ldavis_el1634414710653725129082008177_data);\n",
       "            })\n",
       "         });\n",
       "}\n",
       "</script>"
      ],
      "text/plain": [
       "<IPython.core.display.HTML object>"
      ]
     },
     "execution_count": 117,
     "metadata": {},
     "output_type": "execute_result"
    }
   ],
   "source": [
    "lda_display = pyLDAvis.gensim_models.prepare(lda_model, corpus, dictionary)\n",
    "pyLDAvis.save_html(lda_display, 'lda_model.html')\n",
    "pyLDAvis.display(lda_display)"
   ]
  },
  {
   "attachments": {},
   "cell_type": "markdown",
   "metadata": {},
   "source": [
    "### Incluir bigramas y trigramas\n",
    "\n",
    "[6 Tips for Interpretable Topic Models](https://towardsdatascience.com/6-tips-to-optimize-an-nlp-topic-model-for-interpretability-20742f3047e2)"
   ]
  },
  {
   "cell_type": "code",
   "execution_count": 17,
   "metadata": {},
   "outputs": [],
   "source": [
    "# Importar documento a procesar\n",
    "df = pd.read_csv('/Users/'+os.getlogin()+'/OneDrive - Accenture/ACNCustomerAnalysis/data/curated/curated_database.csv', encoding='utf-8-sig', index_col=[0])"
   ]
  },
  {
   "cell_type": "code",
   "execution_count": 5,
   "metadata": {},
   "outputs": [],
   "source": [
    "# Hasta el momento la única columna procesada ha sido el Contenido\n",
    "columna = 'Contenido'\n",
    "df[f'{columna} lematizado'] = df[f'{columna} lematizado'].apply(lambda x: x.replace('[', '').replace(']', '').replace('\\'', '').split(', '))\n",
    "df[f'{columna} procesado'] = df[f'{columna} procesado'].apply(lambda x: x.replace('[', '').replace(']', '').replace('\\'', '').split(', '))\n",
    "dictionary = Dictionary(df[f'{columna} lematizado'])\n",
    "# Filtrar los tokens de baja y alta frecuencia. Limitar el vocabulario \n",
    "# a un máximo de 100 palabras\n",
    "dictionary.filter_extremes(no_below=5, no_above=0.5)\n",
    "# Contar el número de ocurrencias de cada palabra única\n",
    "corpus = [dictionary.doc2bow(doc) for doc in df[f'{columna} lematizado']]"
   ]
  },
  {
   "cell_type": "code",
   "execution_count": 6,
   "metadata": {},
   "outputs": [],
   "source": [
    "bigram_measure = nltk.collocations.BigramAssocMeasures()\n",
    "\n",
    "finder = nltk.collocations.BigramCollocationFinder\\\n",
    "    .from_documents(df[f'{columna} procesado'])\n",
    "    \n",
    "# Filtrar aquellos que ocurren al menos 50 veces\n",
    "finder.apply_freq_filter(50)\n",
    "bigram_scores = finder.score_ngrams(bigram_measure.pmi)"
   ]
  },
  {
   "cell_type": "code",
   "execution_count": 7,
   "metadata": {},
   "outputs": [],
   "source": [
    "trigram_measure = nltk.collocations.TrigramAssocMeasures()\n",
    "\n",
    "finder = nltk.collocations.TrigramCollocationFinder\\\n",
    "    .from_documents(df[f'{columna} procesado'])\n",
    "    \n",
    "# Filtrar aquellos que ocurren al menos 50 veces\n",
    "finder.apply_freq_filter(50)\n",
    "trigram_scores = finder.score_ngrams(trigram_measure.pmi)"
   ]
  },
  {
   "attachments": {},
   "cell_type": "markdown",
   "metadata": {},
   "source": [
    "Para definir si dos palabras se consideran bigramas se utiliza la medida Pointwise Mutual Information (PMI). Mide la probabilidad de que las palabras coincidan más que si fueran independientes. La métrica es sensible a las combinaciones raras de palabras, por lo que se utiliza con un filtro de frecuencia de aparición para garantizar la relevancia de la frase.\n",
    "$$PMI(w_1, w_2) = log_2\\frac{P(w_1, w_2)}{P(w_1)P(w_2)}$$\n",
    "$$P(w_1) = \\frac{Freq(w)}{totalWordCount}$$"
   ]
  },
  {
   "cell_type": "code",
   "execution_count": 8,
   "metadata": {},
   "outputs": [],
   "source": [
    "bigram_pmi = pd.DataFrame(bigram_scores)\n",
    "bigram_pmi.columns = ['bigram', 'pmi']\n",
    "bigram_pmi.sort_values(by='pmi', axis = 0, ascending = False, inplace = True)"
   ]
  },
  {
   "cell_type": "code",
   "execution_count": 9,
   "metadata": {},
   "outputs": [],
   "source": [
    "trigram_pmi = pd.DataFrame(trigram_scores)\n",
    "trigram_pmi.columns = ['trigram', 'pmi']\n",
    "trigram_pmi.sort_values(by='pmi', axis = 0, ascending = False, inplace = True)"
   ]
  },
  {
   "attachments": {},
   "cell_type": "markdown",
   "metadata": {},
   "source": [
    "Además, filtramos los bigramas o trigramas con estructuras de sustantivos. Esto ayuda al modelo LDA a agrupar mejor los temas, ya que los sustantivos son mejores indicadores del tema del que se habla. Utilizamos el paquete NLTK para etiquetar las partes de la oración y filtrar estas estructuras."
   ]
  },
  {
   "cell_type": "code",
   "execution_count": 10,
   "metadata": {},
   "outputs": [],
   "source": [
    "# Filtro de bigramas de estructuras de tipo sustantivo\n",
    "def bigram_filter(bigram):\n",
    "    \"\"\"Función para identificar si alguna palabra del bigrama los sustantivos\n",
    "\n",
    "    Args:\n",
    "        bigram: Token etiquetado con su categoría gramatical\n",
    "\n",
    "    Returns:\n",
    "        bool: True si es un sustantivo\n",
    "    \"\"\"\n",
    "    tag = nltk.pos_tag(bigram)\n",
    "    if tag[0][1] not in ['JJ', 'NN'] and tag[1][1] not in ['NN']:\n",
    "        return False\n",
    "    if 'n' in bigram or 't' in bigram:\n",
    "        return False\n",
    "    if 'PRON' in bigram:\n",
    "        return False\n",
    "    return True"
   ]
  },
  {
   "cell_type": "code",
   "execution_count": 11,
   "metadata": {},
   "outputs": [],
   "source": [
    "# Filtro de trigramas de estructuras de tipo sustantivo\n",
    "def trigram_filter(trigram):\n",
    "    \"\"\"Función para identificar si alguna palabra del trigrama es un los sustantivos\n",
    "\n",
    "    Args:\n",
    "        bigram: Token etiquetado con su categoría gramatical\n",
    "\n",
    "    Returns:\n",
    "        bool: True si es un sustantivo\n",
    "    \"\"\"\n",
    "    tag = nltk.pos_tag(trigram)\n",
    "    if tag[0][1] not in ['JJ', 'NN'] and tag[1][1] not in ['JJ','NN']:\n",
    "        return False\n",
    "    if 'n' in trigram or 't' in trigram:\n",
    "         return False\n",
    "    if 'PRON' in trigram:\n",
    "        return False\n",
    "    return True "
   ]
  },
  {
   "cell_type": "code",
   "execution_count": 12,
   "metadata": {},
   "outputs": [],
   "source": [
    "# Puede fijar el umbral de PMI a lo que tenga sentido - ojee y seleccione el umbral donde los n-gramas dejan de tener sentido.\n",
    "# Elija los 500 mejores ngramas, en este caso clasificados por PMI, que tengan estructuras similares a sustantivos.\n",
    "filtered_bigram = bigram_pmi[bigram_pmi.apply(lambda bigram:\\\n",
    "                                              bigram_filter(bigram['bigram'])\\\n",
    "                                              and bigram.pmi > 5, axis = 1)][:500]\n",
    "\n",
    "filtered_trigram = trigram_pmi[trigram_pmi.apply(lambda trigram: \\\n",
    "                                                 trigram_filter(trigram['trigram'])\\\n",
    "                                                 and trigram.pmi > 5, axis = 1)][:500]\n",
    "\n",
    "\n",
    "bigrams = [' '.join(x) for x in filtered_bigram.bigram.values if len(x[0]) > 2 or len(x[1]) > 2]\n",
    "trigrams = [' '.join(x) for x in filtered_trigram.trigram.values if len(x[0]) > 2 or len(x[1]) > 2 and len(x[2]) > 2]"
   ]
  },
  {
   "cell_type": "code",
   "execution_count": 13,
   "metadata": {},
   "outputs": [],
   "source": [
    "def replace_ngram(x):\n",
    "    \"\"\"FUnción para reemplazar las palabras por los bigramas o trigramas\n",
    "\n",
    "    Args:\n",
    "        x (str): String a ser reemplazado\n",
    "\n",
    "    Returns:\n",
    "        str: String con la modificación del bigrama o trigrama\n",
    "    \"\"\"\n",
    "    for gram in trigrams:\n",
    "        x = x.replace(gram, '_'.join(gram.split()))\n",
    "    for gram in bigrams:\n",
    "        x = x.replace(gram, '_'.join(gram.split()))\n",
    "    return x"
   ]
  },
  {
   "cell_type": "code",
   "execution_count": 14,
   "metadata": {},
   "outputs": [],
   "source": [
    "reviews_w_ngrams = df.copy()"
   ]
  },
  {
   "cell_type": "code",
   "execution_count": 15,
   "metadata": {},
   "outputs": [],
   "source": [
    "reviews_w_ngrams['Contenido'] = reviews_w_ngrams['Contenido'].apply(lambda x: replace_ngram(x))"
   ]
  },
  {
   "cell_type": "code",
   "execution_count": 16,
   "metadata": {},
   "outputs": [],
   "source": [
    "def procesamiento(columna: str, df: pd.DataFrame):\n",
    "    \"\"\"Función para procesar el texto y obtener columnas tokenizada y radicalizada\n",
    "\n",
    "    Args:\n",
    "        columna (str): columna a procesar\n",
    "        df (pd.DataFrame): dataframe en donde se encuentra el texto a procesar\n",
    "\n",
    "    Returns:\n",
    "        pd.DataFrame: Data Frame con columna procesada\n",
    "    \"\"\"\n",
    "    # Modelo de spacy que se utilizará\n",
    "    # spacy.cli.download('es_core_news_md')\n",
    "    es = spacy.load('es_core_news_md')\n",
    "\n",
    "    # Etiquetas a remover del texto lematizado\n",
    "    # Tags I want to remove from the text\n",
    "    removal = ['ADV', 'PRON', 'CCONJ', 'PUNCT',\n",
    "               'PART', 'DET', 'ADP', 'SPACE', 'NUM', 'SYM']\n",
    "\n",
    "    # Convertir a objeto spaCy\n",
    "    aux = df[columna].str.lower().apply(es)\n",
    "\n",
    "    # Tokenización\n",
    "    df[f'{columna} procesado'] = aux.apply(\n",
    "        lambda x: [token for token in x])\n",
    "    # Normalización (minuscula, tamaño > 3 y solo letras)\n",
    "    df[f'{columna} procesado'] = df[f'{columna} procesado'].apply(\n",
    "        lambda x: [token for token in x if len(token) > 3 and token.is_alpha])\n",
    "    # Remover stopwords (combinación de contexto y spacy).\n",
    "    # Convertir Token a str\n",
    "    with open('../NLP_Analitycs/sw_es.txt', 'r', encoding='utf-8') as file:\n",
    "        stop_words_contexto = {line.split(None, 1)[0] for line in file}\n",
    "    es.Defaults.stop_words |= stop_words_contexto\n",
    "    df[f'{columna} procesado'] = df[f'{columna} procesado'].apply(\n",
    "        lambda x: [token for token in x if not token.is_stop])\n",
    "\n",
    "    # Segmentación en oraciones\n",
    "    df[f'{columna} segmentado'] = aux.apply(\n",
    "        lambda x: \", \".join([segment.orth_ for segment in x.sents]))\n",
    "\n",
    "    # Extracción de entidades\n",
    "    df[f'Entidades de {columna}'] = aux.apply(\n",
    "        lambda x: \", \".join([ent.text for ent in x.ents]))\n",
    "\n",
    "    # Radicalización (stemming)\n",
    "    stemmer = nltk.SnowballStemmer('spanish')\n",
    "    df[f'{columna} radicalizado'] = df[f'{columna} procesado'].apply(\n",
    "        lambda x: \", \".join([stemmer.stem(token.orth_) for token in x]))\n",
    "    \n",
    "    df[f'{columna} procesado'] = df[f'{columna} procesado'].apply(\n",
    "        lambda x: [token.text for token in x])"
   ]
  },
  {
   "cell_type": "code",
   "execution_count": 17,
   "metadata": {},
   "outputs": [],
   "source": [
    "procesamiento('Contenido', reviews_w_ngrams)"
   ]
  },
  {
   "cell_type": "code",
   "execution_count": 18,
   "metadata": {},
   "outputs": [],
   "source": [
    "reviews_w_ngrams.index.name = 'ID_Articulo'"
   ]
  },
  {
   "attachments": {},
   "cell_type": "markdown",
   "metadata": {},
   "source": [
    "### Extraer y asignar temas por clientes"
   ]
  },
  {
   "cell_type": "code",
   "execution_count": 19,
   "metadata": {},
   "outputs": [],
   "source": [
    "def mejor_puntaje(topicos: list, puntaje_v: list):\n",
    "    \"\"\"Función para obtener el mejor puntaje según el criterio definido:\n",
    "    valor mas a la izquierda que sea >= 0.9 veces el puntaje máximo.\n",
    "    Solo se consideran entre 2 y 12 topicos para que se mantenga interpretable\n",
    "    el resultado\n",
    "\n",
    "    Args:\n",
    "        topicos (list): lista de enteros entre 2 y 12\n",
    "        puntaje_v (list): puntaje correspondiente al número de tópicos\n",
    "\n",
    "    Returns:\n",
    "        int: entero que indica el número de tópicos a considerar.\n",
    "    \"\"\"\n",
    "    puntaje_max = max(puntaje_v)\n",
    "    for n in range(len(puntaje_v)):\n",
    "        if puntaje_v[n] >= puntaje_max*(0.9):\n",
    "            break\n",
    "    return topicos[n]"
   ]
  },
  {
   "cell_type": "code",
   "execution_count": 20,
   "metadata": {},
   "outputs": [],
   "source": [
    "def n_topicos(df: pd.DataFrame, columna: str, corpus: list, diccionario: Dictionary, n_iterations: int = 10, n_workers: int = 4, n_passes: int = 10, n_random_state: int = 100, max_topicos: int = 12, min_topicos: int = 2):\n",
    "    \"\"\"Función para obter los puntajes de coherencia para cada uno de los números de tópicos considerados (entre 2 y 12).\n",
    "\n",
    "    Args:\n",
    "        df (pd.DataFrame): data frame donde se encuentran los textos a analizar\n",
    "        columna (str): columna en donde se encuentran los textos\n",
    "        corpus (list): vector con el id de la palabra y el número de ocurrencias\n",
    "        diccionario (Dictionary): colección de palabras de valores únicos de los diferentes textos considerados mapeado con su id\n",
    "        n_iterations (int, optional): número de iteraciones. Por defecto 10.\n",
    "        n_workers (int, optional): equivale al número de cores del computador. Por defecto 4.\n",
    "        n_passes (int, optional): número de veces que pasa por el corpus para entrenarse. Por defecto 10.\n",
    "        n_random_state (int, optional): semilla para un generador de números pseudoaleatorios. Por defecto 100.\n",
    "        max_topicos (int, optional): número máximo de tópicos a considerar. Por defecto 12.\n",
    "        min_topicos (int, optional): número mínimo de tópicos a considerar. Por defecto 2.\n",
    "\n",
    "    Returns:\n",
    "        int: número de tópicos a considerar en el modelo LDA\n",
    "    \"\"\"\n",
    "    topicos = []\n",
    "    # puntaje_umass = []\n",
    "    puntaje_v = []\n",
    "    for i in tqdm(range(min_topicos,max_topicos + 1,1)):\n",
    "        lda_model = LdaMulticore(corpus=corpus, id2word=diccionario, iterations=n_iterations, num_topics=i, workers = n_workers, passes=n_passes, random_state=n_random_state)\n",
    "        # cm_umass = CoherenceModel(model=lda_model, corpus=corpus, dictionary=diccionario, coherence='u_mass')\n",
    "        cm_v = CoherenceModel(model=lda_model, texts = df[f'{columna} lematizado'], corpus=corpus, dictionary=diccionario, coherence='c_v')\n",
    "        topicos.append(i)\n",
    "        # puntaje_umass.append(cm_umass.get_coherence())\n",
    "        puntaje_v.append(cm_v.get_coherence())\n",
    "        \n",
    "    n = mejor_puntaje(topicos, puntaje_v)\n",
    "    return n"
   ]
  },
  {
   "cell_type": "code",
   "execution_count": 21,
   "metadata": {},
   "outputs": [],
   "source": [
    "def lda_model(df: pd.DataFrame, columna: str, filtro_inf: int = 1, filtro_sup: float = 0.5, iteraciones: int = 50, workers: int = 4, passes: int = 10, n_palabras: int = None):\n",
    "    \"\"\"Creación y ejecución del modelo LDA para la definición de tópicos y asignación de los mismos a los artículos\n",
    "\n",
    "    Args:\n",
    "        df (pd.DataFrame): dataframe que contiene los textos ya lematizados\n",
    "        columna (str): columna de la que se obtendrán los tópicos\n",
    "        filtro_inf (int, optional): número mínimo de apariciones de una palabra para ser considerada. Por defecto 1.\n",
    "        filtro_sup (float, optional): proporción máxima de artíulos en los que puede aparecer una palabra. Por defecto 0.2.\n",
    "        iteraciones (int, optional): número de iteraciones. Por defecto 50. \n",
    "        workers (int, optional):  equivale al número de cores del computador. Por defecto 4.\n",
    "        passes (int, optional): número de veces que pasa por el corpus para entrenarse. Por defecto 10.\n",
    "        n_palabras (int, optional): número máximo de palabras a considerar en el diccionario. Por defecto None.\n",
    "\n",
    "    Returns:\n",
    "        list, pd.DataFrame: lista de los tópicos y sus palabras correspondientes. Clasificación de los artículos por tema\n",
    "    \"\"\"\n",
    "    # El limite inferior se establece en 1 puesto que hay empresas con pocos artículos (2 en el caso de AES chivor)\n",
    "    # df[f'{columna} lematizado'] = df[f'{columna} lematizado'].apply(lambda x: x.replace('[', '').replace(']', '').replace('\\'', '').split(','))\n",
    "    diccionario = Dictionary(df[f'{columna} lematizado'])\n",
    "    # diccionario.filter_extremes(no_below=filtro_inf, no_above=filtro_sup, keep_n=n_palabras)\n",
    "    corpus = [diccionario.doc2bow(doc) for doc in df[f'{columna} lematizado']]\n",
    "    \n",
    "    n = n_topicos(df=df, columna=columna, corpus=corpus, diccionario=diccionario)\n",
    "    \n",
    "    lda_model = LdaMulticore(corpus=corpus, id2word=diccionario, iterations=iteraciones, num_topics=n, workers=workers, passes=passes)\n",
    "    \n",
    "    topic_data =  pyLDAvis.gensim_models.prepare(lda_model, corpus, diccionario, mds = 'pcoa')\n",
    "    \n",
    "    topicos = []\n",
    "    num_terms = 10 # Ajustar el número de palabras para representar cada tema\n",
    "    lambd = 0.6 # Ajústelo según el ajuste anterior\n",
    "    # Obtener las palabras que representa cada tópico\n",
    "    for i in range(1, n+1): # Ajustar esto para reflejar el número de temas elegidos para el modelo LDA final\n",
    "        topic = topic_data.topic_info[topic_data.topic_info.Category == 'Topic'+str(i)].copy()\n",
    "        topic['relevance'] = topic['loglift']*(1-lambd)+topic['logprob']*lambd\n",
    "        topicos.append([i, (\", \".join(topic.sort_values(by='relevance', ascending=False).Term[:num_terms].values))])\n",
    "        \n",
    "    df['ID_Topico'] = [sorted(lda_model[corpus][text])[0][0] for text in range(len(df[columna]))]\n",
    "    \n",
    "    return topicos, df[['ID_Articulo', 'ID_Topico']]"
   ]
  },
  {
   "cell_type": "code",
   "execution_count": 22,
   "metadata": {},
   "outputs": [],
   "source": [
    "# Guardar las palabras correspondientes a cada tópico \n",
    "# y el tópico al que corresponde a cada artículo\n",
    "topicos_general = {}\n",
    "empresa_topicos = {}\n",
    "\n",
    "empresas = reviews_w_ngrams['Empresa'].unique()\n",
    "for empresa in tqdm(empresas):\n",
    "    df_aux = reviews_w_ngrams[reviews_w_ngrams['Empresa'] == empresa].reset_index()\n",
    "\n",
    "    topicos_general[empresa], empresa_topicos[empresa] = lda_model(df=df_aux, columna='Contenido')"
   ]
  },
  {
   "cell_type": "code",
   "execution_count": 43,
   "metadata": {},
   "outputs": [],
   "source": [
    "# import numpy as np\n",
    "# np.save('topicos_general.npy', topicos_general)\n",
    "# np.save('empresa_topicos.npy', empresa_topicos)\n",
    "\n",
    "# Load\n",
    "# topicos_general = np.load('topicos_general.npy',allow_pickle='TRUE').item()\n",
    "# empresa_topicos = np.load('empresa_topicos.npy',allow_pickle='TRUE').item()"
   ]
  },
  {
   "cell_type": "code",
   "execution_count": 92,
   "metadata": {},
   "outputs": [],
   "source": [
    "# Ajustar los números de los tópicos de 0 a n\n",
    "for i in topicos_general.keys():\n",
    "    min_val = min(empresa_topicos[i]['ID_Topico'].unique())\n",
    "    if min_val > 1:\n",
    "        empresa_topicos[i]['ID_Topico'] = empresa_topicos[i]['ID_Topico'] - min_val + 1"
   ]
  },
  {
   "cell_type": "code",
   "execution_count": 99,
   "metadata": {},
   "outputs": [],
   "source": [
    "# Ajustar los tópicos para que no se repitan entre empresas, dado que se \n",
    "# obtienen individualmente\n",
    "count = 0\n",
    "topicos_mod = []\n",
    "df_topicos = pd.DataFrame()\n",
    "for i in topicos_general.keys():\n",
    "    aux = empresa_topicos[i].copy()\n",
    "    aux['ID_Topico'] = aux['ID_Topico'] + count\n",
    "    df_topicos = pd.concat([df_topicos, aux], ignore_index=True)\n",
    "    for j in topicos_general[i]:\n",
    "        topicos_mod.append([j[0] + count, j[1]])\n",
    "    count += len(topicos_general[i])\n",
    "    \n",
    "df_dict_topicos = pd.DataFrame(topicos_mod, columns=['ID_Topico', 'Topico'])\n",
    "\n",
    "df_topicos = df_topicos.set_index('ID_Articulo')\n",
    "df_dict_topicos = df_dict_topicos.set_index('ID_Topico')\n",
    "\n",
    "df_topicos.to_csv('../data/curated/topicos.csv', encoding='utf-8-sig')\n",
    "df_dict_topicos.to_csv('../data/curated/dict_topicos.csv', encoding='utf-8-sig')"
   ]
  }
 ],
 "metadata": {
  "kernelspec": {
   "display_name": "Python 3",
   "language": "python",
   "name": "python3"
  },
  "language_info": {
   "codemirror_mode": {
    "name": "ipython",
    "version": 3
   },
   "file_extension": ".py",
   "mimetype": "text/x-python",
   "name": "python",
   "nbconvert_exporter": "python",
   "pygments_lexer": "ipython3",
   "version": "3.11.1"
  },
  "orig_nbformat": 4,
  "vscode": {
   "interpreter": {
    "hash": "5238573367df39f7286bb46f9ff5f08f63a01a80960060ce41e3c79b190280fa"
   }
  }
 },
 "nbformat": 4,
 "nbformat_minor": 2
}
